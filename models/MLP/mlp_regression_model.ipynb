{
 "cells": [
  {
   "cell_type": "markdown",
   "id": "7f15a70c-bb00-45eb-93bd-fb5f25d79a31",
   "metadata": {},
   "source": [
    "# MLP Regression Model on engineered features"
   ]
  },
  {
   "cell_type": "markdown",
   "id": "14ff61cb-0c49-4ddf-8f04-3ace48a445c2",
   "metadata": {},
   "source": [
    "This notebook is to illustrate the Multi-layer Perceptron (MLP) regression modelling approach to predict the ring radius based on engineered features."
   ]
  },
  {
   "cell_type": "markdown",
   "id": "6272b4da-4ab1-4eef-a23f-c97b14f689f0",
   "metadata": {},
   "source": [
    "**Important conditions**:\n",
    "- **Train the regression model on muons only**  \n",
    "- **Test on testing portion of muons and all pions**  \n",
    "- **No selection on momentum range**  \n",
    "- **Only the in-time hits where delta <= 0.5 are included**"
   ]
  },
  {
   "cell_type": "markdown",
   "id": "9466ffaa-f75f-4f59-9962-727fd005ad1c",
   "metadata": {},
   "source": [
    "- **Regressors (Engineered features used for the models):**\n",
    "    - `total_in_time_hits`: total number of in-time hits in each event \n",
    "    - `x_aligned_min`: minimum hit position realigned by subtracting track position x in each event\n",
    "    - `x_aligned_max`: maximum hit position realigned by subtracting track position x in each event\n",
    "    - `y_aligned_min`: minimum hit position realigned by subtracting track position y in each event\n",
    "    - `y_aligned_max`: maximum hit position realigned by subtracting track position y in each event\n",
    "    - `x_aligned_width`: maximum hit position x minus minimum hit position x in each event\n",
    "    - `y_aligned_witdh`: maximum hit position y minus minimum hit position y in each event `\n",
    "    - `hit_distance_min`: minimum distance between hit position and track position in each event \n",
    "    - `hit_distance_max`: maximum distance between hit position and track position in each event \n",
    "    - `hit_distance_mean`: mean distance between hit position and track position in each event \n",
    "    - `hit_distance_median`: median distance between hit position and track position in each event\n",
    "    - `hit_distance_q25`: 25% percentile distance between hit position and track position in each event\n",
    "    - `hit_distance_q75`: 75% percentile distance between hit position and track position in each event\n",
    "    - `hit_distance_rms`: root mean squared distance between hit position and track position in each event \n",
    "    - `hull_area`: hull area of the convex hull\n",
    "    - `hull_diameter`: the longest line among all the points\n",
    "    - `hull_diff_width_diameter`: the absolute difference between `hull_diameter` and `hull_width`\n",
    "    - `hull_width`: closest distance of the parallel lines that encloses all points  "
   ]
  },
  {
   "cell_type": "markdown",
   "id": "8c4663d8-c3b5-4b8f-b5bb-c8f500d6c149",
   "metadata": {},
   "source": [
    "- **Target:**\n",
    "    - `ring_radius_cal`: calculated ring radius based on the particle mass and track momentum"
   ]
  },
  {
   "cell_type": "markdown",
   "id": "5378291b-b76b-4601-a103-c097788e85dd",
   "metadata": {},
   "source": [
    "## Imports"
   ]
  },
  {
   "cell_type": "code",
   "execution_count": 1,
   "id": "61ea46fa-07de-43ea-910d-3e77536e36b1",
   "metadata": {},
   "outputs": [],
   "source": [
    "import numpy as np\n",
    "import pandas as pd\n",
    "import torch\n",
    "from torch import nn\n",
    "import pyarrow as pa\n",
    "# import polars as pl\n",
    "from sklearn.metrics import make_scorer, mean_absolute_error, r2_score\n",
    "from sklearn.model_selection import train_test_split\n",
    "from sklearn.preprocessing import StandardScaler\n",
    "from torch.utils.data import DataLoader, TensorDataset, random_split\n",
    "import torch.optim as optim\n",
    "import seaborn as sns\n",
    "import matplotlib.pyplot as plt"
   ]
  },
  {
   "cell_type": "markdown",
   "id": "d86b52db-41fb-4549-a8af-f4a9b51e782b",
   "metadata": {},
   "source": [
    "## Read and pre-process data"
   ]
  },
  {
   "cell_type": "code",
   "execution_count": 2,
   "id": "6543235b-7181-4601-b30c-1696fa61ffba",
   "metadata": {},
   "outputs": [],
   "source": [
    "event_with_hit_features_path = '../../data/events_with_hit_features_[cut_off_time=0.5].parquet'\n",
    "df = pd.read_parquet(event_with_hit_features_path\n",
    "                    ).dropna()\n",
    "\n",
    "# filter df for muons only\n",
    "df_muons = df.query('label==0')"
   ]
  },
  {
   "cell_type": "code",
   "execution_count": 3,
   "id": "ff3af785-aa23-4d26-9cbd-2103744486b1",
   "metadata": {},
   "outputs": [],
   "source": [
    "# split for train and test dataset\n",
    "train_df, test_df_muon = train_test_split(df_muons, \n",
    "                                          random_state=42)\n",
    "# add pions data into test dataset\n",
    "test_df = pd.concat([test_df_muon, df.query('label==1')])"
   ]
  },
  {
   "cell_type": "code",
   "execution_count": 4,
   "id": "d47d4297-7c19-4d78-b2f5-4eef43633da8",
   "metadata": {},
   "outputs": [],
   "source": [
    "# select engineered features for model training\n",
    "input_features = ['total_in_time_hits','x_aligned_min','x_aligned_max','x_aligned_width',\n",
    "                  'y_aligned_min','y_aligned_max','y_aligned_width','hit_distance_min',\n",
    "                  'hit_distance_max','hit_distance_mean','hit_distance_median',\n",
    "                  'hit_distance_q25','hit_distance_q75','hit_distance_rms',\n",
    "                  'hull_area','hull_diameter','hull_diff_width_diameter','hull_width']\n",
    "\n",
    "X_train_raw, y_train = train_df[input_features], train_df['ring_radius_cal']\n",
    "X_test_raw, y_test = test_df[input_features], test_df['ring_radius_cal']"
   ]
  },
  {
   "cell_type": "code",
   "execution_count": 5,
   "id": "d7b4c4c4-8441-476f-bd2e-b4f59dbac965",
   "metadata": {},
   "outputs": [],
   "source": [
    "# Standardizing data\n",
    "scaler = StandardScaler()\n",
    "scaler.fit(X_train_raw)\n",
    "X_train = scaler.transform(X_train_raw)\n",
    "X_test = scaler.transform(X_test_raw)"
   ]
  },
  {
   "cell_type": "markdown",
   "id": "42914d03-7344-4d7a-a6e3-58d6dbe4a6c8",
   "metadata": {},
   "source": [
    "## Data loader for MLP"
   ]
  },
  {
   "cell_type": "code",
   "execution_count": 6,
   "id": "649ad737-4e74-4fbc-b9c4-c3953634bb12",
   "metadata": {},
   "outputs": [],
   "source": [
    "# convert data to tensors\n",
    "X_train = torch.tensor(X_train, dtype=torch.float32)\n",
    "y_train = torch.tensor(y_train.to_numpy().flatten(), dtype=torch.float32)\n",
    "X_test = torch.tensor(X_test, dtype=torch.float32)\n",
    "y_test = torch.tensor(y_test.to_numpy().flatten(), dtype=torch.float32)\n",
    "\n",
    "trainset = TensorDataset(X_train, y_train)\n",
    "\n",
    "# split trainset to train and validation\n",
    "train_size = int(0.6 * len(trainset)) # 60% of train data\n",
    "val_size = len(trainset) - train_size\n",
    "\n",
    "generator1 = torch.Generator().manual_seed(42)\n",
    "train_set, val_set = random_split(dataset=trainset, \n",
    "                                  lengths=[train_size, val_size],\n",
    "                                  generator=generator1)\n",
    "\n",
    "BATCH_SIZE = 1000 # adjust batch size based on computation resources\n",
    "trainloader = DataLoader(train_set, batch_size=BATCH_SIZE, shuffle=True)\n",
    "validloader = DataLoader(val_set, batch_size=BATCH_SIZE, shuffle=True)"
   ]
  },
  {
   "cell_type": "code",
   "execution_count": 7,
   "id": "a2117914-da9b-4506-b663-04987251b8d1",
   "metadata": {},
   "outputs": [
    {
     "name": "stdout",
     "output_type": "stream",
     "text": [
      "mps\n"
     ]
    }
   ],
   "source": [
    "# below code can be modified based on device availability\n",
    "device = torch.device('mps' if torch.backends.mps.is_available() else 'cpu')\n",
    "print(device)"
   ]
  },
  {
   "cell_type": "markdown",
   "id": "7f81466c-0b98-40ad-93da-6041cdceaec2",
   "metadata": {},
   "source": [
    "## MLP regression model"
   ]
  },
  {
   "cell_type": "code",
   "execution_count": 8,
   "id": "19a20984-09e4-43be-90e1-8b6f511b48b8",
   "metadata": {},
   "outputs": [],
   "source": [
    "def linear_block(input_size, output_size):\n",
    "    return nn.Sequential(\n",
    "        nn.Linear(input_size, output_size),\n",
    "        nn.ReLU()\n",
    "    )\n",
    "\n",
    "class MLPregression(nn.Module):\n",
    "    def __init__(self, input_size):\n",
    "        super().__init__()\n",
    "        self.main = nn.Sequential(\n",
    "            linear_block(input_size, 1024),\n",
    "            linear_block(1024, 512),\n",
    "            linear_block(512, 256),\n",
    "            linear_block(256, 64),\n",
    "            linear_block(64, 12),\n",
    "            nn.Linear(12, 1)\n",
    "        )\n",
    "        \n",
    "    def forward(self, x):\n",
    "        out = self.main(x)\n",
    "        return out"
   ]
  },
  {
   "cell_type": "code",
   "execution_count": 9,
   "id": "2b202dd0-270f-4843-9ec8-4a02c8b1b701",
   "metadata": {},
   "outputs": [
    {
     "data": {
      "text/plain": [
       "MLPregression(\n",
       "  (main): Sequential(\n",
       "    (0): Sequential(\n",
       "      (0): Linear(in_features=18, out_features=1024, bias=True)\n",
       "      (1): ReLU()\n",
       "    )\n",
       "    (1): Sequential(\n",
       "      (0): Linear(in_features=1024, out_features=512, bias=True)\n",
       "      (1): ReLU()\n",
       "    )\n",
       "    (2): Sequential(\n",
       "      (0): Linear(in_features=512, out_features=256, bias=True)\n",
       "      (1): ReLU()\n",
       "    )\n",
       "    (3): Sequential(\n",
       "      (0): Linear(in_features=256, out_features=64, bias=True)\n",
       "      (1): ReLU()\n",
       "    )\n",
       "    (4): Sequential(\n",
       "      (0): Linear(in_features=64, out_features=12, bias=True)\n",
       "      (1): ReLU()\n",
       "    )\n",
       "    (5): Linear(in_features=12, out_features=1, bias=True)\n",
       "  )\n",
       ")"
      ]
     },
     "execution_count": 9,
     "metadata": {},
     "output_type": "execute_result"
    }
   ],
   "source": [
    "model = MLPregression(len(input_features))\n",
    "model.to(device)"
   ]
  },
  {
   "cell_type": "markdown",
   "id": "50dc23a1-4e72-4e43-bf32-e72b3adcf3bf",
   "metadata": {},
   "source": [
    "## Trainer"
   ]
  },
  {
   "cell_type": "code",
   "execution_count": 10,
   "id": "abd14adf-cbef-4e2c-9f4e-d9b59b13f949",
   "metadata": {},
   "outputs": [],
   "source": [
    "# below code adopted from MDS DSCI 572 Lecture 5 notes\n",
    "def trainer(model, criterion, optimizer, trainloader, validloader, epochs=5, patience=5, verbose=True):\n",
    "    \"\"\"Training wrapper for PyTorch network.\"\"\"\n",
    "    \n",
    "    train_loss = []\n",
    "    valid_loss = []\n",
    "    \n",
    "    for epoch in range(epochs):\n",
    "        train_batch_loss = 0\n",
    "        valid_batch_loss = 0\n",
    "        \n",
    "        # Training\n",
    "        for X, y in trainloader:\n",
    "            X, y = X.to(device), y.to(device)\n",
    "            optimizer.zero_grad()       # Clear gradients w.r.t. parameters\n",
    "            y_hat = model(X).flatten()  # Forward pass to get output\n",
    "            loss = criterion(y_hat, y)  # Calculate loss\n",
    "            loss.backward()             # Getting gradients w.r.t. parameters\n",
    "            optimizer.step()            # Update parameters\n",
    "            train_batch_loss += loss.item()       # Add loss for this batch to running total\n",
    "            \n",
    "        train_loss.append(train_batch_loss / len(trainloader))\n",
    "            \n",
    "        # Validation\n",
    "        with torch.no_grad():  # this stops pytorch doing computational graph stuff under-the-hood\n",
    "\n",
    "            for X_valid, y_valid in validloader:\n",
    "                X_valid, y_valid = X_valid.to(device), y_valid.to(device)\n",
    "                y_hat = model(X_valid).flatten()  # Forward pass to get output\n",
    "                loss = criterion(y_hat, y_valid)  # Calculate loss based on output\n",
    "\n",
    "                valid_batch_loss += loss.item()\n",
    "            \n",
    "        valid_loss.append(valid_batch_loss / len(validloader))\n",
    "\n",
    "        # Print progress\n",
    "        if verbose:\n",
    "            print(f\"Epoch {epoch + 1:3}:\",\n",
    "                  f\"Train Loss: {train_loss[-1]:.3f}.\",\n",
    "                  f\"Valid Loss: {valid_loss[-1]:.3f}.\")\n",
    "        \n",
    "        # Early stopping\n",
    "        if epoch > 0 and valid_loss[-1] > valid_loss[-2]:\n",
    "            consec_increases += 1\n",
    "        else:\n",
    "            consec_increases = 0\n",
    "        if consec_increases == patience:\n",
    "            print(f\"Stopped early at epoch {epoch + 1} - val loss increased for {consec_increases} consecutive epochs!\")\n",
    "            break\n",
    "            \n",
    "    return train_loss, valid_loss"
   ]
  },
  {
   "cell_type": "markdown",
   "id": "d7603df1-29df-4f38-9126-92b7e3b236bb",
   "metadata": {},
   "source": [
    "## Model Training"
   ]
  },
  {
   "cell_type": "code",
   "execution_count": 11,
   "id": "93292f58-27d3-4eda-9f10-75c0e4f8c352",
   "metadata": {},
   "outputs": [],
   "source": [
    "LEARNING_RATE = 0.0001\n",
    "criterion = nn.MSELoss() # loss function\n",
    "optimizer = optim.Adam(model.parameters(), lr=LEARNING_RATE)"
   ]
  },
  {
   "cell_type": "code",
   "execution_count": 12,
   "id": "2f713aa2-1bc7-4f9b-84fc-5c4d525f1d62",
   "metadata": {},
   "outputs": [
    {
     "name": "stdout",
     "output_type": "stream",
     "text": [
      "Epoch   1: Train Loss: 5273.822. Valid Loss: 74.852.\n",
      "Epoch   2: Train Loss: 25.695. Valid Loss: 13.985.\n",
      "Epoch   3: Train Loss: 12.317. Valid Loss: 11.306.\n",
      "Epoch   4: Train Loss: 10.682. Valid Loss: 10.382.\n",
      "Epoch   5: Train Loss: 10.021. Valid Loss: 9.841.\n",
      "Epoch   6: Train Loss: 9.542. Valid Loss: 9.555.\n",
      "Epoch   7: Train Loss: 9.289. Valid Loss: 9.166.\n",
      "Epoch   8: Train Loss: 9.009. Valid Loss: 9.133.\n",
      "Epoch   9: Train Loss: 8.805. Valid Loss: 9.096.\n",
      "Epoch  10: Train Loss: 8.608. Valid Loss: 9.022.\n",
      "Epoch  11: Train Loss: 8.505. Valid Loss: 8.641.\n",
      "Epoch  12: Train Loss: 8.375. Valid Loss: 8.789.\n",
      "Epoch  13: Train Loss: 8.300. Valid Loss: 8.924.\n",
      "Epoch  14: Train Loss: 8.133. Valid Loss: 8.886.\n",
      "Epoch  15: Train Loss: 8.074. Valid Loss: 8.975.\n",
      "Epoch  16: Train Loss: 8.060. Valid Loss: 8.281.\n",
      "Epoch  17: Train Loss: 7.965. Valid Loss: 8.386.\n",
      "Epoch  18: Train Loss: 7.876. Valid Loss: 8.132.\n",
      "Epoch  19: Train Loss: 7.827. Valid Loss: 8.259.\n",
      "Epoch  20: Train Loss: 7.830. Valid Loss: 8.142.\n",
      "Epoch  21: Train Loss: 7.722. Valid Loss: 8.284.\n",
      "Epoch  22: Train Loss: 7.689. Valid Loss: 8.361.\n",
      "Epoch  23: Train Loss: 7.648. Valid Loss: 8.192.\n",
      "Epoch  24: Train Loss: 7.599. Valid Loss: 8.102.\n",
      "Epoch  25: Train Loss: 7.598. Valid Loss: 8.014.\n",
      "Epoch  26: Train Loss: 7.516. Valid Loss: 8.533.\n",
      "Epoch  27: Train Loss: 7.520. Valid Loss: 7.878.\n",
      "Epoch  28: Train Loss: 7.494. Valid Loss: 7.775.\n",
      "Epoch  29: Train Loss: 7.454. Valid Loss: 8.322.\n",
      "Epoch  30: Train Loss: 7.417. Valid Loss: 7.989.\n",
      "CPU times: user 5min 5s, sys: 24.4 s, total: 5min 30s\n",
      "Wall time: 8min 16s\n"
     ]
    }
   ],
   "source": [
    "%%time\n",
    "train_loss, valid_loss = trainer(model, \n",
    "                                 criterion, \n",
    "                                 optimizer, \n",
    "                                 trainloader,\n",
    "                                 validloader,\n",
    "                                 epochs=30, \n",
    "                                 patience=5,\n",
    "                                 verbose=True)"
   ]
  },
  {
   "cell_type": "markdown",
   "id": "32c2a99b-e471-45f7-9d14-e9bbee6e7e6c",
   "metadata": {},
   "source": [
    "## Save trained model"
   ]
  },
  {
   "cell_type": "code",
   "execution_count": 13,
   "id": "67d4dd3f-d604-4481-aa5f-037f4e4c0522",
   "metadata": {},
   "outputs": [],
   "source": [
    "# Save the trained model\n",
    "torch.save(model.state_dict(), '../../saved_models/mlp_model.pth')"
   ]
  },
  {
   "cell_type": "markdown",
   "id": "2f724791-e220-49bd-8820-769dbc38d17f",
   "metadata": {},
   "source": [
    "## Predictions and performance"
   ]
  },
  {
   "cell_type": "code",
   "execution_count": 14,
   "id": "e6134e04-aa55-4ddd-ba05-f2b4e9495f24",
   "metadata": {},
   "outputs": [],
   "source": [
    "# notice that tensor on mps cannot be converted to numpy directly so using to('cpu')\n",
    "y_test_pred_mlp = model(X_test.to(device)).detach().to('cpu').numpy().squeeze()"
   ]
  },
  {
   "cell_type": "code",
   "execution_count": 15,
   "id": "2dc8ebd9-13ee-4c13-9e0f-560432a916eb",
   "metadata": {},
   "outputs": [
    {
     "data": {
      "text/plain": [
       "array([187.30843, 142.57594, 184.54282, ..., 147.0641 , 171.66682,\n",
       "       181.7797 ], dtype=float32)"
      ]
     },
     "execution_count": 15,
     "metadata": {},
     "output_type": "execute_result"
    }
   ],
   "source": [
    "y_test_pred_mlp"
   ]
  },
  {
   "cell_type": "code",
   "execution_count": 16,
   "id": "e136bf2c-2413-445c-a083-dfac3aeb6092",
   "metadata": {},
   "outputs": [
    {
     "data": {
      "text/plain": [
       "0.9321453089398097"
      ]
     },
     "execution_count": 16,
     "metadata": {},
     "output_type": "execute_result"
    }
   ],
   "source": [
    "# evaluate r2 score on test dataset\n",
    "r2_score(y_test, y_test_pred_mlp)"
   ]
  },
  {
   "cell_type": "code",
   "execution_count": 17,
   "id": "d340586a-2227-43ac-895e-62040a170a62",
   "metadata": {},
   "outputs": [
    {
     "data": {
      "text/plain": [
       "1.9582067"
      ]
     },
     "execution_count": 17,
     "metadata": {},
     "output_type": "execute_result"
    }
   ],
   "source": [
    "# evaluate MAE score on test dataset\n",
    "mean_absolute_error(y_test, y_test_pred_mlp)"
   ]
  },
  {
   "cell_type": "code",
   "execution_count": 18,
   "id": "f13e294f-463d-4f2a-ab1b-9a140d63abcd",
   "metadata": {},
   "outputs": [
    {
     "data": {
      "text/html": [
       "<div>\n",
       "<style scoped>\n",
       "    .dataframe tbody tr th:only-of-type {\n",
       "        vertical-align: middle;\n",
       "    }\n",
       "\n",
       "    .dataframe tbody tr th {\n",
       "        vertical-align: top;\n",
       "    }\n",
       "\n",
       "    .dataframe thead th {\n",
       "        text-align: right;\n",
       "    }\n",
       "</style>\n",
       "<table border=\"1\" class=\"dataframe\">\n",
       "  <thead>\n",
       "    <tr style=\"text-align: right;\">\n",
       "      <th></th>\n",
       "      <th>theoretical_radius</th>\n",
       "      <th>predicted_radius_mlp</th>\n",
       "      <th>residual_mlp</th>\n",
       "    </tr>\n",
       "  </thead>\n",
       "  <tbody>\n",
       "    <tr>\n",
       "      <th>0</th>\n",
       "      <td>185.005157</td>\n",
       "      <td>187.308426</td>\n",
       "      <td>-2.303268</td>\n",
       "    </tr>\n",
       "    <tr>\n",
       "      <th>1</th>\n",
       "      <td>137.621536</td>\n",
       "      <td>142.575943</td>\n",
       "      <td>-4.954407</td>\n",
       "    </tr>\n",
       "    <tr>\n",
       "      <th>2</th>\n",
       "      <td>186.233276</td>\n",
       "      <td>184.542816</td>\n",
       "      <td>1.690460</td>\n",
       "    </tr>\n",
       "    <tr>\n",
       "      <th>3</th>\n",
       "      <td>184.253876</td>\n",
       "      <td>185.852341</td>\n",
       "      <td>-1.598465</td>\n",
       "    </tr>\n",
       "    <tr>\n",
       "      <th>4</th>\n",
       "      <td>148.973877</td>\n",
       "      <td>150.760544</td>\n",
       "      <td>-1.786667</td>\n",
       "    </tr>\n",
       "    <tr>\n",
       "      <th>...</th>\n",
       "      <td>...</td>\n",
       "      <td>...</td>\n",
       "      <td>...</td>\n",
       "    </tr>\n",
       "    <tr>\n",
       "      <th>755301</th>\n",
       "      <td>174.585281</td>\n",
       "      <td>174.644791</td>\n",
       "      <td>-0.059509</td>\n",
       "    </tr>\n",
       "    <tr>\n",
       "      <th>755302</th>\n",
       "      <td>176.125702</td>\n",
       "      <td>180.137817</td>\n",
       "      <td>-4.012115</td>\n",
       "    </tr>\n",
       "    <tr>\n",
       "      <th>755303</th>\n",
       "      <td>148.410736</td>\n",
       "      <td>147.064102</td>\n",
       "      <td>1.346634</td>\n",
       "    </tr>\n",
       "    <tr>\n",
       "      <th>755304</th>\n",
       "      <td>172.438187</td>\n",
       "      <td>171.666824</td>\n",
       "      <td>0.771362</td>\n",
       "    </tr>\n",
       "    <tr>\n",
       "      <th>755305</th>\n",
       "      <td>177.954163</td>\n",
       "      <td>181.779694</td>\n",
       "      <td>-3.825531</td>\n",
       "    </tr>\n",
       "  </tbody>\n",
       "</table>\n",
       "<p>755306 rows × 3 columns</p>\n",
       "</div>"
      ],
      "text/plain": [
       "        theoretical_radius  predicted_radius_mlp  residual_mlp\n",
       "0               185.005157            187.308426     -2.303268\n",
       "1               137.621536            142.575943     -4.954407\n",
       "2               186.233276            184.542816      1.690460\n",
       "3               184.253876            185.852341     -1.598465\n",
       "4               148.973877            150.760544     -1.786667\n",
       "...                    ...                   ...           ...\n",
       "755301          174.585281            174.644791     -0.059509\n",
       "755302          176.125702            180.137817     -4.012115\n",
       "755303          148.410736            147.064102      1.346634\n",
       "755304          172.438187            171.666824      0.771362\n",
       "755305          177.954163            181.779694     -3.825531\n",
       "\n",
       "[755306 rows x 3 columns]"
      ]
     },
     "execution_count": 18,
     "metadata": {},
     "output_type": "execute_result"
    }
   ],
   "source": [
    "# create a df with predictions & residuals for test dataset\n",
    "test_pred_df = pd.DataFrame(y_test_pred_mlp, y_test.numpy()).reset_index()\n",
    "test_pred_df.columns=['theoretical_radius', 'predicted_radius_mlp']\n",
    "test_pred_df['residual_mlp'] = test_pred_df['theoretical_radius'] - test_pred_df['predicted_radius_mlp']\n",
    "test_pred_df"
   ]
  },
  {
   "cell_type": "code",
   "execution_count": 19,
   "id": "eee527ad-98fd-4272-9e2d-29912ccb0b0e",
   "metadata": {},
   "outputs": [
    {
     "data": {
      "image/png": "[encoded data removed]",
      "text/plain": [
       "<Figure size 640x480 with 1 Axes>"
      ]
     },
     "metadata": {},
     "output_type": "display_data"
    }
   ],
   "source": [
    "# show the residual plot\n",
    "sns.scatterplot(data=test_pred_df, x='theoretical_radius', y='residual_mlp', s=1)\n",
    "plt.axhline(y=0, color='red', linestyle='--')\n",
    "plt.title('Residual Plot of Test Data - MLP Regression')\n",
    "plt.xlabel('Calculated Ring Radius, mm')\n",
    "plt.ylabel('Residual, mm')\n",
    "\n",
    "plt.savefig(\"../../figures/mlp_residual_plot.png\")"
   ]
  },
  {
   "cell_type": "code",
   "execution_count": null,
   "id": "f5bc292f-546a-4bed-a025-e35378a04074",
   "metadata": {},
   "outputs": [],
   "source": []
  }
 ],
 "metadata": {
  "kernelspec": {
   "display_name": "Python 3.11.4 ('calorich')",
   "language": "python",
   "name": "python3"
  },
  "language_info": {
   "codemirror_mode": {
    "name": "ipython",
    "version": 3
   },
   "file_extension": ".py",
   "mimetype": "text/x-python",
   "name": "python",
   "nbconvert_exporter": "python",
   "pygments_lexer": "ipython3",
   "version": "3.11.4"
  }
 },
 "nbformat": 4,
 "nbformat_minor": 5
}
