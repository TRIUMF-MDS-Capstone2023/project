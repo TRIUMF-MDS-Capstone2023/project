{
 "cells": [
  {
   "attachments": {},
   "cell_type": "markdown",
   "metadata": {},
   "source": [
    "# Imports"
   ]
  },
  {
   "cell_type": "code",
   "execution_count": null,
   "metadata": {},
   "outputs": [],
   "source": [
    "import pyarrow.parquet as pq\n",
    "import pandas as pd\n",
    "import numpy as np\n",
    "import torch\n",
    "device = 'cuda' if torch.cuda.is_available() else 'cpu'\n",
    "import time\n",
    "torch.backends.cudnn.benchmark = True\n",
    "import os\n",
    "import polars as pl\n",
    "from torch.utils.data import Dataset\n",
    "import platform\n",
    "import seaborn as sbn\n",
    "from sklearn.model_selection import train_test_split\n",
    "from torch.utils.data import DataLoader\n",
    "from torch.utils.data.sampler import SubsetRandomSampler\n",
    "import numpy as np\n",
    "import torch\n",
    "import torch.nn as nn\n",
    "import torch.nn.functional as F\n"
   ]
  },
  {
   "attachments": {},
   "cell_type": "markdown",
   "metadata": {},
   "source": [
    "# Dataset"
   ]
  },
  {
   "cell_type": "code",
   "execution_count": null,
   "metadata": {},
   "outputs": [],
   "source": [
    "class CalorichPointNetDataset(Dataset):\n",
    "    def __init__(self, point_net_dataset_path):\n",
    "        \"\"\"Constructor\n",
    "        \n",
    "        Parameters\n",
    "        ----------\n",
    "        \n",
    "        point_net_dataset_path : str\n",
    "            Path to the location of the parquet containing the RICH preprocessed data\n",
    "        \"\"\"\n",
    "        \n",
    "        self.point_net_dataset = (\n",
    "            pl.read_parquet(point_net_dataset_path)\n",
    "            .filter(pl.col('ring_radius_cal').is_not_nan())\n",
    "        )\n",
    "\n",
    "    def __len__(self):\n",
    "        \"\"\"Size of the dataset\"\"\"\n",
    "        return self.point_net_dataset.shape[0]\n",
    "\n",
    "    def __getitem__(self, idx):\n",
    "        \"\"\"Get a particular item of the dataset\n",
    "        \n",
    "        Parameters\n",
    "        ----------\n",
    "\n",
    "        idx : int\n",
    "            The index number for the desired item\n",
    "\n",
    "        Returns\n",
    "        -------\n",
    "\n",
    "        Dict : Dictionary containing a tensor with the calculated ring radius (ring_radius_cal)\n",
    "        and the hits assigned to the event in a 3 dimensional tensor each\n",
    "        \"\"\"\n",
    "        \n",
    "        # Add random noise to generate a 3rd dimension\n",
    "        noise = np.random.normal(0, 0.05, 50)\n",
    "        noise = np.expand_dims(noise, 1)\n",
    "        noise = torch.Tensor(noise)\n",
    "        \n",
    "        values = {\n",
    "            \"hits\": (\n",
    "                torch.cat((torch.tensor(self.point_net_dataset.select(\"hits_xy_adjusted\").row(idx)).squeeze(), noise), -1).to(device)\n",
    "            ),\n",
    "            \"ring_radius_cal\":(\n",
    "                torch.tensor(self.point_net_dataset.select(\"ring_radius_cal\").row(idx)).squeeze().to(device)\n",
    "            )\n",
    "        }\n",
    "\n",
    "        end = time.time()\n",
    "\n",
    "\n",
    "        return values"
   ]
  },
  {
   "attachments": {},
   "cell_type": "markdown",
   "metadata": {},
   "source": [
    "## Data Location"
   ]
  },
  {
   "cell_type": "code",
   "execution_count": null,
   "metadata": {},
   "outputs": [],
   "source": [
    "path = '.../data'\n",
    "train_file = 'point_net_[train_muons,cut_off_time=0.5,sample_size=50].parquet'"
   ]
  },
  {
   "cell_type": "code",
   "execution_count": null,
   "metadata": {},
   "outputs": [],
   "source": [
    "train_dataset = CalorichPointNetDataset(os.path.join(path, train_file))"
   ]
  },
  {
   "attachments": {},
   "cell_type": "markdown",
   "metadata": {},
   "source": [
    "# Data Loader"
   ]
  },
  {
   "attachments": {},
   "cell_type": "markdown",
   "metadata": {},
   "source": [
    "## Data Loader Parameters"
   ]
  },
  {
   "cell_type": "code",
   "execution_count": null,
   "metadata": {},
   "outputs": [],
   "source": [
    "batch_size = 15000\n",
    "validation_split = 0.2\n",
    "shuffle_dataset = True\n",
    "random_seed = 42\n",
    "num_workers = 0\n",
    "pin_memory = False\n",
    "dataset_used = train_dataset"
   ]
  },
  {
   "cell_type": "code",
   "execution_count": null,
   "metadata": {},
   "outputs": [],
   "source": [
    "indices = list(range(dataset_used.__len__()))\n",
    "split = int(np.floor(validation_split * dataset_used.__len__()))\n",
    "if shuffle_dataset :\n",
    "    np.random.seed(random_seed)\n",
    "    np.random.shuffle(indices)\n",
    "train_indices, val_indices = indices[split:], indices[:split]\n",
    "\n",
    "train_sampler = SubsetRandomSampler(train_indices)\n",
    "valid_sampler = SubsetRandomSampler(val_indices)\n",
    "\n",
    "train_loader = DataLoader(dataset_used, batch_size=batch_size, \n",
    "                                           sampler=train_sampler, num_workers = num_workers, pin_memory = pin_memory)\n",
    "validation_loader = DataLoader(dataset_used, batch_size=batch_size,\n",
    "                                                sampler=valid_sampler, num_workers = num_workers, pin_memory = pin_memory)"
   ]
  },
  {
   "attachments": {},
   "cell_type": "markdown",
   "metadata": {},
   "source": [
    "# PointNet"
   ]
  },
  {
   "cell_type": "code",
   "execution_count": null,
   "metadata": {},
   "outputs": [],
   "source": [
    "class PointNetRegression(nn.Module):\n",
    "    def __init__(self, num_features, num_output):\n",
    "        \"\"\"Initialize PointNet\n",
    "\n",
    "        Parameters\n",
    "        ----------\n",
    "\n",
    "        num_features : int\n",
    "            Number of dimensions of the input data \n",
    "        \"\"\"\n",
    "        \n",
    "        super(PointNetRegression, self).__init__()\n",
    "        \n",
    "        # Input transformation network\n",
    "        self.input_transform = nn.Sequential(\n",
    "            nn.Conv1d(num_features, 64, kernel_size=1),\n",
    "            nn.BatchNorm1d(64),\n",
    "            nn.ReLU(),\n",
    "            nn.Conv1d(64, 128, kernel_size=1),\n",
    "            nn.BatchNorm1d(128),\n",
    "            nn.ReLU(),\n",
    "            nn.Conv1d(128, 1024, kernel_size=1),\n",
    "            nn.BatchNorm1d(1024),\n",
    "            nn.ReLU()\n",
    "        )\n",
    "        \n",
    "        # Feature transformation network\n",
    "        self.feature_transform = nn.Sequential(\n",
    "            nn.Conv1d(1024, 512, kernel_size=1),\n",
    "            nn.BatchNorm1d(512),\n",
    "            nn.ReLU(),\n",
    "            nn.Conv1d(512, 256, kernel_size=1),\n",
    "            nn.BatchNorm1d(256),\n",
    "            nn.ReLU(),\n",
    "            nn.Conv1d(256, 128, kernel_size=1),\n",
    "            nn.BatchNorm1d(128),\n",
    "            nn.ReLU()\n",
    "        )\n",
    "        \n",
    "        # Fully connected layers for regression\n",
    "        self.fc_regression = nn.Sequential(\n",
    "            nn.Linear(128, 64),\n",
    "            nn.ReLU(),\n",
    "            nn.Linear(64, num_output)\n",
    "        )\n",
    "\n",
    "    def forward(self, x):\n",
    "        \"\"\" Forward pass of the PointNet network\n",
    "\n",
    "        Parameters\n",
    "        ----------\n",
    "\n",
    "        x : tensor\n",
    "            Tensor containing the weight values from the previous pass\n",
    "        \n",
    "        \"\"\"\n",
    "\n",
    "        batch_size = x.size(0)\n",
    "        \n",
    "        # Input transformation network\n",
    "        x = self.input_transform(x)\n",
    "        \n",
    "        # Global feature extraction\n",
    "        x = torch.max(x, 2, keepdim=True)[0]\n",
    "        \n",
    "        # Feature transformation network\n",
    "        x = self.feature_transform(x)\n",
    "        \n",
    "        # Global feature vector\n",
    "        x = torch.max(x, 2, keepdim=False)[0]\n",
    "\n",
    "        # Fully connected layers for regression\n",
    "        x = self.fc_regression(x)\n",
    "        \n",
    "        return x"
   ]
  },
  {
   "attachments": {},
   "cell_type": "markdown",
   "metadata": {},
   "source": [
    "# Trainer"
   ]
  },
  {
   "cell_type": "code",
   "execution_count": null,
   "metadata": {},
   "outputs": [],
   "source": [
    "def trainer(model, criterion, optimizer, trainloader, validloader, epochs = 5, patience = 5, verbose = True):\n",
    "\n",
    "    train_loss = []\n",
    "    valid_loss = []\n",
    "    model.to(device)\n",
    "\n",
    "    for epoch in range(epochs):\n",
    "\n",
    "        train_batch_loss = 0\n",
    "        valid_batch_loss = 0\n",
    "\n",
    "        # Start the trainer\n",
    "\n",
    "        for i, d in enumerate(trainloader):\n",
    "            X = d['hits'].float().to(device)\n",
    "            y = d['ring_radius_cal'].float().to(device)\n",
    "            y = y.unsqueeze(1)\n",
    "\n",
    "            # Model is used\n",
    "            optimizer.zero_grad()\n",
    "            predictions = model(X)\n",
    "\n",
    "            # Loss\n",
    "        \n",
    "            loss = criterion(predictions, y)\n",
    "            loss.backward()\n",
    "            optimizer.step()\n",
    "            train_batch_loss += loss.item()\n",
    "\n",
    "        train_loss.append(loss.item() / len(train_loader))\n",
    "\n",
    "        # Validation Loop\n",
    "\n",
    "        with torch.no_grad(): # Stops graph computations\n",
    "\n",
    "            for X_valid, y_valid in enumerate(validloader):\n",
    "                X_valid = d['hits'].float().to(device) # float32\n",
    "                y_valid = d['ring_radius_cal'].float().to(device) # float32\n",
    "                y_valid = y_valid.unsqueeze(1)\n",
    "                valid_preds = model(X_valid)\n",
    "                loss = criterion(valid_preds, y_valid)\n",
    "\n",
    "                valid_batch_loss += loss.item()\n",
    "\n",
    "            valid_loss.append(loss.item() / len(validation_loader))\n",
    "\n",
    "        if verbose:\n",
    "            print(f'Epoch {epoch + 1}',\n",
    "                  f'Train loss: {train_loss[-1]:.3f} '\n",
    "                  f'Validation loss: {valid_loss[-1]:.3f}')\n",
    "            \n",
    "        if epoch > 0 and valid_loss[-1] > valid_loss[-2]:\n",
    "            consec_increases += 1\n",
    "        else:\n",
    "            consec_increases = 0\n",
    "        if consec_increases == patience:\n",
    "            print(f\"Stopped early at epoch {epoch + 1} - val loss increased for {consec_increases} consecutive epochs!\")\n",
    "            break\n",
    "    \n",
    "    return train_loss, valid_loss"
   ]
  },
  {
   "attachments": {},
   "cell_type": "markdown",
   "metadata": {},
   "source": [
    "# Training Loop"
   ]
  },
  {
   "attachments": {},
   "cell_type": "markdown",
   "metadata": {},
   "source": [
    "## Parameters"
   ]
  },
  {
   "cell_type": "code",
   "execution_count": null,
   "metadata": {},
   "outputs": [],
   "source": [
    "model = PointNetRegression(50, 1)\n",
    "learning_rate = 0.001\n",
    "criterion = torch.nn.MSELoss()\n",
    "optimizer = torch.optim.Adam(model.parameters(), lr = learning_rate)\n",
    "device = 'cuda' if torch.cuda.is_available() else 'cpu'\n",
    "epochs = 25\n",
    "patience = 5"
   ]
  },
  {
   "cell_type": "code",
   "execution_count": null,
   "metadata": {},
   "outputs": [],
   "source": [
    "%%time\n",
    "train_loss, valid_loss = best_trainer(model, \n",
    "                                 criterion, \n",
    "                                 optimizer, \n",
    "                                 train_loader,\n",
    "                                 validation_loader,\n",
    "                                 epochs=epochs, \n",
    "                                 patience=patience,\n",
    "                                 verbose=True)"
   ]
  }
 ],
 "metadata": {
  "language_info": {
   "name": "python"
  },
  "orig_nbformat": 4
 },
 "nbformat": 4,
 "nbformat_minor": 2
}
