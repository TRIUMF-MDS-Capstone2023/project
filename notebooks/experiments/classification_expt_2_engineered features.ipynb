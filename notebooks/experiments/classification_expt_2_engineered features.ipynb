{
 "cells": [
  {
   "cell_type": "markdown",
   "id": "5f89c5c0-3bf8-4340-984e-b8d35ab3f090",
   "metadata": {},
   "source": [
    "## Classification Experiment 2:  \n",
    "**Engineered features with uniform sampled data**  \n",
    "**Followed by the Classification Experiment 1, fit on different momentum range**"
   ]
  },
  {
   "cell_type": "markdown",
   "id": "2f4423cf-dbdc-4725-9f48-1785e85299fd",
   "metadata": {},
   "source": [
    "Based on the previous researches, the ring radius between pion and muon is too close in higher momentum range to make the classification more difficult. Therefore, we are exploring the classifier's performance on different momentum range in this notebook."
   ]
  },
  {
   "cell_type": "code",
   "execution_count": 1,
   "id": "3c9bbe4d-339e-4242-ade7-35ecdfb78f1c",
   "metadata": {},
   "outputs": [],
   "source": [
    "import h5py \n",
    "import numpy as np \n",
    "import pandas as pd\n",
    "import os\n",
    "import seaborn as sns\n",
    "import matplotlib.pyplot as plt\n",
    "import sys\n",
    "import glob\n",
    "import warnings"
   ]
  },
  {
   "cell_type": "markdown",
   "id": "db064167-0d0e-4197-8287-21358f2c1378",
   "metadata": {},
   "source": [
    "### 1.0 Read hit data and separate by momentum range"
   ]
  },
  {
   "cell_type": "code",
   "execution_count": 2,
   "id": "edae58e1-2711-44b5-b2a5-a89af27d078a",
   "metadata": {},
   "outputs": [],
   "source": [
    "# read hit data from sampled dataset\n",
    "grouped_hit_data = pd.read_csv('data_0/grouped_hit_data.csv')"
   ]
  },
  {
   "cell_type": "code",
   "execution_count": 3,
   "id": "8fceee5b-4929-469b-a268-85831f9dd59e",
   "metadata": {},
   "outputs": [
    {
     "name": "stdout",
     "output_type": "stream",
     "text": [
      "<class 'pandas.core.frame.DataFrame'>\n",
      "RangeIndex: 900602 entries, 0 to 900601\n",
      "Data columns (total 29 columns):\n",
      " #   Column              Non-Null Count   Dtype  \n",
      "---  ------              --------------   -----  \n",
      " 0   Unnamed: 0          900602 non-null  int64  \n",
      " 1   event               900602 non-null  int64  \n",
      " 2   x_realigned_min     900602 non-null  float64\n",
      " 3   x_realigned_max     900602 non-null  float64\n",
      " 4   x_realigned_median  900602 non-null  float64\n",
      " 5   y_realigned_min     900602 non-null  float64\n",
      " 6   y_realigned_max     900602 non-null  float64\n",
      " 7   y_realigned_median  900602 non-null  float64\n",
      " 8   min_hit_radius      900602 non-null  float64\n",
      " 9   max_hit_radius      900602 non-null  float64\n",
      " 10  mean_hit_radius     900602 non-null  float64\n",
      " 11  median_hit_radius   900602 non-null  float64\n",
      " 12  rms_hit_radius      900602 non-null  float64\n",
      " 13  momentum            900602 non-null  float64\n",
      " 14  label               900602 non-null  int64  \n",
      " 15  ring_radius_cal     900602 non-null  float64\n",
      " 16  track_pos_x         900602 non-null  float64\n",
      " 17  track_pos_y         900602 non-null  float64\n",
      " 18  x_min_sum           900602 non-null  float64\n",
      " 19  y_min_sum           900602 non-null  float64\n",
      " 20  x_max_sum           900602 non-null  float64\n",
      " 21  y_max_sum           900602 non-null  float64\n",
      " 22  x_min_diff          900602 non-null  float64\n",
      " 23  y_min_diff          900602 non-null  float64\n",
      " 24  x_max_diff          900602 non-null  float64\n",
      " 25  y_max_diff          900602 non-null  float64\n",
      " 26  max_x-min_x         900602 non-null  float64\n",
      " 27  max_y-min_y         900602 non-null  float64\n",
      " 28  num_hits            900602 non-null  int64  \n",
      "dtypes: float64(25), int64(4)\n",
      "memory usage: 199.3 MB\n"
     ]
    }
   ],
   "source": [
    "# convert label to int datatype\n",
    "grouped_hit_data['label'] = grouped_hit_data['label'].astype('int')\n",
    "grouped_hit_data.info()"
   ]
  },
  {
   "cell_type": "code",
   "execution_count": 4,
   "id": "3740aaf1-d062-4312-9827-f7b60adf029a",
   "metadata": {},
   "outputs": [],
   "source": [
    "# seperate data by momentum with range size = 5 Gev\n",
    "grouped_hit_data_20_25 = grouped_hit_data.query('momentum >= 20 & momentum <= 25')\n",
    "grouped_hit_data_25_30 = grouped_hit_data.query('momentum > 25 & momentum <= 30')\n",
    "grouped_hit_data_30_35 = grouped_hit_data.query('momentum > 30 & momentum <= 35')\n",
    "grouped_hit_data_35_40 = grouped_hit_data.query('momentum > 35 & momentum <= 40')\n",
    "grouped_hit_data_40_45 = grouped_hit_data.query('momentum > 40 & momentum <= 45')"
   ]
  },
  {
   "cell_type": "code",
   "execution_count": 5,
   "id": "0402a421-0606-47f1-9c47-1510dc0d2650",
   "metadata": {},
   "outputs": [
    {
     "data": {
      "text/plain": [
       "0    156254\n",
       "1     23860\n",
       "Name: label, dtype: int64"
      ]
     },
     "execution_count": 5,
     "metadata": {},
     "output_type": "execute_result"
    }
   ],
   "source": [
    "# check number of muon and pion in each momentum range (o for muon; 1 for pion)\n",
    "grouped_hit_data_20_25['label'].value_counts()"
   ]
  },
  {
   "cell_type": "code",
   "execution_count": 6,
   "id": "e0c0f8a6-098e-4b97-9b7e-42e7c6b5dc51",
   "metadata": {},
   "outputs": [
    {
     "data": {
      "text/plain": [
       "0    156471\n",
       "1     23645\n",
       "Name: label, dtype: int64"
      ]
     },
     "execution_count": 6,
     "metadata": {},
     "output_type": "execute_result"
    }
   ],
   "source": [
    "grouped_hit_data_25_30['label'].value_counts()"
   ]
  },
  {
   "cell_type": "code",
   "execution_count": 7,
   "id": "24ac3b6d-9974-4c0a-a0f9-a24f04aa26aa",
   "metadata": {},
   "outputs": [
    {
     "data": {
      "text/plain": [
       "0    158556\n",
       "1     21564\n",
       "Name: label, dtype: int64"
      ]
     },
     "execution_count": 7,
     "metadata": {},
     "output_type": "execute_result"
    }
   ],
   "source": [
    "grouped_hit_data_30_35['label'].value_counts()"
   ]
  },
  {
   "cell_type": "code",
   "execution_count": 8,
   "id": "4a2f7085-0832-472a-8b6e-a27366c00a01",
   "metadata": {},
   "outputs": [
    {
     "data": {
      "text/plain": [
       "0    160841\n",
       "1     19285\n",
       "Name: label, dtype: int64"
      ]
     },
     "execution_count": 8,
     "metadata": {},
     "output_type": "execute_result"
    }
   ],
   "source": [
    "grouped_hit_data_35_40['label'].value_counts()"
   ]
  },
  {
   "cell_type": "code",
   "execution_count": 9,
   "id": "0f944fa3-05ed-4633-80da-9a1104a0a548",
   "metadata": {},
   "outputs": [
    {
     "data": {
      "text/plain": [
       "0    163570\n",
       "1     16556\n",
       "Name: label, dtype: int64"
      ]
     },
     "execution_count": 9,
     "metadata": {},
     "output_type": "execute_result"
    }
   ],
   "source": [
    "grouped_hit_data_40_45['label'].value_counts()"
   ]
  },
  {
   "cell_type": "markdown",
   "id": "22f1eba4-5fc3-4f39-bf87-9438495b978a",
   "metadata": {},
   "source": [
    "### 2.0 Perform model training & cross valid (catboost/lightgbm/xgboost)"
   ]
  },
  {
   "cell_type": "code",
   "execution_count": 10,
   "id": "de50678f-f7cc-402c-9118-891046459350",
   "metadata": {},
   "outputs": [],
   "source": [
    "# import ML models and tools\n",
    "from sklearn.model_selection import (\n",
    "    GridSearchCV,\n",
    "    cross_val_score,\n",
    "    cross_validate,\n",
    "    train_test_split,\n",
    ")\n",
    "from sklearn.pipeline import Pipeline, make_pipeline\n",
    "from sklearn.preprocessing import StandardScaler\n",
    "from catboost import CatBoostClassifier\n",
    "from lightgbm.sklearn import LGBMClassifier\n",
    "from xgboost import XGBClassifier\n",
    "from sklearn.metrics import accuracy_score, f1_score, precision_score, recall_score\n",
    "from helpers import mean_std_cross_val_scores"
   ]
  },
  {
   "cell_type": "code",
   "execution_count": 11,
   "id": "f412e3c5-1e50-4ff6-b2e4-a986466fd141",
   "metadata": {},
   "outputs": [],
   "source": [
    "classification_metrics = [\"accuracy\", \"precision\", \"recall\", \"f1\"]"
   ]
  },
  {
   "cell_type": "code",
   "execution_count": 12,
   "id": "901e3f33-1f77-47b3-9cf0-a124526eb97e",
   "metadata": {},
   "outputs": [],
   "source": [
    "# define pipelines\n",
    "\n",
    "preprocessor = StandardScaler()\n",
    "\n",
    "pipe_catboost = make_pipeline(\n",
    "    preprocessor, CatBoostClassifier(verbose=0, random_state=123))\n",
    "\n",
    "pipe_lgbm = make_pipeline(\n",
    "    preprocessor, LGBMClassifier(random_state=123))\n",
    "\n",
    "pipe_xgb = make_pipeline(\n",
    "    preprocessor, XGBClassifier(random_state=123, verbosity=0))\n",
    "\n",
    "classifiers = {\n",
    "    \"CatBoost\": pipe_catboost,\n",
    "    \"LightGBM\": pipe_lgbm,    \n",
    "    \"XGBoost\": pipe_xgb\n",
    "}"
   ]
  },
  {
   "cell_type": "code",
   "execution_count": 14,
   "id": "f3d24dbe-ad86-46a2-a3d6-a6ea655088a4",
   "metadata": {},
   "outputs": [],
   "source": [
    "def train_test_split_range(df):\n",
    "    \"\"\"Create X_train, y_train, X_test, y_test for different momentum range data\"\"\"\n",
    "    train_df, test_df = train_test_split(df,\n",
    "                                         test_size=0.25,\n",
    "                                         random_state=42,\n",
    "                                         shuffle=True)\n",
    "    X_train, y_train = train_df.drop(columns=[\"Unnamed: 0\",\n",
    "                                              \"event\",\n",
    "                                              \"label\",\n",
    "                                              \"ring_radius_cal\"]), train_df[\"label\"]\n",
    "    X_test, y_test = test_df.drop(columns=[\"Unnamed: 0\",\n",
    "                                           \"event\", \n",
    "                                           \"label\",\n",
    "                                           \"ring_radius_cal\"]), test_df[\"label\"]\n",
    "    return X_train, y_train, X_test, y_test"
   ]
  },
  {
   "cell_type": "markdown",
   "id": "eafab887-dc41-4185-9c25-a163299c557a",
   "metadata": {},
   "source": [
    "#### For momentum range 20 - 25"
   ]
  },
  {
   "cell_type": "code",
   "execution_count": 15,
   "id": "0f2d40d6-4f81-446f-994b-93a4e73f5e54",
   "metadata": {},
   "outputs": [],
   "source": [
    "X_train, y_train, X_test, y_test = train_test_split_range(grouped_hit_data_20_25)"
   ]
  },
  {
   "cell_type": "code",
   "execution_count": 18,
   "id": "8491d858-bfc8-45c9-ac84-2a002b4b87b2",
   "metadata": {},
   "outputs": [
    {
     "name": "stdout",
     "output_type": "stream",
     "text": [
      "CPU times: user 4min 16s, sys: 29.9 s, total: 4min 46s\n",
      "Wall time: 56.3 s\n"
     ]
    }
   ],
   "source": [
    "%%time\n",
    "results_20_25 = {}\n",
    "\n",
    "for (name, model) in classifiers.items():\n",
    "    results_20_25[name] = mean_std_cross_val_scores(\n",
    "        model, X_train, y_train, return_train_score=True, scoring=classification_metrics\n",
    "    )"
   ]
  },
  {
   "cell_type": "code",
   "execution_count": 19,
   "id": "abd80b98-0843-4906-8f03-4e7e141aba84",
   "metadata": {},
   "outputs": [
    {
     "data": {
      "text/html": [
       "<div>\n",
       "<style scoped>\n",
       "    .dataframe tbody tr th:only-of-type {\n",
       "        vertical-align: middle;\n",
       "    }\n",
       "\n",
       "    .dataframe tbody tr th {\n",
       "        vertical-align: top;\n",
       "    }\n",
       "\n",
       "    .dataframe thead th {\n",
       "        text-align: right;\n",
       "    }\n",
       "</style>\n",
       "<table border=\"1\" class=\"dataframe\">\n",
       "  <thead>\n",
       "    <tr style=\"text-align: right;\">\n",
       "      <th></th>\n",
       "      <th>fit_time</th>\n",
       "      <th>score_time</th>\n",
       "      <th>test_accuracy</th>\n",
       "      <th>train_accuracy</th>\n",
       "      <th>test_precision</th>\n",
       "      <th>train_precision</th>\n",
       "      <th>test_recall</th>\n",
       "      <th>train_recall</th>\n",
       "      <th>test_f1</th>\n",
       "      <th>train_f1</th>\n",
       "    </tr>\n",
       "  </thead>\n",
       "  <tbody>\n",
       "    <tr>\n",
       "      <th>CatBoost</th>\n",
       "      <td>6.654 (+/- 0.099)</td>\n",
       "      <td>0.026 (+/- 0.002)</td>\n",
       "      <td>0.999 (+/- 0.000)</td>\n",
       "      <td>1.000 (+/- 0.000)</td>\n",
       "      <td>0.996 (+/- 0.001)</td>\n",
       "      <td>1.000 (+/- 0.000)</td>\n",
       "      <td>0.994 (+/- 0.001)</td>\n",
       "      <td>0.999 (+/- 0.000)</td>\n",
       "      <td>0.995 (+/- 0.001)</td>\n",
       "      <td>0.999 (+/- 0.000)</td>\n",
       "    </tr>\n",
       "    <tr>\n",
       "      <th>LightGBM</th>\n",
       "      <td>0.649 (+/- 0.010)</td>\n",
       "      <td>0.044 (+/- 0.003)</td>\n",
       "      <td>0.998 (+/- 0.000)</td>\n",
       "      <td>1.000 (+/- 0.000)</td>\n",
       "      <td>0.995 (+/- 0.000)</td>\n",
       "      <td>1.000 (+/- 0.000)</td>\n",
       "      <td>0.992 (+/- 0.001)</td>\n",
       "      <td>1.000 (+/- 0.000)</td>\n",
       "      <td>0.994 (+/- 0.001)</td>\n",
       "      <td>1.000 (+/- 0.000)</td>\n",
       "    </tr>\n",
       "    <tr>\n",
       "      <th>XGBoost</th>\n",
       "      <td>3.482 (+/- 0.060)</td>\n",
       "      <td>0.027 (+/- 0.001)</td>\n",
       "      <td>0.999 (+/- 0.000)</td>\n",
       "      <td>1.000 (+/- 0.000)</td>\n",
       "      <td>0.998 (+/- 0.001)</td>\n",
       "      <td>1.000 (+/- 0.000)</td>\n",
       "      <td>0.996 (+/- 0.001)</td>\n",
       "      <td>1.000 (+/- 0.000)</td>\n",
       "      <td>0.997 (+/- 0.000)</td>\n",
       "      <td>1.000 (+/- 0.000)</td>\n",
       "    </tr>\n",
       "  </tbody>\n",
       "</table>\n",
       "</div>"
      ],
      "text/plain": [
       "                   fit_time         score_time      test_accuracy  \\\n",
       "CatBoost  6.654 (+/- 0.099)  0.026 (+/- 0.002)  0.999 (+/- 0.000)   \n",
       "LightGBM  0.649 (+/- 0.010)  0.044 (+/- 0.003)  0.998 (+/- 0.000)   \n",
       "XGBoost   3.482 (+/- 0.060)  0.027 (+/- 0.001)  0.999 (+/- 0.000)   \n",
       "\n",
       "             train_accuracy     test_precision    train_precision  \\\n",
       "CatBoost  1.000 (+/- 0.000)  0.996 (+/- 0.001)  1.000 (+/- 0.000)   \n",
       "LightGBM  1.000 (+/- 0.000)  0.995 (+/- 0.000)  1.000 (+/- 0.000)   \n",
       "XGBoost   1.000 (+/- 0.000)  0.998 (+/- 0.001)  1.000 (+/- 0.000)   \n",
       "\n",
       "                test_recall       train_recall            test_f1  \\\n",
       "CatBoost  0.994 (+/- 0.001)  0.999 (+/- 0.000)  0.995 (+/- 0.001)   \n",
       "LightGBM  0.992 (+/- 0.001)  1.000 (+/- 0.000)  0.994 (+/- 0.001)   \n",
       "XGBoost   0.996 (+/- 0.001)  1.000 (+/- 0.000)  0.997 (+/- 0.000)   \n",
       "\n",
       "                   train_f1  \n",
       "CatBoost  0.999 (+/- 0.000)  \n",
       "LightGBM  1.000 (+/- 0.000)  \n",
       "XGBoost   1.000 (+/- 0.000)  "
      ]
     },
     "execution_count": 19,
     "metadata": {},
     "output_type": "execute_result"
    }
   ],
   "source": [
    "pd.DataFrame(results_20_25).T"
   ]
  },
  {
   "cell_type": "markdown",
   "id": "a4e3fde1-34de-4e61-b83d-b3ea9f80faff",
   "metadata": {},
   "source": [
    "#### For momentum range 25 - 30"
   ]
  },
  {
   "cell_type": "code",
   "execution_count": 22,
   "id": "9afd3f2b-b4bf-4e4e-88eb-d8cc9f2f9644",
   "metadata": {},
   "outputs": [],
   "source": [
    "X_train, y_train, X_test, y_test = train_test_split_range(grouped_hit_data_25_30)"
   ]
  },
  {
   "cell_type": "code",
   "execution_count": 23,
   "id": "3898d381-88dc-467f-957c-af973446d9ea",
   "metadata": {},
   "outputs": [
    {
     "name": "stdout",
     "output_type": "stream",
     "text": [
      "CPU times: user 4min 21s, sys: 29.8 s, total: 4min 51s\n",
      "Wall time: 57.3 s\n"
     ]
    }
   ],
   "source": [
    "%%time\n",
    "results_25_30 = {}\n",
    "\n",
    "for (name, model) in classifiers.items():\n",
    "    results_25_30[name] = mean_std_cross_val_scores(\n",
    "        model, X_train, y_train, return_train_score=True, scoring=classification_metrics\n",
    "    )"
   ]
  },
  {
   "cell_type": "code",
   "execution_count": 24,
   "id": "20b4d362-64b3-4815-8241-60973894c356",
   "metadata": {},
   "outputs": [
    {
     "data": {
      "text/html": [
       "<div>\n",
       "<style scoped>\n",
       "    .dataframe tbody tr th:only-of-type {\n",
       "        vertical-align: middle;\n",
       "    }\n",
       "\n",
       "    .dataframe tbody tr th {\n",
       "        vertical-align: top;\n",
       "    }\n",
       "\n",
       "    .dataframe thead th {\n",
       "        text-align: right;\n",
       "    }\n",
       "</style>\n",
       "<table border=\"1\" class=\"dataframe\">\n",
       "  <thead>\n",
       "    <tr style=\"text-align: right;\">\n",
       "      <th></th>\n",
       "      <th>fit_time</th>\n",
       "      <th>score_time</th>\n",
       "      <th>test_accuracy</th>\n",
       "      <th>train_accuracy</th>\n",
       "      <th>test_precision</th>\n",
       "      <th>train_precision</th>\n",
       "      <th>test_recall</th>\n",
       "      <th>train_recall</th>\n",
       "      <th>test_f1</th>\n",
       "      <th>train_f1</th>\n",
       "    </tr>\n",
       "  </thead>\n",
       "  <tbody>\n",
       "    <tr>\n",
       "      <th>CatBoost</th>\n",
       "      <td>6.623 (+/- 0.158)</td>\n",
       "      <td>0.027 (+/- 0.001)</td>\n",
       "      <td>0.999 (+/- 0.000)</td>\n",
       "      <td>1.000 (+/- 0.000)</td>\n",
       "      <td>0.999 (+/- 0.001)</td>\n",
       "      <td>1.000 (+/- 0.000)</td>\n",
       "      <td>0.997 (+/- 0.001)</td>\n",
       "      <td>1.000 (+/- 0.000)</td>\n",
       "      <td>0.998 (+/- 0.001)</td>\n",
       "      <td>1.000 (+/- 0.000)</td>\n",
       "    </tr>\n",
       "    <tr>\n",
       "      <th>LightGBM</th>\n",
       "      <td>0.668 (+/- 0.023)</td>\n",
       "      <td>0.044 (+/- 0.002)</td>\n",
       "      <td>0.998 (+/- 0.000)</td>\n",
       "      <td>1.000 (+/- 0.000)</td>\n",
       "      <td>0.995 (+/- 0.001)</td>\n",
       "      <td>1.000 (+/- 0.000)</td>\n",
       "      <td>0.989 (+/- 0.003)</td>\n",
       "      <td>0.998 (+/- 0.000)</td>\n",
       "      <td>0.992 (+/- 0.002)</td>\n",
       "      <td>0.999 (+/- 0.000)</td>\n",
       "    </tr>\n",
       "    <tr>\n",
       "      <th>XGBoost</th>\n",
       "      <td>3.664 (+/- 0.035)</td>\n",
       "      <td>0.030 (+/- 0.003)</td>\n",
       "      <td>1.000 (+/- 0.000)</td>\n",
       "      <td>1.000 (+/- 0.000)</td>\n",
       "      <td>1.000 (+/- 0.001)</td>\n",
       "      <td>1.000 (+/- 0.000)</td>\n",
       "      <td>0.997 (+/- 0.001)</td>\n",
       "      <td>1.000 (+/- 0.000)</td>\n",
       "      <td>0.998 (+/- 0.001)</td>\n",
       "      <td>1.000 (+/- 0.000)</td>\n",
       "    </tr>\n",
       "  </tbody>\n",
       "</table>\n",
       "</div>"
      ],
      "text/plain": [
       "                   fit_time         score_time      test_accuracy  \\\n",
       "CatBoost  6.623 (+/- 0.158)  0.027 (+/- 0.001)  0.999 (+/- 0.000)   \n",
       "LightGBM  0.668 (+/- 0.023)  0.044 (+/- 0.002)  0.998 (+/- 0.000)   \n",
       "XGBoost   3.664 (+/- 0.035)  0.030 (+/- 0.003)  1.000 (+/- 0.000)   \n",
       "\n",
       "             train_accuracy     test_precision    train_precision  \\\n",
       "CatBoost  1.000 (+/- 0.000)  0.999 (+/- 0.001)  1.000 (+/- 0.000)   \n",
       "LightGBM  1.000 (+/- 0.000)  0.995 (+/- 0.001)  1.000 (+/- 0.000)   \n",
       "XGBoost   1.000 (+/- 0.000)  1.000 (+/- 0.001)  1.000 (+/- 0.000)   \n",
       "\n",
       "                test_recall       train_recall            test_f1  \\\n",
       "CatBoost  0.997 (+/- 0.001)  1.000 (+/- 0.000)  0.998 (+/- 0.001)   \n",
       "LightGBM  0.989 (+/- 0.003)  0.998 (+/- 0.000)  0.992 (+/- 0.002)   \n",
       "XGBoost   0.997 (+/- 0.001)  1.000 (+/- 0.000)  0.998 (+/- 0.001)   \n",
       "\n",
       "                   train_f1  \n",
       "CatBoost  1.000 (+/- 0.000)  \n",
       "LightGBM  0.999 (+/- 0.000)  \n",
       "XGBoost   1.000 (+/- 0.000)  "
      ]
     },
     "execution_count": 24,
     "metadata": {},
     "output_type": "execute_result"
    }
   ],
   "source": [
    "pd.DataFrame(results_25_30).T"
   ]
  },
  {
   "cell_type": "markdown",
   "id": "c5c62254-fdcd-4942-81d8-13005a02107f",
   "metadata": {},
   "source": [
    "#### For momentum range 30 - 35"
   ]
  },
  {
   "cell_type": "code",
   "execution_count": 26,
   "id": "5e1811b0-74ee-4c84-848b-e91c23c8e532",
   "metadata": {},
   "outputs": [],
   "source": [
    "X_train, y_train, X_test, y_test = train_test_split_range(grouped_hit_data_30_35)"
   ]
  },
  {
   "cell_type": "code",
   "execution_count": 27,
   "id": "71cff6e6-fa44-401e-8372-d2feb81f0a54",
   "metadata": {},
   "outputs": [
    {
     "name": "stdout",
     "output_type": "stream",
     "text": [
      "CPU times: user 4min 24s, sys: 29.5 s, total: 4min 53s\n",
      "Wall time: 57.5 s\n"
     ]
    }
   ],
   "source": [
    "%%time\n",
    "results_30_35 = {}\n",
    "\n",
    "for (name, model) in classifiers.items():\n",
    "    results_30_35[name] = mean_std_cross_val_scores(\n",
    "        model, X_train, y_train, return_train_score=True, scoring=classification_metrics\n",
    "    )"
   ]
  },
  {
   "cell_type": "code",
   "execution_count": 28,
   "id": "1b5fa24d-42aa-4be1-bc00-23a0d1b9ef3f",
   "metadata": {},
   "outputs": [
    {
     "data": {
      "text/html": [
       "<div>\n",
       "<style scoped>\n",
       "    .dataframe tbody tr th:only-of-type {\n",
       "        vertical-align: middle;\n",
       "    }\n",
       "\n",
       "    .dataframe tbody tr th {\n",
       "        vertical-align: top;\n",
       "    }\n",
       "\n",
       "    .dataframe thead th {\n",
       "        text-align: right;\n",
       "    }\n",
       "</style>\n",
       "<table border=\"1\" class=\"dataframe\">\n",
       "  <thead>\n",
       "    <tr style=\"text-align: right;\">\n",
       "      <th></th>\n",
       "      <th>fit_time</th>\n",
       "      <th>score_time</th>\n",
       "      <th>test_accuracy</th>\n",
       "      <th>train_accuracy</th>\n",
       "      <th>test_precision</th>\n",
       "      <th>train_precision</th>\n",
       "      <th>test_recall</th>\n",
       "      <th>train_recall</th>\n",
       "      <th>test_f1</th>\n",
       "      <th>train_f1</th>\n",
       "    </tr>\n",
       "  </thead>\n",
       "  <tbody>\n",
       "    <tr>\n",
       "      <th>CatBoost</th>\n",
       "      <td>6.579 (+/- 0.119)</td>\n",
       "      <td>0.027 (+/- 0.001)</td>\n",
       "      <td>1.000 (+/- 0.000)</td>\n",
       "      <td>1.000 (+/- 0.000)</td>\n",
       "      <td>0.999 (+/- 0.001)</td>\n",
       "      <td>1.000 (+/- 0.000)</td>\n",
       "      <td>0.998 (+/- 0.000)</td>\n",
       "      <td>1.000 (+/- 0.000)</td>\n",
       "      <td>0.999 (+/- 0.000)</td>\n",
       "      <td>1.000 (+/- 0.000)</td>\n",
       "    </tr>\n",
       "    <tr>\n",
       "      <th>LightGBM</th>\n",
       "      <td>0.653 (+/- 0.003)</td>\n",
       "      <td>0.044 (+/- 0.001)</td>\n",
       "      <td>0.998 (+/- 0.000)</td>\n",
       "      <td>1.000 (+/- 0.000)</td>\n",
       "      <td>0.998 (+/- 0.001)</td>\n",
       "      <td>1.000 (+/- 0.000)</td>\n",
       "      <td>0.989 (+/- 0.001)</td>\n",
       "      <td>0.997 (+/- 0.000)</td>\n",
       "      <td>0.993 (+/- 0.001)</td>\n",
       "      <td>0.998 (+/- 0.000)</td>\n",
       "    </tr>\n",
       "    <tr>\n",
       "      <th>XGBoost</th>\n",
       "      <td>3.768 (+/- 0.048)</td>\n",
       "      <td>0.028 (+/- 0.002)</td>\n",
       "      <td>1.000 (+/- 0.000)</td>\n",
       "      <td>1.000 (+/- 0.000)</td>\n",
       "      <td>0.999 (+/- 0.001)</td>\n",
       "      <td>1.000 (+/- 0.000)</td>\n",
       "      <td>0.997 (+/- 0.001)</td>\n",
       "      <td>1.000 (+/- 0.000)</td>\n",
       "      <td>0.998 (+/- 0.001)</td>\n",
       "      <td>1.000 (+/- 0.000)</td>\n",
       "    </tr>\n",
       "  </tbody>\n",
       "</table>\n",
       "</div>"
      ],
      "text/plain": [
       "                   fit_time         score_time      test_accuracy  \\\n",
       "CatBoost  6.579 (+/- 0.119)  0.027 (+/- 0.001)  1.000 (+/- 0.000)   \n",
       "LightGBM  0.653 (+/- 0.003)  0.044 (+/- 0.001)  0.998 (+/- 0.000)   \n",
       "XGBoost   3.768 (+/- 0.048)  0.028 (+/- 0.002)  1.000 (+/- 0.000)   \n",
       "\n",
       "             train_accuracy     test_precision    train_precision  \\\n",
       "CatBoost  1.000 (+/- 0.000)  0.999 (+/- 0.001)  1.000 (+/- 0.000)   \n",
       "LightGBM  1.000 (+/- 0.000)  0.998 (+/- 0.001)  1.000 (+/- 0.000)   \n",
       "XGBoost   1.000 (+/- 0.000)  0.999 (+/- 0.001)  1.000 (+/- 0.000)   \n",
       "\n",
       "                test_recall       train_recall            test_f1  \\\n",
       "CatBoost  0.998 (+/- 0.000)  1.000 (+/- 0.000)  0.999 (+/- 0.000)   \n",
       "LightGBM  0.989 (+/- 0.001)  0.997 (+/- 0.000)  0.993 (+/- 0.001)   \n",
       "XGBoost   0.997 (+/- 0.001)  1.000 (+/- 0.000)  0.998 (+/- 0.001)   \n",
       "\n",
       "                   train_f1  \n",
       "CatBoost  1.000 (+/- 0.000)  \n",
       "LightGBM  0.998 (+/- 0.000)  \n",
       "XGBoost   1.000 (+/- 0.000)  "
      ]
     },
     "execution_count": 28,
     "metadata": {},
     "output_type": "execute_result"
    }
   ],
   "source": [
    "pd.DataFrame(results_30_35).T"
   ]
  },
  {
   "cell_type": "markdown",
   "id": "e48cea1f-14b2-4ae5-8728-ef50ea4b0d10",
   "metadata": {},
   "source": [
    "#### For momentum range 35 - 40"
   ]
  },
  {
   "cell_type": "code",
   "execution_count": 30,
   "id": "28d4e121-5aa7-4336-8b84-be6862a2a983",
   "metadata": {},
   "outputs": [],
   "source": [
    "X_train, y_train, X_test, y_test = train_test_split_range(grouped_hit_data_35_40)"
   ]
  },
  {
   "cell_type": "code",
   "execution_count": 31,
   "id": "9334c7c6-2320-4ebe-a449-c647609084e5",
   "metadata": {},
   "outputs": [
    {
     "name": "stdout",
     "output_type": "stream",
     "text": [
      "CPU times: user 4min 25s, sys: 29.9 s, total: 4min 55s\n",
      "Wall time: 57.8 s\n"
     ]
    }
   ],
   "source": [
    "%%time\n",
    "results_35_40 = {}\n",
    "\n",
    "for (name, model) in classifiers.items():\n",
    "    results_35_40[name] = mean_std_cross_val_scores(\n",
    "        model, X_train, y_train, return_train_score=True, scoring=classification_metrics\n",
    "    )"
   ]
  },
  {
   "cell_type": "code",
   "execution_count": 32,
   "id": "b653b7f6-c70d-4fb6-a491-90277c6c2e93",
   "metadata": {},
   "outputs": [
    {
     "data": {
      "text/html": [
       "<div>\n",
       "<style scoped>\n",
       "    .dataframe tbody tr th:only-of-type {\n",
       "        vertical-align: middle;\n",
       "    }\n",
       "\n",
       "    .dataframe tbody tr th {\n",
       "        vertical-align: top;\n",
       "    }\n",
       "\n",
       "    .dataframe thead th {\n",
       "        text-align: right;\n",
       "    }\n",
       "</style>\n",
       "<table border=\"1\" class=\"dataframe\">\n",
       "  <thead>\n",
       "    <tr style=\"text-align: right;\">\n",
       "      <th></th>\n",
       "      <th>fit_time</th>\n",
       "      <th>score_time</th>\n",
       "      <th>test_accuracy</th>\n",
       "      <th>train_accuracy</th>\n",
       "      <th>test_precision</th>\n",
       "      <th>train_precision</th>\n",
       "      <th>test_recall</th>\n",
       "      <th>train_recall</th>\n",
       "      <th>test_f1</th>\n",
       "      <th>train_f1</th>\n",
       "    </tr>\n",
       "  </thead>\n",
       "  <tbody>\n",
       "    <tr>\n",
       "      <th>CatBoost</th>\n",
       "      <td>6.707 (+/- 0.091)</td>\n",
       "      <td>0.027 (+/- 0.002)</td>\n",
       "      <td>1.000 (+/- 0.000)</td>\n",
       "      <td>1.000 (+/- 0.000)</td>\n",
       "      <td>0.999 (+/- 0.001)</td>\n",
       "      <td>1.000 (+/- 0.000)</td>\n",
       "      <td>0.999 (+/- 0.001)</td>\n",
       "      <td>1.000 (+/- 0.000)</td>\n",
       "      <td>0.999 (+/- 0.001)</td>\n",
       "      <td>1.000 (+/- 0.000)</td>\n",
       "    </tr>\n",
       "    <tr>\n",
       "      <th>LightGBM</th>\n",
       "      <td>0.651 (+/- 0.044)</td>\n",
       "      <td>0.046 (+/- 0.001)</td>\n",
       "      <td>0.999 (+/- 0.000)</td>\n",
       "      <td>1.000 (+/- 0.000)</td>\n",
       "      <td>0.999 (+/- 0.001)</td>\n",
       "      <td>1.000 (+/- 0.000)</td>\n",
       "      <td>0.990 (+/- 0.001)</td>\n",
       "      <td>0.998 (+/- 0.000)</td>\n",
       "      <td>0.994 (+/- 0.001)</td>\n",
       "      <td>0.999 (+/- 0.000)</td>\n",
       "    </tr>\n",
       "    <tr>\n",
       "      <th>XGBoost</th>\n",
       "      <td>3.710 (+/- 0.049)</td>\n",
       "      <td>0.028 (+/- 0.001)</td>\n",
       "      <td>1.000 (+/- 0.000)</td>\n",
       "      <td>1.000 (+/- 0.000)</td>\n",
       "      <td>0.999 (+/- 0.001)</td>\n",
       "      <td>1.000 (+/- 0.000)</td>\n",
       "      <td>0.997 (+/- 0.001)</td>\n",
       "      <td>1.000 (+/- 0.000)</td>\n",
       "      <td>0.998 (+/- 0.001)</td>\n",
       "      <td>1.000 (+/- 0.000)</td>\n",
       "    </tr>\n",
       "  </tbody>\n",
       "</table>\n",
       "</div>"
      ],
      "text/plain": [
       "                   fit_time         score_time      test_accuracy  \\\n",
       "CatBoost  6.707 (+/- 0.091)  0.027 (+/- 0.002)  1.000 (+/- 0.000)   \n",
       "LightGBM  0.651 (+/- 0.044)  0.046 (+/- 0.001)  0.999 (+/- 0.000)   \n",
       "XGBoost   3.710 (+/- 0.049)  0.028 (+/- 0.001)  1.000 (+/- 0.000)   \n",
       "\n",
       "             train_accuracy     test_precision    train_precision  \\\n",
       "CatBoost  1.000 (+/- 0.000)  0.999 (+/- 0.001)  1.000 (+/- 0.000)   \n",
       "LightGBM  1.000 (+/- 0.000)  0.999 (+/- 0.001)  1.000 (+/- 0.000)   \n",
       "XGBoost   1.000 (+/- 0.000)  0.999 (+/- 0.001)  1.000 (+/- 0.000)   \n",
       "\n",
       "                test_recall       train_recall            test_f1  \\\n",
       "CatBoost  0.999 (+/- 0.001)  1.000 (+/- 0.000)  0.999 (+/- 0.001)   \n",
       "LightGBM  0.990 (+/- 0.001)  0.998 (+/- 0.000)  0.994 (+/- 0.001)   \n",
       "XGBoost   0.997 (+/- 0.001)  1.000 (+/- 0.000)  0.998 (+/- 0.001)   \n",
       "\n",
       "                   train_f1  \n",
       "CatBoost  1.000 (+/- 0.000)  \n",
       "LightGBM  0.999 (+/- 0.000)  \n",
       "XGBoost   1.000 (+/- 0.000)  "
      ]
     },
     "execution_count": 32,
     "metadata": {},
     "output_type": "execute_result"
    }
   ],
   "source": [
    "pd.DataFrame(results_35_40).T"
   ]
  },
  {
   "cell_type": "markdown",
   "id": "dec1f5bc-c63c-44c8-a690-f6a920095f00",
   "metadata": {},
   "source": [
    "#### For momentum range 40 - 45"
   ]
  },
  {
   "cell_type": "code",
   "execution_count": 34,
   "id": "240b382d-71b8-46a2-9b8d-e07138b019b8",
   "metadata": {},
   "outputs": [],
   "source": [
    "X_train, y_train, X_test, y_test = train_test_split_range(grouped_hit_data_40_45)"
   ]
  },
  {
   "cell_type": "code",
   "execution_count": 35,
   "id": "0688a1ab-959c-4e17-a4a9-f6fc552ea907",
   "metadata": {},
   "outputs": [
    {
     "name": "stdout",
     "output_type": "stream",
     "text": [
      "CPU times: user 4min 36s, sys: 30.2 s, total: 5min 6s\n",
      "Wall time: 58.9 s\n"
     ]
    }
   ],
   "source": [
    "%%time\n",
    "results_40_45 = {}\n",
    "\n",
    "for (name, model) in classifiers.items():\n",
    "    results_40_45[name] = mean_std_cross_val_scores(\n",
    "        model, X_train, y_train, return_train_score=True, scoring=classification_metrics\n",
    "    )"
   ]
  },
  {
   "cell_type": "code",
   "execution_count": 36,
   "id": "44263074-a342-462a-abbd-6285ef7bdbc1",
   "metadata": {},
   "outputs": [
    {
     "data": {
      "text/html": [
       "<div>\n",
       "<style scoped>\n",
       "    .dataframe tbody tr th:only-of-type {\n",
       "        vertical-align: middle;\n",
       "    }\n",
       "\n",
       "    .dataframe tbody tr th {\n",
       "        vertical-align: top;\n",
       "    }\n",
       "\n",
       "    .dataframe thead th {\n",
       "        text-align: right;\n",
       "    }\n",
       "</style>\n",
       "<table border=\"1\" class=\"dataframe\">\n",
       "  <thead>\n",
       "    <tr style=\"text-align: right;\">\n",
       "      <th></th>\n",
       "      <th>fit_time</th>\n",
       "      <th>score_time</th>\n",
       "      <th>test_accuracy</th>\n",
       "      <th>train_accuracy</th>\n",
       "      <th>test_precision</th>\n",
       "      <th>train_precision</th>\n",
       "      <th>test_recall</th>\n",
       "      <th>train_recall</th>\n",
       "      <th>test_f1</th>\n",
       "      <th>train_f1</th>\n",
       "    </tr>\n",
       "  </thead>\n",
       "  <tbody>\n",
       "    <tr>\n",
       "      <th>CatBoost</th>\n",
       "      <td>6.813 (+/- 0.083)</td>\n",
       "      <td>0.027 (+/- 0.001)</td>\n",
       "      <td>1.000 (+/- 0.000)</td>\n",
       "      <td>1.000 (+/- 0.000)</td>\n",
       "      <td>0.999 (+/- 0.000)</td>\n",
       "      <td>1.000 (+/- 0.000)</td>\n",
       "      <td>0.997 (+/- 0.001)</td>\n",
       "      <td>1.000 (+/- 0.000)</td>\n",
       "      <td>0.998 (+/- 0.001)</td>\n",
       "      <td>1.000 (+/- 0.000)</td>\n",
       "    </tr>\n",
       "    <tr>\n",
       "      <th>LightGBM</th>\n",
       "      <td>0.664 (+/- 0.004)</td>\n",
       "      <td>0.044 (+/- 0.000)</td>\n",
       "      <td>0.999 (+/- 0.000)</td>\n",
       "      <td>1.000 (+/- 0.000)</td>\n",
       "      <td>0.999 (+/- 0.001)</td>\n",
       "      <td>1.000 (+/- 0.000)</td>\n",
       "      <td>0.992 (+/- 0.001)</td>\n",
       "      <td>0.998 (+/- 0.000)</td>\n",
       "      <td>0.995 (+/- 0.000)</td>\n",
       "      <td>0.999 (+/- 0.000)</td>\n",
       "    </tr>\n",
       "    <tr>\n",
       "      <th>XGBoost</th>\n",
       "      <td>3.816 (+/- 0.036)</td>\n",
       "      <td>0.028 (+/- 0.001)</td>\n",
       "      <td>1.000 (+/- 0.000)</td>\n",
       "      <td>1.000 (+/- 0.000)</td>\n",
       "      <td>0.999 (+/- 0.001)</td>\n",
       "      <td>1.000 (+/- 0.000)</td>\n",
       "      <td>0.996 (+/- 0.001)</td>\n",
       "      <td>1.000 (+/- 0.000)</td>\n",
       "      <td>0.997 (+/- 0.001)</td>\n",
       "      <td>1.000 (+/- 0.000)</td>\n",
       "    </tr>\n",
       "  </tbody>\n",
       "</table>\n",
       "</div>"
      ],
      "text/plain": [
       "                   fit_time         score_time      test_accuracy  \\\n",
       "CatBoost  6.813 (+/- 0.083)  0.027 (+/- 0.001)  1.000 (+/- 0.000)   \n",
       "LightGBM  0.664 (+/- 0.004)  0.044 (+/- 0.000)  0.999 (+/- 0.000)   \n",
       "XGBoost   3.816 (+/- 0.036)  0.028 (+/- 0.001)  1.000 (+/- 0.000)   \n",
       "\n",
       "             train_accuracy     test_precision    train_precision  \\\n",
       "CatBoost  1.000 (+/- 0.000)  0.999 (+/- 0.000)  1.000 (+/- 0.000)   \n",
       "LightGBM  1.000 (+/- 0.000)  0.999 (+/- 0.001)  1.000 (+/- 0.000)   \n",
       "XGBoost   1.000 (+/- 0.000)  0.999 (+/- 0.001)  1.000 (+/- 0.000)   \n",
       "\n",
       "                test_recall       train_recall            test_f1  \\\n",
       "CatBoost  0.997 (+/- 0.001)  1.000 (+/- 0.000)  0.998 (+/- 0.001)   \n",
       "LightGBM  0.992 (+/- 0.001)  0.998 (+/- 0.000)  0.995 (+/- 0.000)   \n",
       "XGBoost   0.996 (+/- 0.001)  1.000 (+/- 0.000)  0.997 (+/- 0.001)   \n",
       "\n",
       "                   train_f1  \n",
       "CatBoost  1.000 (+/- 0.000)  \n",
       "LightGBM  0.999 (+/- 0.000)  \n",
       "XGBoost   1.000 (+/- 0.000)  "
      ]
     },
     "execution_count": 36,
     "metadata": {},
     "output_type": "execute_result"
    }
   ],
   "source": [
    "pd.DataFrame(results_40_45).T"
   ]
  },
  {
   "cell_type": "markdown",
   "id": "c5321b1c-2ee3-4c80-aabe-f5977babe071",
   "metadata": {},
   "source": [
    "### 3.0 Performance of best model (CatBoostClassifier) on test data"
   ]
  },
  {
   "cell_type": "code",
   "execution_count": 37,
   "id": "48c96b16-2590-4d84-b9b4-36e9c2b1ca56",
   "metadata": {},
   "outputs": [
    {
     "data": {
      "text/html": [
       "<style>#sk-container-id-1 {color: black;background-color: white;}#sk-container-id-1 pre{padding: 0;}#sk-container-id-1 div.sk-toggleable {background-color: white;}#sk-container-id-1 label.sk-toggleable__label {cursor: pointer;display: block;width: 100%;margin-bottom: 0;padding: 0.3em;box-sizing: border-box;text-align: center;}#sk-container-id-1 label.sk-toggleable__label-arrow:before {content: \"▸\";float: left;margin-right: 0.25em;color: #696969;}#sk-container-id-1 label.sk-toggleable__label-arrow:hover:before {color: black;}#sk-container-id-1 div.sk-estimator:hover label.sk-toggleable__label-arrow:before {color: black;}#sk-container-id-1 div.sk-toggleable__content {max-height: 0;max-width: 0;overflow: hidden;text-align: left;background-color: #f0f8ff;}#sk-container-id-1 div.sk-toggleable__content pre {margin: 0.2em;color: black;border-radius: 0.25em;background-color: #f0f8ff;}#sk-container-id-1 input.sk-toggleable__control:checked~div.sk-toggleable__content {max-height: 200px;max-width: 100%;overflow: auto;}#sk-container-id-1 input.sk-toggleable__control:checked~label.sk-toggleable__label-arrow:before {content: \"▾\";}#sk-container-id-1 div.sk-estimator input.sk-toggleable__control:checked~label.sk-toggleable__label {background-color: #d4ebff;}#sk-container-id-1 div.sk-label input.sk-toggleable__control:checked~label.sk-toggleable__label {background-color: #d4ebff;}#sk-container-id-1 input.sk-hidden--visually {border: 0;clip: rect(1px 1px 1px 1px);clip: rect(1px, 1px, 1px, 1px);height: 1px;margin: -1px;overflow: hidden;padding: 0;position: absolute;width: 1px;}#sk-container-id-1 div.sk-estimator {font-family: monospace;background-color: #f0f8ff;border: 1px dotted black;border-radius: 0.25em;box-sizing: border-box;margin-bottom: 0.5em;}#sk-container-id-1 div.sk-estimator:hover {background-color: #d4ebff;}#sk-container-id-1 div.sk-parallel-item::after {content: \"\";width: 100%;border-bottom: 1px solid gray;flex-grow: 1;}#sk-container-id-1 div.sk-label:hover label.sk-toggleable__label {background-color: #d4ebff;}#sk-container-id-1 div.sk-serial::before {content: \"\";position: absolute;border-left: 1px solid gray;box-sizing: border-box;top: 0;bottom: 0;left: 50%;z-index: 0;}#sk-container-id-1 div.sk-serial {display: flex;flex-direction: column;align-items: center;background-color: white;padding-right: 0.2em;padding-left: 0.2em;position: relative;}#sk-container-id-1 div.sk-item {position: relative;z-index: 1;}#sk-container-id-1 div.sk-parallel {display: flex;align-items: stretch;justify-content: center;background-color: white;position: relative;}#sk-container-id-1 div.sk-item::before, #sk-container-id-1 div.sk-parallel-item::before {content: \"\";position: absolute;border-left: 1px solid gray;box-sizing: border-box;top: 0;bottom: 0;left: 50%;z-index: -1;}#sk-container-id-1 div.sk-parallel-item {display: flex;flex-direction: column;z-index: 1;position: relative;background-color: white;}#sk-container-id-1 div.sk-parallel-item:first-child::after {align-self: flex-end;width: 50%;}#sk-container-id-1 div.sk-parallel-item:last-child::after {align-self: flex-start;width: 50%;}#sk-container-id-1 div.sk-parallel-item:only-child::after {width: 0;}#sk-container-id-1 div.sk-dashed-wrapped {border: 1px dashed gray;margin: 0 0.4em 0.5em 0.4em;box-sizing: border-box;padding-bottom: 0.4em;background-color: white;}#sk-container-id-1 div.sk-label label {font-family: monospace;font-weight: bold;display: inline-block;line-height: 1.2em;}#sk-container-id-1 div.sk-label-container {text-align: center;}#sk-container-id-1 div.sk-container {/* jupyter's `normalize.less` sets `[hidden] { display: none; }` but bootstrap.min.css set `[hidden] { display: none !important; }` so we also need the `!important` here to be able to override the default hidden behavior on the sphinx rendered scikit-learn.org. See: https://github.com/scikit-learn/scikit-learn/issues/21755 */display: inline-block !important;position: relative;}#sk-container-id-1 div.sk-text-repr-fallback {display: none;}</style><div id=\"sk-container-id-1\" class=\"sk-top-container\"><div class=\"sk-text-repr-fallback\"><pre>Pipeline(steps=[(&#x27;standardscaler&#x27;, StandardScaler()),\n",
       "                (&#x27;catboostclassifier&#x27;,\n",
       "                 &lt;catboost.core.CatBoostClassifier object at 0x16cf42350&gt;)])</pre><b>In a Jupyter environment, please rerun this cell to show the HTML representation or trust the notebook. <br />On GitHub, the HTML representation is unable to render, please try loading this page with nbviewer.org.</b></div><div class=\"sk-container\" hidden><div class=\"sk-item sk-dashed-wrapped\"><div class=\"sk-label-container\"><div class=\"sk-label sk-toggleable\"><input class=\"sk-toggleable__control sk-hidden--visually\" id=\"sk-estimator-id-1\" type=\"checkbox\" ><label for=\"sk-estimator-id-1\" class=\"sk-toggleable__label sk-toggleable__label-arrow\">Pipeline</label><div class=\"sk-toggleable__content\"><pre>Pipeline(steps=[(&#x27;standardscaler&#x27;, StandardScaler()),\n",
       "                (&#x27;catboostclassifier&#x27;,\n",
       "                 &lt;catboost.core.CatBoostClassifier object at 0x16cf42350&gt;)])</pre></div></div></div><div class=\"sk-serial\"><div class=\"sk-item\"><div class=\"sk-estimator sk-toggleable\"><input class=\"sk-toggleable__control sk-hidden--visually\" id=\"sk-estimator-id-2\" type=\"checkbox\" ><label for=\"sk-estimator-id-2\" class=\"sk-toggleable__label sk-toggleable__label-arrow\">StandardScaler</label><div class=\"sk-toggleable__content\"><pre>StandardScaler()</pre></div></div></div><div class=\"sk-item\"><div class=\"sk-estimator sk-toggleable\"><input class=\"sk-toggleable__control sk-hidden--visually\" id=\"sk-estimator-id-3\" type=\"checkbox\" ><label for=\"sk-estimator-id-3\" class=\"sk-toggleable__label sk-toggleable__label-arrow\">CatBoostClassifier</label><div class=\"sk-toggleable__content\"><pre>&lt;catboost.core.CatBoostClassifier object at 0x16cf42350&gt;</pre></div></div></div></div></div></div></div>"
      ],
      "text/plain": [
       "Pipeline(steps=[('standardscaler', StandardScaler()),\n",
       "                ('catboostclassifier',\n",
       "                 <catboost.core.CatBoostClassifier object at 0x16cf42350>)])"
      ]
     },
     "execution_count": 37,
     "metadata": {},
     "output_type": "execute_result"
    }
   ],
   "source": [
    "pipe_catboost.fit(X_train, y_train)"
   ]
  },
  {
   "cell_type": "code",
   "execution_count": 38,
   "id": "49e611e6-63e8-40ab-9d74-e2719a44aed6",
   "metadata": {},
   "outputs": [
    {
     "data": {
      "text/plain": [
       "0.9998223485521407"
      ]
     },
     "execution_count": 38,
     "metadata": {},
     "output_type": "execute_result"
    }
   ],
   "source": [
    "# prediction accuracy on test data\n",
    "pipe_catboost.score(X_test, y_test)"
   ]
  },
  {
   "cell_type": "code",
   "execution_count": 39,
   "id": "fde1e59e-840e-49c4-8999-1a13eed1e0ac",
   "metadata": {},
   "outputs": [
    {
     "data": {
      "text/plain": [
       "0.9982939312698026"
      ]
     },
     "execution_count": 39,
     "metadata": {},
     "output_type": "execute_result"
    }
   ],
   "source": [
    "# prediction recall on test data\n",
    "recall_score(y_test, pipe_catboost.predict(X_test))"
   ]
  },
  {
   "cell_type": "code",
   "execution_count": 40,
   "id": "f8aae399-d58d-4c19-ad78-7ad3625803d3",
   "metadata": {},
   "outputs": [],
   "source": [
    "# output predicted label vs given label (assuming as ground truth)\n",
    "y_pred = pipe_catboost.predict(X_test)\n",
    "\n",
    "pred_df = pd.DataFrame(y_pred, y_test).reset_index()\n",
    "pred_df.columns=['predited_label','given_label']"
   ]
  },
  {
   "cell_type": "code",
   "execution_count": 41,
   "id": "ca99dfdb-9986-4bf6-8350-9afa0c5be760",
   "metadata": {},
   "outputs": [
    {
     "data": {
      "text/html": [
       "<div>\n",
       "<style scoped>\n",
       "    .dataframe tbody tr th:only-of-type {\n",
       "        vertical-align: middle;\n",
       "    }\n",
       "\n",
       "    .dataframe tbody tr th {\n",
       "        vertical-align: top;\n",
       "    }\n",
       "\n",
       "    .dataframe thead th {\n",
       "        text-align: right;\n",
       "    }\n",
       "</style>\n",
       "<table border=\"1\" class=\"dataframe\">\n",
       "  <thead>\n",
       "    <tr style=\"text-align: right;\">\n",
       "      <th></th>\n",
       "      <th>predited_label</th>\n",
       "      <th>given_label</th>\n",
       "    </tr>\n",
       "  </thead>\n",
       "  <tbody>\n",
       "    <tr>\n",
       "      <th>0</th>\n",
       "      <td>0</td>\n",
       "      <td>0</td>\n",
       "    </tr>\n",
       "    <tr>\n",
       "      <th>1</th>\n",
       "      <td>0</td>\n",
       "      <td>0</td>\n",
       "    </tr>\n",
       "    <tr>\n",
       "      <th>2</th>\n",
       "      <td>0</td>\n",
       "      <td>0</td>\n",
       "    </tr>\n",
       "    <tr>\n",
       "      <th>3</th>\n",
       "      <td>1</td>\n",
       "      <td>1</td>\n",
       "    </tr>\n",
       "    <tr>\n",
       "      <th>4</th>\n",
       "      <td>0</td>\n",
       "      <td>0</td>\n",
       "    </tr>\n",
       "    <tr>\n",
       "      <th>...</th>\n",
       "      <td>...</td>\n",
       "      <td>...</td>\n",
       "    </tr>\n",
       "    <tr>\n",
       "      <th>45027</th>\n",
       "      <td>0</td>\n",
       "      <td>0</td>\n",
       "    </tr>\n",
       "    <tr>\n",
       "      <th>45028</th>\n",
       "      <td>0</td>\n",
       "      <td>0</td>\n",
       "    </tr>\n",
       "    <tr>\n",
       "      <th>45029</th>\n",
       "      <td>0</td>\n",
       "      <td>0</td>\n",
       "    </tr>\n",
       "    <tr>\n",
       "      <th>45030</th>\n",
       "      <td>0</td>\n",
       "      <td>0</td>\n",
       "    </tr>\n",
       "    <tr>\n",
       "      <th>45031</th>\n",
       "      <td>1</td>\n",
       "      <td>1</td>\n",
       "    </tr>\n",
       "  </tbody>\n",
       "</table>\n",
       "<p>45032 rows × 2 columns</p>\n",
       "</div>"
      ],
      "text/plain": [
       "       predited_label  given_label\n",
       "0                   0            0\n",
       "1                   0            0\n",
       "2                   0            0\n",
       "3                   1            1\n",
       "4                   0            0\n",
       "...               ...          ...\n",
       "45027               0            0\n",
       "45028               0            0\n",
       "45029               0            0\n",
       "45030               0            0\n",
       "45031               1            1\n",
       "\n",
       "[45032 rows x 2 columns]"
      ]
     },
     "execution_count": 41,
     "metadata": {},
     "output_type": "execute_result"
    }
   ],
   "source": [
    "pred_df"
   ]
  },
  {
   "cell_type": "markdown",
   "id": "29d9d9b4-5bfa-458d-8252-6c46fa82a1c4",
   "metadata": {},
   "source": [
    "**Manually calculate pion efficiency:**"
   ]
  },
  {
   "cell_type": "code",
   "execution_count": 42,
   "id": "22d03e49-35d1-4179-9648-d7e7227cc39d",
   "metadata": {},
   "outputs": [
    {
     "data": {
      "text/plain": [
       "0.9997559189650964"
      ]
     },
     "execution_count": 42,
     "metadata": {},
     "output_type": "execute_result"
    }
   ],
   "source": [
    "# total number of true pion\n",
    "num_pi_true = len(pred_df.query('given_label == 1'))\n",
    "# Ture Positive (correctly predicted as pion)\n",
    "num_pi_TP = len(pred_df.query('given_label == 1 & predited_label == 1'))\n",
    "\n",
    "# recall(True Positive Rate)/pion efficiency\n",
    "pi_efficiency = num_pi_TP/num_pi_true\n",
    "pi_efficiency"
   ]
  },
  {
   "cell_type": "markdown",
   "id": "4c770245-994e-44bb-9844-fce562e5f791",
   "metadata": {},
   "source": [
    "**Manually calculate muon efficiency:**"
   ]
  },
  {
   "cell_type": "code",
   "execution_count": 43,
   "id": "baabe298-7900-459a-8257-b33c75ff99c4",
   "metadata": {},
   "outputs": [
    {
     "data": {
      "text/plain": [
       "0.0001710028093318676"
      ]
     },
     "execution_count": 43,
     "metadata": {},
     "output_type": "execute_result"
    }
   ],
   "source": [
    "# total number of true muon\n",
    "num_mu_true = len(pred_df.query('given_label == 0'))\n",
    "# False Positive (incorrectly predicted as pion)\n",
    "num_mu_FP = len(pred_df.query('given_label == 0 & predited_label == 1'))\n",
    "\n",
    "# False Positive Rate/muon efficiency\n",
    "mu_efficiency = num_mu_FP/num_mu_true\n",
    "mu_efficiency"
   ]
  },
  {
   "cell_type": "code",
   "execution_count": null,
   "id": "84956c20-168c-44dd-8a66-d0ac7dacce91",
   "metadata": {},
   "outputs": [],
   "source": []
  }
 ],
 "metadata": {
  "kernelspec": {
   "display_name": "Python [conda env:591]",
   "language": "python",
   "name": "conda-env-591-py"
  },
  "language_info": {
   "codemirror_mode": {
    "name": "ipython",
    "version": 3
   },
   "file_extension": ".py",
   "mimetype": "text/x-python",
   "name": "python",
   "nbconvert_exporter": "python",
   "pygments_lexer": "ipython3",
   "version": "3.10.8"
  }
 },
 "nbformat": 4,
 "nbformat_minor": 5
}
