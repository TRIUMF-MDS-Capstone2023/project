{
 "cells": [
  {
   "cell_type": "markdown",
   "id": "7f15a70c-bb00-45eb-93bd-fb5f25d79a31",
   "metadata": {},
   "source": [
    "## Regression network on engineered features"
   ]
  },
  {
   "cell_type": "markdown",
   "id": "6272b4da-4ab1-4eef-a23f-c97b14f689f0",
   "metadata": {},
   "source": [
    "- **Train the regression models on muons only**  \n",
    "- **Test on testing portion of muons and all pions**  \n",
    "- **No selection on momentum range**  \n",
    "- **Only the in-time hits where delta <= 0.5 are included**"
   ]
  },
  {
   "cell_type": "code",
   "execution_count": 1,
   "id": "61ea46fa-07de-43ea-910d-3e77536e36b1",
   "metadata": {},
   "outputs": [],
   "source": [
    "import numpy as np\n",
    "import pandas as pd\n",
    "import torch\n",
    "from torch import nn\n",
    "import pyarrow as pa\n",
    "import polars as pl\n",
    "from sklearn.metrics import make_scorer, mean_absolute_error, r2_score\n",
    "from sklearn.model_selection import train_test_split\n",
    "from torch.utils.data import DataLoader, TensorDataset, random_split\n",
    "import torch.optim as optim\n",
    "import tqdm\n",
    "from torchsummary import summary\n",
    "import seaborn as sns\n",
    "import matplotlib.pyplot as plt\n",
    "from helpers import mean_std_cross_val_scores"
   ]
  },
  {
   "cell_type": "markdown",
   "id": "ea877005-064a-4ddb-9125-d72fb8bde77c",
   "metadata": {},
   "source": [
    "- **Regressors (Engineered features used for the models):**\n",
    "    - `total_in_time_hits`: total number of in-time hits in each event \n",
    "    - `x_aligned_min`: minimum hit position realigned by subtracting track position x in each event\n",
    "    - `x_aligned_max`: maximum hit position realigned by subtracting track position x in each event\n",
    "    - `y_aligned_min`: minimum hit position realigned by subtracting track position y in each event\n",
    "    - `y_aligned_max`: maximum hit position realigned by subtracting track position y in each event\n",
    "    - `x_aligned_width`: maximum hit position x minus minimum hit position x in each event\n",
    "    - `y_aligned_witdh`: maximum hit position y minus minimum hit position y in each event `\n",
    "    - `hit_distance_min`: minimum distance between hit position and track position in each event \n",
    "    - `hit_distance_max`: maximum distance between hit position and track position in each event \n",
    "    - `hit_distance_mean`: mean distance between hit position and track position in each event \n",
    "    - `hit_distance_median`: median distance between hit position and track position in each event\n",
    "    - `hit_distance_q25`: 25% percentile distance between hit position and track position in each event\n",
    "    - `hit_distance_q75`: 75% percentile distance between hit position and track position in each event\n",
    "    - `hit_distance_rms`: root mean squared distance between hit position and track position in each event \n",
    "    - `hull_area`: hull area of the convex hull\n",
    "    - `hull_diameter`: the longest line among all the points\n",
    "    - `hull_diff_width_diameter`: the absolute difference between `hull_diameter` and `hull_width`\n",
    "    - `hull_width`: closest distance of the parallel lines that encloses all points  "
   ]
  },
  {
   "cell_type": "markdown",
   "id": "c315675e-c3b5-44ac-959c-6fb9dc8774a4",
   "metadata": {},
   "source": [
    "- **Target:**\n",
    "    - `ring_radius_cal`: calculated ring radius based on the particle mass and track momentum"
   ]
  },
  {
   "cell_type": "markdown",
   "id": "d86b52db-41fb-4549-a8af-f4a9b51e782b",
   "metadata": {},
   "source": [
    "### 1.0 Read and process data"
   ]
  },
  {
   "cell_type": "code",
   "execution_count": 2,
   "id": "6543235b-7181-4601-b30c-1696fa61ffba",
   "metadata": {},
   "outputs": [],
   "source": [
    "event_with_hit_features_path = 'data/events_with_hit_features_[cut_off_time=0.5].parquet'"
   ]
  },
  {
   "cell_type": "code",
   "execution_count": 3,
   "id": "ff3af785-aa23-4d26-9cbd-2103744486b1",
   "metadata": {},
   "outputs": [],
   "source": [
    "df = pl.read_parquet(event_with_hit_features_path\n",
    "                    ).drop_nulls()"
   ]
  },
  {
   "cell_type": "code",
   "execution_count": 4,
   "id": "d47d4297-7c19-4d78-b2f5-4eef43633da8",
   "metadata": {},
   "outputs": [
    {
     "data": {
      "text/plain": [
       "(2374977, 42)"
      ]
     },
     "execution_count": 4,
     "metadata": {},
     "output_type": "execute_result"
    }
   ],
   "source": [
    "df.shape"
   ]
  },
  {
   "cell_type": "code",
   "execution_count": 5,
   "id": "d7b4c4c4-8441-476f-bd2e-b4f59dbac965",
   "metadata": {},
   "outputs": [],
   "source": [
    "# remove events with ring_radius_cal == NaN\n",
    "# Polars allows NaN for float columns. \n",
    "# These NaN values are considered to be a type of floating point data rather than missing data (Null)\n",
    "# https://pola-rs.github.io/polars-book/user-guide/expressions/null/#fill-with-interpolation\n",
    "df = df.filter(pl.col('ring_radius_cal').is_not_nan())"
   ]
  },
  {
   "cell_type": "code",
   "execution_count": 6,
   "id": "5cdd5838-8c9d-4ea4-b6c7-72cc90ef4001",
   "metadata": {},
   "outputs": [
    {
     "data": {
      "text/plain": [
       "(2374295, 42)"
      ]
     },
     "execution_count": 6,
     "metadata": {},
     "output_type": "execute_result"
    }
   ],
   "source": [
    "df.shape"
   ]
  },
  {
   "cell_type": "code",
   "execution_count": 7,
   "id": "8d848e4e-38a5-49da-b8f1-5a2820a8cc5a",
   "metadata": {},
   "outputs": [],
   "source": [
    "# select data for muon only(label as 0)\n",
    "df_muon = df.filter(pl.col('label')==0)"
   ]
  },
  {
   "cell_type": "code",
   "execution_count": 8,
   "id": "461ee921-247b-40bf-967a-b063c2c7579e",
   "metadata": {},
   "outputs": [
    {
     "data": {
      "text/plain": [
       "(2158648, 42)"
      ]
     },
     "execution_count": 8,
     "metadata": {},
     "output_type": "execute_result"
    }
   ],
   "source": [
    "df_muon.shape"
   ]
  },
  {
   "cell_type": "code",
   "execution_count": 9,
   "id": "66d0bb57-324c-4a7c-9157-f9d60a64438f",
   "metadata": {},
   "outputs": [
    {
     "data": {
      "text/html": [
       "<div><style>\n",
       ".dataframe > thead > tr > th,\n",
       ".dataframe > tbody > tr > td {\n",
       "  text-align: right;\n",
       "}\n",
       "</style>\n",
       "<small>shape: (1, 1)</small><table border=\"1\" class=\"dataframe\"><thead><tr><th>ring_radius_cal</th></tr><tr><td>f32</td></tr></thead><tbody><tr><td>8.215014</td></tr></tbody></table></div>"
      ],
      "text/plain": [
       "shape: (1, 1)\n",
       "┌─────────────────┐\n",
       "│ ring_radius_cal │\n",
       "│ ---             │\n",
       "│ f32             │\n",
       "╞═════════════════╡\n",
       "│ 8.215014        │\n",
       "└─────────────────┘"
      ]
     },
     "execution_count": 9,
     "metadata": {},
     "output_type": "execute_result"
    }
   ],
   "source": [
    "# check min of ring_radius_cal\n",
    "df_muon.select('ring_radius_cal').min()"
   ]
  },
  {
   "cell_type": "code",
   "execution_count": 10,
   "id": "90507954-2ef7-49a4-bec4-d3615a00f5d9",
   "metadata": {},
   "outputs": [],
   "source": [
    "train_df, test_df = train_test_split(df_muon, \n",
    "                                     test_size=0.2,\n",
    "                                     random_state=42,\n",
    "                                     shuffle=True)"
   ]
  },
  {
   "cell_type": "code",
   "execution_count": 11,
   "id": "1ee4fcb6-5fac-4fbb-8df0-3299100bf451",
   "metadata": {},
   "outputs": [],
   "source": [
    "X_train_raw, y_train = train_df.select(['total_in_time_hits','x_aligned_min', 'x_aligned_max', 'x_aligned_width',\n",
    "            'y_aligned_min', 'y_aligned_max', 'y_aligned_width',\n",
    "            'hit_distance_min', 'hit_distance_max', 'hit_distance_mean', 'hit_distance_median',\n",
    "            'hit_distance_q25', 'hit_distance_q75', 'hit_distance_rms',\n",
    "            'hull_area', 'hull_diameter', 'hull_diff_width_diameter', 'hull_width']\n",
    "                                  ), train_df.select('ring_radius_cal')"
   ]
  },
  {
   "cell_type": "code",
   "execution_count": 12,
   "id": "d41c4d11-b5ab-44ce-bc36-99019297ee6f",
   "metadata": {},
   "outputs": [],
   "source": [
    "X_test_raw, y_test = test_df.select(['total_in_time_hits','x_aligned_min', 'x_aligned_max', 'x_aligned_width',\n",
    "            'y_aligned_min', 'y_aligned_max', 'y_aligned_width',\n",
    "            'hit_distance_min', 'hit_distance_max', 'hit_distance_mean', 'hit_distance_median',\n",
    "            'hit_distance_q25', 'hit_distance_q75', 'hit_distance_rms',\n",
    "            'hull_area', 'hull_diameter', 'hull_diff_width_diameter', 'hull_width']\n",
    "                                  ), test_df.select('ring_radius_cal')"
   ]
  },
  {
   "cell_type": "code",
   "execution_count": 13,
   "id": "14201991-9bea-4b00-8137-e0a7c9956b00",
   "metadata": {},
   "outputs": [],
   "source": [
    "# Standardizing data\n",
    "from sklearn.preprocessing import StandardScaler\n",
    "\n",
    "scaler = StandardScaler()\n",
    "scaler.fit(X_train_raw)\n",
    "X_train = scaler.transform(X_train_raw)\n",
    "X_test = scaler.transform(X_test_raw)"
   ]
  },
  {
   "cell_type": "markdown",
   "id": "7572642c-b8f5-4f3b-823d-6b7db4fd2e47",
   "metadata": {},
   "source": [
    "### 2.0 Baseline sklearn LinearRegression"
   ]
  },
  {
   "cell_type": "code",
   "execution_count": 14,
   "id": "ff033e54-377b-45f9-bf79-fb6b6ced920e",
   "metadata": {},
   "outputs": [],
   "source": [
    "regression_metrics = [\"r2\", \"neg_mean_absolute_error\", \"neg_median_absolute_error\"]"
   ]
  },
  {
   "cell_type": "code",
   "execution_count": 15,
   "id": "5e4b0e5d-5194-42fa-ab4a-4b7a8bf9e3e6",
   "metadata": {},
   "outputs": [],
   "source": [
    "from sklearn.linear_model import LinearRegression"
   ]
  },
  {
   "cell_type": "code",
   "execution_count": 16,
   "id": "9591834d-7051-4e61-9d51-3beacc65a02f",
   "metadata": {},
   "outputs": [],
   "source": [
    "model_lr = LinearRegression()"
   ]
  },
  {
   "cell_type": "code",
   "execution_count": 17,
   "id": "d8d7baa4-3c19-441a-9598-7e86ff3d0676",
   "metadata": {},
   "outputs": [
    {
     "name": "stdout",
     "output_type": "stream",
     "text": [
      "CPU times: user 674 ms, sys: 123 ms, total: 798 ms\n",
      "Wall time: 539 ms\n"
     ]
    },
    {
     "data": {
      "text/html": [
       "<style>#sk-container-id-1 {color: black;background-color: white;}#sk-container-id-1 pre{padding: 0;}#sk-container-id-1 div.sk-toggleable {background-color: white;}#sk-container-id-1 label.sk-toggleable__label {cursor: pointer;display: block;width: 100%;margin-bottom: 0;padding: 0.3em;box-sizing: border-box;text-align: center;}#sk-container-id-1 label.sk-toggleable__label-arrow:before {content: \"▸\";float: left;margin-right: 0.25em;color: #696969;}#sk-container-id-1 label.sk-toggleable__label-arrow:hover:before {color: black;}#sk-container-id-1 div.sk-estimator:hover label.sk-toggleable__label-arrow:before {color: black;}#sk-container-id-1 div.sk-toggleable__content {max-height: 0;max-width: 0;overflow: hidden;text-align: left;background-color: #f0f8ff;}#sk-container-id-1 div.sk-toggleable__content pre {margin: 0.2em;color: black;border-radius: 0.25em;background-color: #f0f8ff;}#sk-container-id-1 input.sk-toggleable__control:checked~div.sk-toggleable__content {max-height: 200px;max-width: 100%;overflow: auto;}#sk-container-id-1 input.sk-toggleable__control:checked~label.sk-toggleable__label-arrow:before {content: \"▾\";}#sk-container-id-1 div.sk-estimator input.sk-toggleable__control:checked~label.sk-toggleable__label {background-color: #d4ebff;}#sk-container-id-1 div.sk-label input.sk-toggleable__control:checked~label.sk-toggleable__label {background-color: #d4ebff;}#sk-container-id-1 input.sk-hidden--visually {border: 0;clip: rect(1px 1px 1px 1px);clip: rect(1px, 1px, 1px, 1px);height: 1px;margin: -1px;overflow: hidden;padding: 0;position: absolute;width: 1px;}#sk-container-id-1 div.sk-estimator {font-family: monospace;background-color: #f0f8ff;border: 1px dotted black;border-radius: 0.25em;box-sizing: border-box;margin-bottom: 0.5em;}#sk-container-id-1 div.sk-estimator:hover {background-color: #d4ebff;}#sk-container-id-1 div.sk-parallel-item::after {content: \"\";width: 100%;border-bottom: 1px solid gray;flex-grow: 1;}#sk-container-id-1 div.sk-label:hover label.sk-toggleable__label {background-color: #d4ebff;}#sk-container-id-1 div.sk-serial::before {content: \"\";position: absolute;border-left: 1px solid gray;box-sizing: border-box;top: 0;bottom: 0;left: 50%;z-index: 0;}#sk-container-id-1 div.sk-serial {display: flex;flex-direction: column;align-items: center;background-color: white;padding-right: 0.2em;padding-left: 0.2em;position: relative;}#sk-container-id-1 div.sk-item {position: relative;z-index: 1;}#sk-container-id-1 div.sk-parallel {display: flex;align-items: stretch;justify-content: center;background-color: white;position: relative;}#sk-container-id-1 div.sk-item::before, #sk-container-id-1 div.sk-parallel-item::before {content: \"\";position: absolute;border-left: 1px solid gray;box-sizing: border-box;top: 0;bottom: 0;left: 50%;z-index: -1;}#sk-container-id-1 div.sk-parallel-item {display: flex;flex-direction: column;z-index: 1;position: relative;background-color: white;}#sk-container-id-1 div.sk-parallel-item:first-child::after {align-self: flex-end;width: 50%;}#sk-container-id-1 div.sk-parallel-item:last-child::after {align-self: flex-start;width: 50%;}#sk-container-id-1 div.sk-parallel-item:only-child::after {width: 0;}#sk-container-id-1 div.sk-dashed-wrapped {border: 1px dashed gray;margin: 0 0.4em 0.5em 0.4em;box-sizing: border-box;padding-bottom: 0.4em;background-color: white;}#sk-container-id-1 div.sk-label label {font-family: monospace;font-weight: bold;display: inline-block;line-height: 1.2em;}#sk-container-id-1 div.sk-label-container {text-align: center;}#sk-container-id-1 div.sk-container {/* jupyter's `normalize.less` sets `[hidden] { display: none; }` but bootstrap.min.css set `[hidden] { display: none !important; }` so we also need the `!important` here to be able to override the default hidden behavior on the sphinx rendered scikit-learn.org. See: https://github.com/scikit-learn/scikit-learn/issues/21755 */display: inline-block !important;position: relative;}#sk-container-id-1 div.sk-text-repr-fallback {display: none;}</style><div id=\"sk-container-id-1\" class=\"sk-top-container\"><div class=\"sk-text-repr-fallback\"><pre>LinearRegression()</pre><b>In a Jupyter environment, please rerun this cell to show the HTML representation or trust the notebook. <br />On GitHub, the HTML representation is unable to render, please try loading this page with nbviewer.org.</b></div><div class=\"sk-container\" hidden><div class=\"sk-item\"><div class=\"sk-estimator sk-toggleable\"><input class=\"sk-toggleable__control sk-hidden--visually\" id=\"sk-estimator-id-1\" type=\"checkbox\" checked><label for=\"sk-estimator-id-1\" class=\"sk-toggleable__label sk-toggleable__label-arrow\">LinearRegression</label><div class=\"sk-toggleable__content\"><pre>LinearRegression()</pre></div></div></div></div></div>"
      ],
      "text/plain": [
       "LinearRegression()"
      ]
     },
     "execution_count": 17,
     "metadata": {},
     "output_type": "execute_result"
    }
   ],
   "source": [
    "%%time\n",
    "model_lr.fit(X_train, y_train)"
   ]
  },
  {
   "cell_type": "code",
   "execution_count": 18,
   "id": "6e0293a9-7c37-4ef6-ac88-261ab43c7a3f",
   "metadata": {},
   "outputs": [],
   "source": [
    "results = {}\n",
    "\n",
    "results['LinearRegression'] = mean_std_cross_val_scores(\n",
    "    model_lr, \n",
    "    X_train, \n",
    "    y_train, \n",
    "    return_train_score=True, \n",
    "    scoring=regression_metrics)"
   ]
  },
  {
   "cell_type": "code",
   "execution_count": 19,
   "id": "06224872-2342-422f-8ae5-374f612f8442",
   "metadata": {},
   "outputs": [
    {
     "data": {
      "text/plain": [
       "0.8526309371040279"
      ]
     },
     "execution_count": 19,
     "metadata": {},
     "output_type": "execute_result"
    }
   ],
   "source": [
    "model_lr.score(X_test, y_test)"
   ]
  },
  {
   "cell_type": "code",
   "execution_count": 20,
   "id": "a114bf16-ec7c-4c83-ad3c-74764460d36a",
   "metadata": {},
   "outputs": [
    {
     "data": {
      "text/plain": [
       "2.3165054187013925"
      ]
     },
     "execution_count": 20,
     "metadata": {},
     "output_type": "execute_result"
    }
   ],
   "source": [
    "mean_absolute_error(y_test, model_lr.predict(X_test))"
   ]
  },
  {
   "cell_type": "markdown",
   "id": "ca0a5d6e-8da8-4e01-97a2-576c0e6c0700",
   "metadata": {},
   "source": [
    "### 3.0 Baseline XGBRegressor"
   ]
  },
  {
   "cell_type": "code",
   "execution_count": 21,
   "id": "1ea0c243-ca15-45c7-a70d-43bcbac87b89",
   "metadata": {},
   "outputs": [],
   "source": [
    "import xgboost as xgb\n",
    "from xgboost import XGBRegressor"
   ]
  },
  {
   "cell_type": "code",
   "execution_count": 22,
   "id": "82a65854-87dd-4039-9017-4204aabf31c4",
   "metadata": {},
   "outputs": [],
   "source": [
    "xgb_reg = xgb.XGBRegressor()"
   ]
  },
  {
   "cell_type": "code",
   "execution_count": 23,
   "id": "451503c8-a13a-4660-8d5c-bea5f02003eb",
   "metadata": {},
   "outputs": [
    {
     "name": "stdout",
     "output_type": "stream",
     "text": [
      "CPU times: user 9min 21s, sys: 34.3 s, total: 9min 55s\n",
      "Wall time: 1min 17s\n"
     ]
    },
    {
     "data": {
      "text/html": [
       "<style>#sk-container-id-2 {color: black;background-color: white;}#sk-container-id-2 pre{padding: 0;}#sk-container-id-2 div.sk-toggleable {background-color: white;}#sk-container-id-2 label.sk-toggleable__label {cursor: pointer;display: block;width: 100%;margin-bottom: 0;padding: 0.3em;box-sizing: border-box;text-align: center;}#sk-container-id-2 label.sk-toggleable__label-arrow:before {content: \"▸\";float: left;margin-right: 0.25em;color: #696969;}#sk-container-id-2 label.sk-toggleable__label-arrow:hover:before {color: black;}#sk-container-id-2 div.sk-estimator:hover label.sk-toggleable__label-arrow:before {color: black;}#sk-container-id-2 div.sk-toggleable__content {max-height: 0;max-width: 0;overflow: hidden;text-align: left;background-color: #f0f8ff;}#sk-container-id-2 div.sk-toggleable__content pre {margin: 0.2em;color: black;border-radius: 0.25em;background-color: #f0f8ff;}#sk-container-id-2 input.sk-toggleable__control:checked~div.sk-toggleable__content {max-height: 200px;max-width: 100%;overflow: auto;}#sk-container-id-2 input.sk-toggleable__control:checked~label.sk-toggleable__label-arrow:before {content: \"▾\";}#sk-container-id-2 div.sk-estimator input.sk-toggleable__control:checked~label.sk-toggleable__label {background-color: #d4ebff;}#sk-container-id-2 div.sk-label input.sk-toggleable__control:checked~label.sk-toggleable__label {background-color: #d4ebff;}#sk-container-id-2 input.sk-hidden--visually {border: 0;clip: rect(1px 1px 1px 1px);clip: rect(1px, 1px, 1px, 1px);height: 1px;margin: -1px;overflow: hidden;padding: 0;position: absolute;width: 1px;}#sk-container-id-2 div.sk-estimator {font-family: monospace;background-color: #f0f8ff;border: 1px dotted black;border-radius: 0.25em;box-sizing: border-box;margin-bottom: 0.5em;}#sk-container-id-2 div.sk-estimator:hover {background-color: #d4ebff;}#sk-container-id-2 div.sk-parallel-item::after {content: \"\";width: 100%;border-bottom: 1px solid gray;flex-grow: 1;}#sk-container-id-2 div.sk-label:hover label.sk-toggleable__label {background-color: #d4ebff;}#sk-container-id-2 div.sk-serial::before {content: \"\";position: absolute;border-left: 1px solid gray;box-sizing: border-box;top: 0;bottom: 0;left: 50%;z-index: 0;}#sk-container-id-2 div.sk-serial {display: flex;flex-direction: column;align-items: center;background-color: white;padding-right: 0.2em;padding-left: 0.2em;position: relative;}#sk-container-id-2 div.sk-item {position: relative;z-index: 1;}#sk-container-id-2 div.sk-parallel {display: flex;align-items: stretch;justify-content: center;background-color: white;position: relative;}#sk-container-id-2 div.sk-item::before, #sk-container-id-2 div.sk-parallel-item::before {content: \"\";position: absolute;border-left: 1px solid gray;box-sizing: border-box;top: 0;bottom: 0;left: 50%;z-index: -1;}#sk-container-id-2 div.sk-parallel-item {display: flex;flex-direction: column;z-index: 1;position: relative;background-color: white;}#sk-container-id-2 div.sk-parallel-item:first-child::after {align-self: flex-end;width: 50%;}#sk-container-id-2 div.sk-parallel-item:last-child::after {align-self: flex-start;width: 50%;}#sk-container-id-2 div.sk-parallel-item:only-child::after {width: 0;}#sk-container-id-2 div.sk-dashed-wrapped {border: 1px dashed gray;margin: 0 0.4em 0.5em 0.4em;box-sizing: border-box;padding-bottom: 0.4em;background-color: white;}#sk-container-id-2 div.sk-label label {font-family: monospace;font-weight: bold;display: inline-block;line-height: 1.2em;}#sk-container-id-2 div.sk-label-container {text-align: center;}#sk-container-id-2 div.sk-container {/* jupyter's `normalize.less` sets `[hidden] { display: none; }` but bootstrap.min.css set `[hidden] { display: none !important; }` so we also need the `!important` here to be able to override the default hidden behavior on the sphinx rendered scikit-learn.org. See: https://github.com/scikit-learn/scikit-learn/issues/21755 */display: inline-block !important;position: relative;}#sk-container-id-2 div.sk-text-repr-fallback {display: none;}</style><div id=\"sk-container-id-2\" class=\"sk-top-container\"><div class=\"sk-text-repr-fallback\"><pre>XGBRegressor(base_score=None, booster=None, callbacks=None,\n",
       "             colsample_bylevel=None, colsample_bynode=None,\n",
       "             colsample_bytree=None, early_stopping_rounds=None,\n",
       "             enable_categorical=False, eval_metric=None, feature_types=None,\n",
       "             gamma=None, gpu_id=None, grow_policy=None, importance_type=None,\n",
       "             interaction_constraints=None, learning_rate=None, max_bin=None,\n",
       "             max_cat_threshold=None, max_cat_to_onehot=None,\n",
       "             max_delta_step=None, max_depth=None, max_leaves=None,\n",
       "             min_child_weight=None, missing=nan, monotone_constraints=None,\n",
       "             n_estimators=100, n_jobs=None, num_parallel_tree=None,\n",
       "             predictor=None, random_state=None, ...)</pre><b>In a Jupyter environment, please rerun this cell to show the HTML representation or trust the notebook. <br />On GitHub, the HTML representation is unable to render, please try loading this page with nbviewer.org.</b></div><div class=\"sk-container\" hidden><div class=\"sk-item\"><div class=\"sk-estimator sk-toggleable\"><input class=\"sk-toggleable__control sk-hidden--visually\" id=\"sk-estimator-id-2\" type=\"checkbox\" checked><label for=\"sk-estimator-id-2\" class=\"sk-toggleable__label sk-toggleable__label-arrow\">XGBRegressor</label><div class=\"sk-toggleable__content\"><pre>XGBRegressor(base_score=None, booster=None, callbacks=None,\n",
       "             colsample_bylevel=None, colsample_bynode=None,\n",
       "             colsample_bytree=None, early_stopping_rounds=None,\n",
       "             enable_categorical=False, eval_metric=None, feature_types=None,\n",
       "             gamma=None, gpu_id=None, grow_policy=None, importance_type=None,\n",
       "             interaction_constraints=None, learning_rate=None, max_bin=None,\n",
       "             max_cat_threshold=None, max_cat_to_onehot=None,\n",
       "             max_delta_step=None, max_depth=None, max_leaves=None,\n",
       "             min_child_weight=None, missing=nan, monotone_constraints=None,\n",
       "             n_estimators=100, n_jobs=None, num_parallel_tree=None,\n",
       "             predictor=None, random_state=None, ...)</pre></div></div></div></div></div>"
      ],
      "text/plain": [
       "XGBRegressor(base_score=None, booster=None, callbacks=None,\n",
       "             colsample_bylevel=None, colsample_bynode=None,\n",
       "             colsample_bytree=None, early_stopping_rounds=None,\n",
       "             enable_categorical=False, eval_metric=None, feature_types=None,\n",
       "             gamma=None, gpu_id=None, grow_policy=None, importance_type=None,\n",
       "             interaction_constraints=None, learning_rate=None, max_bin=None,\n",
       "             max_cat_threshold=None, max_cat_to_onehot=None,\n",
       "             max_delta_step=None, max_depth=None, max_leaves=None,\n",
       "             min_child_weight=None, missing=nan, monotone_constraints=None,\n",
       "             n_estimators=100, n_jobs=None, num_parallel_tree=None,\n",
       "             predictor=None, random_state=None, ...)"
      ]
     },
     "execution_count": 23,
     "metadata": {},
     "output_type": "execute_result"
    }
   ],
   "source": [
    "%%time\n",
    "xgb_reg.fit(X_train, y_train)"
   ]
  },
  {
   "cell_type": "code",
   "execution_count": 24,
   "id": "d80a7eef-e379-4540-a841-7b7b60c606b1",
   "metadata": {},
   "outputs": [
    {
     "data": {
      "text/html": [
       "<div>\n",
       "<style scoped>\n",
       "    .dataframe tbody tr th:only-of-type {\n",
       "        vertical-align: middle;\n",
       "    }\n",
       "\n",
       "    .dataframe tbody tr th {\n",
       "        vertical-align: top;\n",
       "    }\n",
       "\n",
       "    .dataframe thead th {\n",
       "        text-align: right;\n",
       "    }\n",
       "</style>\n",
       "<table border=\"1\" class=\"dataframe\">\n",
       "  <thead>\n",
       "    <tr style=\"text-align: right;\">\n",
       "      <th></th>\n",
       "      <th>fit_time</th>\n",
       "      <th>score_time</th>\n",
       "      <th>test_r2</th>\n",
       "      <th>train_r2</th>\n",
       "      <th>test_neg_mean_absolute_error</th>\n",
       "      <th>train_neg_mean_absolute_error</th>\n",
       "      <th>test_neg_median_absolute_error</th>\n",
       "      <th>train_neg_median_absolute_error</th>\n",
       "    </tr>\n",
       "  </thead>\n",
       "  <tbody>\n",
       "    <tr>\n",
       "      <th>LinearRegression</th>\n",
       "      <td>0.438 (+/- 0.010)</td>\n",
       "      <td>0.009 (+/- 0.000)</td>\n",
       "      <td>0.855 (+/- 0.007)</td>\n",
       "      <td>0.855 (+/- 0.002)</td>\n",
       "      <td>-2.316 (+/- 0.004)</td>\n",
       "      <td>-2.316 (+/- 0.006)</td>\n",
       "      <td>-1.621 (+/- 0.003)</td>\n",
       "      <td>-1.621 (+/- 0.002)</td>\n",
       "    </tr>\n",
       "    <tr>\n",
       "      <th>XGBRegressor</th>\n",
       "      <td>64.397 (+/- 3.383)</td>\n",
       "      <td>0.096 (+/- 0.004)</td>\n",
       "      <td>0.945 (+/- 0.001)</td>\n",
       "      <td>0.962 (+/- 0.000)</td>\n",
       "      <td>-1.590 (+/- 0.003)</td>\n",
       "      <td>-1.542 (+/- 0.001)</td>\n",
       "      <td>-1.171 (+/- 0.003)</td>\n",
       "      <td>-1.165 (+/- 0.001)</td>\n",
       "    </tr>\n",
       "  </tbody>\n",
       "</table>\n",
       "</div>"
      ],
      "text/plain": [
       "                            fit_time         score_time            test_r2  \\\n",
       "LinearRegression   0.438 (+/- 0.010)  0.009 (+/- 0.000)  0.855 (+/- 0.007)   \n",
       "XGBRegressor      64.397 (+/- 3.383)  0.096 (+/- 0.004)  0.945 (+/- 0.001)   \n",
       "\n",
       "                           train_r2 test_neg_mean_absolute_error  \\\n",
       "LinearRegression  0.855 (+/- 0.002)           -2.316 (+/- 0.004)   \n",
       "XGBRegressor      0.962 (+/- 0.000)           -1.590 (+/- 0.003)   \n",
       "\n",
       "                 train_neg_mean_absolute_error test_neg_median_absolute_error  \\\n",
       "LinearRegression            -2.316 (+/- 0.006)             -1.621 (+/- 0.003)   \n",
       "XGBRegressor                -1.542 (+/- 0.001)             -1.171 (+/- 0.003)   \n",
       "\n",
       "                 train_neg_median_absolute_error  \n",
       "LinearRegression              -1.621 (+/- 0.002)  \n",
       "XGBRegressor                  -1.165 (+/- 0.001)  "
      ]
     },
     "execution_count": 24,
     "metadata": {},
     "output_type": "execute_result"
    }
   ],
   "source": [
    "results['XGBRegressor'] = mean_std_cross_val_scores(\n",
    "    xgb_reg, \n",
    "    X_train, \n",
    "    y_train, \n",
    "    return_train_score=True, \n",
    "    scoring=regression_metrics)\n",
    "\n",
    "results_df = pd.DataFrame(results).T\n",
    "results_df"
   ]
  },
  {
   "cell_type": "code",
   "execution_count": 25,
   "id": "a6bc13ed-866a-4ebc-9ae0-5b19c63f6a0b",
   "metadata": {},
   "outputs": [
    {
     "name": "stdout",
     "output_type": "stream",
     "text": [
      "CPU times: user 881 ms, sys: 31.2 ms, total: 912 ms\n",
      "Wall time: 126 ms\n"
     ]
    },
    {
     "data": {
      "text/plain": [
       "0.943048174983375"
      ]
     },
     "execution_count": 25,
     "metadata": {},
     "output_type": "execute_result"
    }
   ],
   "source": [
    "%%time\n",
    "xgb_reg.score(X_test, y_test)"
   ]
  },
  {
   "cell_type": "code",
   "execution_count": 26,
   "id": "a0e5bd3e-306e-4e16-830e-b5f110eddcf7",
   "metadata": {},
   "outputs": [],
   "source": [
    "y_test_pred_xgb = xgb_reg.predict(X_test)"
   ]
  },
  {
   "cell_type": "code",
   "execution_count": 27,
   "id": "11cd9b04-5d07-4b2c-b843-8c4be6f25460",
   "metadata": {},
   "outputs": [
    {
     "data": {
      "text/plain": [
       "1.5911542"
      ]
     },
     "execution_count": 27,
     "metadata": {},
     "output_type": "execute_result"
    }
   ],
   "source": [
    "mean_absolute_error(y_test, y_test_pred_xgb)"
   ]
  },
  {
   "cell_type": "markdown",
   "id": "6e88a86f-8996-44d8-904c-406e5004ac7e",
   "metadata": {},
   "source": [
    "### 4.0 Non-linear Regression NN"
   ]
  },
  {
   "cell_type": "code",
   "execution_count": 28,
   "id": "95a8afeb-0f0a-4ce9-a117-d9488827e790",
   "metadata": {},
   "outputs": [],
   "source": [
    "X_train = torch.tensor(X_train, dtype=torch.float32)\n",
    "y_train = torch.tensor(y_train.to_numpy().flatten(), dtype=torch.float32)\n",
    "X_test = torch.tensor(X_test, dtype=torch.float32)\n",
    "y_test = torch.tensor(y_test.to_numpy().flatten(), dtype=torch.float32)"
   ]
  },
  {
   "cell_type": "code",
   "execution_count": 29,
   "id": "0047f44c-045a-44c1-a44f-85834f3c9c1b",
   "metadata": {},
   "outputs": [],
   "source": [
    "trainset = TensorDataset(X_train, y_train)"
   ]
  },
  {
   "cell_type": "code",
   "execution_count": 30,
   "id": "8a84ba30-4552-4ee6-9d9f-c824b17ddf52",
   "metadata": {},
   "outputs": [],
   "source": [
    "# split trainset to train and validation\n",
    "train_size = int(0.6 * len(trainset)) # 60% of train data\n",
    "val_size = len(trainset) - train_size\n",
    "\n",
    "generator1 = torch.Generator().manual_seed(42)\n",
    "train_set, val_set = random_split(dataset=trainset, \n",
    "                                  lengths=[train_size, val_size],\n",
    "                                  generator=generator1)"
   ]
  },
  {
   "cell_type": "code",
   "execution_count": 31,
   "id": "e6cb16ae-e433-41b3-a7d5-ac2289440826",
   "metadata": {},
   "outputs": [],
   "source": [
    "BATCH_SIZE = 1000 # adjust batch size later\n",
    "trainloader = DataLoader(train_set, batch_size=BATCH_SIZE, shuffle=True)\n",
    "validloader = DataLoader(val_set, batch_size=BATCH_SIZE, shuffle=True)"
   ]
  },
  {
   "cell_type": "code",
   "execution_count": 32,
   "id": "30079eb0-9691-4dfe-8052-36c256fec8b4",
   "metadata": {},
   "outputs": [
    {
     "name": "stdout",
     "output_type": "stream",
     "text": [
      "mps\n"
     ]
    }
   ],
   "source": [
    "device = torch.device('mps' if torch.backends.mps.is_available() else 'cpu')\n",
    "print(device)"
   ]
  },
  {
   "cell_type": "code",
   "execution_count": 33,
   "id": "e1cde287-c7ee-4aed-8dcc-cbf38ed557d2",
   "metadata": {},
   "outputs": [],
   "source": [
    "# below code adopted from MDS DSCI 572 Lecture 5 notes\n",
    "def trainer(model, criterion, optimizer, trainloader, validloader, epochs=5, patience=5, verbose=True):\n",
    "    \"\"\"Training wrapper for PyTorch network.\"\"\"\n",
    "    \n",
    "    train_loss = []\n",
    "    valid_loss = []\n",
    "    \n",
    "    for epoch in range(epochs):\n",
    "        train_batch_loss = 0\n",
    "        valid_batch_loss = 0\n",
    "        \n",
    "        # Training\n",
    "        for X, y in trainloader:\n",
    "            X, y = X.to(device), y.to(device)\n",
    "            optimizer.zero_grad()       # Clear gradients w.r.t. parameters\n",
    "            y_hat = model(X).flatten()  # Forward pass to get output\n",
    "            loss = criterion(y_hat, y)  # Calculate loss\n",
    "            loss.backward()             # Getting gradients w.r.t. parameters\n",
    "            optimizer.step()            # Update parameters\n",
    "            train_batch_loss += loss.item()       # Add loss for this batch to running total\n",
    "            \n",
    "        train_loss.append(train_batch_loss / len(trainloader))\n",
    "            \n",
    "        # Validation\n",
    "        with torch.no_grad():  # this stops pytorch doing computational graph stuff under-the-hood\n",
    "\n",
    "            for X_valid, y_valid in validloader:\n",
    "                X_valid, y_valid = X_valid.to(device), y_valid.to(device)\n",
    "                y_hat = model(X_valid).flatten()  # Forward pass to get output\n",
    "                loss = criterion(y_hat, y_valid)  # Calculate loss based on output\n",
    "\n",
    "                valid_batch_loss += loss.item()\n",
    "            \n",
    "        valid_loss.append(valid_batch_loss / len(validloader))\n",
    "\n",
    "        # Print progress\n",
    "        if verbose:\n",
    "            print(f\"Epoch {epoch + 1:3}:\",\n",
    "                  f\"Train Loss: {train_loss[-1]:.3f}.\",\n",
    "                  f\"Valid Loss: {valid_loss[-1]:.3f}.\")\n",
    "        \n",
    "        # Early stopping\n",
    "        if epoch > 0 and valid_loss[-1] > valid_loss[-2]:\n",
    "            consec_increases += 1\n",
    "        else:\n",
    "            consec_increases = 0\n",
    "        if consec_increases == patience:\n",
    "            print(f\"Stopped early at epoch {epoch + 1} - val loss increased for {consec_increases} consecutive epochs!\")\n",
    "            break\n",
    "            \n",
    "    return train_loss, valid_loss"
   ]
  },
  {
   "cell_type": "code",
   "execution_count": 34,
   "id": "2fd721b5-742e-43c9-9fa4-949ef35c8e0a",
   "metadata": {},
   "outputs": [
    {
     "data": {
      "text/plain": [
       "Sequential(\n",
       "  (0): Linear(in_features=18, out_features=1024, bias=True)\n",
       "  (1): ReLU()\n",
       "  (2): Linear(in_features=1024, out_features=512, bias=True)\n",
       "  (3): ReLU()\n",
       "  (4): Linear(in_features=512, out_features=256, bias=True)\n",
       "  (5): ReLU()\n",
       "  (6): Linear(in_features=256, out_features=64, bias=True)\n",
       "  (7): ReLU()\n",
       "  (8): Linear(in_features=64, out_features=12, bias=True)\n",
       "  (9): ReLU()\n",
       "  (10): Linear(in_features=12, out_features=1, bias=True)\n",
       ")"
      ]
     },
     "execution_count": 34,
     "metadata": {},
     "output_type": "execute_result"
    }
   ],
   "source": [
    "# Define the model\n",
    "model = torch.nn.Sequential(\n",
    "    nn.Linear(18, 1024),\n",
    "    nn.ReLU(),\n",
    "    nn.Linear(1024, 512),\n",
    "    nn.ReLU(),\n",
    "    nn.Linear(512, 256),\n",
    "    nn.ReLU(),\n",
    "    nn.Linear(256, 64),\n",
    "    nn.ReLU(),\n",
    "    nn.Linear(64, 12),\n",
    "    nn.ReLU(),\n",
    "    nn.Linear(12, 1)\n",
    ")\n",
    "model.to(device)"
   ]
  },
  {
   "cell_type": "code",
   "execution_count": 35,
   "id": "c15cead9-04cd-4232-9fdb-e0f12a1e930f",
   "metadata": {},
   "outputs": [],
   "source": [
    "# print(model)"
   ]
  },
  {
   "cell_type": "code",
   "execution_count": 36,
   "id": "cfcdc261-2cc7-4ae6-82b9-dc227bb82572",
   "metadata": {},
   "outputs": [],
   "source": [
    "# summary(model)"
   ]
  },
  {
   "cell_type": "code",
   "execution_count": 37,
   "id": "85fe6b99-1242-46c0-b8b7-a8bab866533e",
   "metadata": {},
   "outputs": [],
   "source": [
    "# model.state_dict()"
   ]
  },
  {
   "cell_type": "code",
   "execution_count": 38,
   "id": "5bd01f0d-6236-42ef-b94d-c581fc6e6d31",
   "metadata": {},
   "outputs": [],
   "source": [
    "LEARNING_RATE = 0.0001\n",
    "criterion = nn.MSELoss() # loss function\n",
    "optimizer = optim.Adam(model.parameters(), lr=LEARNING_RATE)"
   ]
  },
  {
   "cell_type": "code",
   "execution_count": 39,
   "id": "908724e3-1873-4ecc-b899-f6f15ec062e8",
   "metadata": {},
   "outputs": [
    {
     "name": "stdout",
     "output_type": "stream",
     "text": [
      "Epoch   1: Train Loss: 4569.011. Valid Loss: 40.627.\n",
      "Epoch   2: Train Loss: 19.898. Valid Loss: 13.590.\n",
      "Epoch   3: Train Loss: 12.436. Valid Loss: 11.076.\n",
      "Epoch   4: Train Loss: 10.782. Valid Loss: 9.996.\n",
      "Epoch   5: Train Loss: 10.061. Valid Loss: 9.666.\n",
      "Epoch   6: Train Loss: 9.614. Valid Loss: 9.139.\n",
      "Epoch   7: Train Loss: 9.248. Valid Loss: 8.984.\n",
      "Epoch   8: Train Loss: 9.079. Valid Loss: 8.727.\n",
      "Epoch   9: Train Loss: 8.885. Valid Loss: 9.851.\n",
      "Epoch  10: Train Loss: 8.738. Valid Loss: 8.615.\n",
      "Epoch  11: Train Loss: 8.540. Valid Loss: 8.364.\n",
      "Epoch  12: Train Loss: 8.441. Valid Loss: 8.489.\n",
      "Epoch  13: Train Loss: 8.304. Valid Loss: 8.486.\n",
      "Epoch  14: Train Loss: 8.248. Valid Loss: 8.223.\n",
      "Epoch  15: Train Loss: 8.142. Valid Loss: 7.995.\n",
      "Epoch  16: Train Loss: 8.085. Valid Loss: 8.390.\n",
      "Epoch  17: Train Loss: 8.043. Valid Loss: 7.965.\n",
      "Epoch  18: Train Loss: 7.967. Valid Loss: 8.013.\n",
      "Epoch  19: Train Loss: 7.892. Valid Loss: 8.036.\n",
      "Epoch  20: Train Loss: 7.846. Valid Loss: 7.861.\n",
      "Epoch  21: Train Loss: 7.823. Valid Loss: 7.791.\n",
      "Epoch  22: Train Loss: 7.765. Valid Loss: 7.945.\n",
      "Epoch  23: Train Loss: 7.757. Valid Loss: 8.139.\n",
      "Epoch  24: Train Loss: 7.687. Valid Loss: 7.825.\n",
      "Epoch  25: Train Loss: 7.675. Valid Loss: 7.830.\n",
      "Epoch  26: Train Loss: 7.607. Valid Loss: 7.945.\n",
      "Epoch  27: Train Loss: 7.607. Valid Loss: 7.989.\n",
      "Epoch  28: Train Loss: 7.603. Valid Loss: 7.565.\n",
      "Epoch  29: Train Loss: 7.570. Valid Loss: 8.105.\n",
      "Epoch  30: Train Loss: 7.521. Valid Loss: 7.680.\n",
      "CPU times: user 5min 19s, sys: 27.4 s, total: 5min 47s\n",
      "Wall time: 8min 46s\n"
     ]
    }
   ],
   "source": [
    "%%time\n",
    "train_loss, valid_loss = trainer(model, \n",
    "                                 criterion, \n",
    "                                 optimizer, \n",
    "                                 trainloader,\n",
    "                                 validloader,\n",
    "                                 epochs=30, \n",
    "                                 patience=5,\n",
    "                                 verbose=True)"
   ]
  },
  {
   "cell_type": "markdown",
   "id": "3e990de2-3483-46af-8fe1-bdd492f3662f",
   "metadata": {},
   "source": [
    "### 5.0 Prediction performance on test df of muons"
   ]
  },
  {
   "cell_type": "code",
   "execution_count": 40,
   "id": "e6134e04-aa55-4ddd-ba05-f2b4e9495f24",
   "metadata": {},
   "outputs": [],
   "source": [
    "# notice that tensor on mps cannot be converted to numpy directly so using to('cpu')\n",
    "y_test_pred_nn = model(X_test.to(device)).detach().to('cpu').numpy().squeeze()"
   ]
  },
  {
   "cell_type": "code",
   "execution_count": 41,
   "id": "2dc8ebd9-13ee-4c13-9e0f-560432a916eb",
   "metadata": {},
   "outputs": [
    {
     "data": {
      "text/plain": [
       "array([183.85925, 184.42392, 178.73306, ..., 185.21399, 186.1763 ,\n",
       "       151.03065], dtype=float32)"
      ]
     },
     "execution_count": 41,
     "metadata": {},
     "output_type": "execute_result"
    }
   ],
   "source": [
    "y_test_pred_nn"
   ]
  },
  {
   "cell_type": "code",
   "execution_count": 42,
   "id": "e136bf2c-2413-445c-a083-dfac3aeb6092",
   "metadata": {},
   "outputs": [
    {
     "data": {
      "text/plain": [
       "0.9391525252942783"
      ]
     },
     "execution_count": 42,
     "metadata": {},
     "output_type": "execute_result"
    }
   ],
   "source": [
    "r2_score(y_test, y_test_pred_nn)"
   ]
  },
  {
   "cell_type": "code",
   "execution_count": 43,
   "id": "d340586a-2227-43ac-895e-62040a170a62",
   "metadata": {},
   "outputs": [
    {
     "data": {
      "text/plain": [
       "1.7407391"
      ]
     },
     "execution_count": 43,
     "metadata": {},
     "output_type": "execute_result"
    }
   ],
   "source": [
    "mean_absolute_error(y_test, y_test_pred_nn)"
   ]
  },
  {
   "cell_type": "code",
   "execution_count": 44,
   "id": "f13e294f-463d-4f2a-ab1b-9a140d63abcd",
   "metadata": {},
   "outputs": [],
   "source": [
    "test_pred_df = pd.DataFrame(y_test_pred_nn, y_test.numpy()).reset_index()\n",
    "test_pred_df.columns=['theoretical_radius', 'predicted_radius_nn']"
   ]
  },
  {
   "cell_type": "code",
   "execution_count": 45,
   "id": "ff353905-1739-4b07-9394-ad14c53af541",
   "metadata": {},
   "outputs": [],
   "source": [
    "test_pred_df['residual_nn'] = test_pred_df['theoretical_radius'] - test_pred_df['predicted_radius_nn']"
   ]
  },
  {
   "cell_type": "code",
   "execution_count": 46,
   "id": "7e6570f1-b226-450b-806b-b42ace74faec",
   "metadata": {},
   "outputs": [],
   "source": [
    "test_pred_df['predicted_radius_xgb'] = y_test_pred_xgb\n",
    "test_pred_df['residual_xgb'] = test_pred_df['theoretical_radius'] - test_pred_df['predicted_radius_xgb']"
   ]
  },
  {
   "cell_type": "code",
   "execution_count": 47,
   "id": "eee527ad-98fd-4272-9e2d-29912ccb0b0e",
   "metadata": {},
   "outputs": [
    {
     "data": {
      "text/plain": [
       "Text(0, 0.5, 'Residual_nn')"
      ]
     },
     "execution_count": 47,
     "metadata": {},
     "output_type": "execute_result"
    },
    {
     "data": {
      "image/png": "[encoded data removed]",
      "text/plain": [
       "<Figure size 1000x500 with 2 Axes>"
      ]
     },
     "metadata": {},
     "output_type": "display_data"
    }
   ],
   "source": [
    "fig, axes = plt.subplots(1, 2, figsize=(10, 5))\n",
    "\n",
    "sns.scatterplot(data=test_pred_df, x='theoretical_radius', y='residual_xgb', s=1, ax=axes[0])\n",
    "axes[0].axhline(y=0, color='red', linestyle='--')\n",
    "axes[0].set_title('Residual Plot of Test Muon Data - Xgb')\n",
    "axes[0].set_xlabel('Calculated Ring Radius')\n",
    "axes[0].set_ylabel('Residual_xgb')\n",
    "\n",
    "sns.scatterplot(data=test_pred_df, x='theoretical_radius', y='residual_nn', s=1, ax=axes[1])\n",
    "axes[1].axhline(y=0, color='red', linestyle='--')\n",
    "axes[1].set_title('Residual Plot of Test Muon Data - NN')\n",
    "axes[1].set_xlabel('Calculated Ring Radius')\n",
    "axes[1].set_ylabel('Residual_nn')"
   ]
  },
  {
   "cell_type": "code",
   "execution_count": 48,
   "id": "8711bf76-c8a1-4129-9df0-259936c6c134",
   "metadata": {},
   "outputs": [
    {
     "data": {
      "text/html": [
       "<div>\n",
       "<style scoped>\n",
       "    .dataframe tbody tr th:only-of-type {\n",
       "        vertical-align: middle;\n",
       "    }\n",
       "\n",
       "    .dataframe tbody tr th {\n",
       "        vertical-align: top;\n",
       "    }\n",
       "\n",
       "    .dataframe thead th {\n",
       "        text-align: right;\n",
       "    }\n",
       "</style>\n",
       "<table border=\"1\" class=\"dataframe\">\n",
       "  <thead>\n",
       "    <tr style=\"text-align: right;\">\n",
       "      <th></th>\n",
       "      <th>theoretical_radius</th>\n",
       "      <th>predicted_radius_nn</th>\n",
       "      <th>residual_nn</th>\n",
       "      <th>predicted_radius_xgb</th>\n",
       "      <th>residual_xgb</th>\n",
       "    </tr>\n",
       "  </thead>\n",
       "  <tbody>\n",
       "    <tr>\n",
       "      <th>0</th>\n",
       "      <td>185.335312</td>\n",
       "      <td>183.859253</td>\n",
       "      <td>1.476059</td>\n",
       "      <td>184.743744</td>\n",
       "      <td>0.591568</td>\n",
       "    </tr>\n",
       "    <tr>\n",
       "      <th>1</th>\n",
       "      <td>184.767960</td>\n",
       "      <td>184.423920</td>\n",
       "      <td>0.344040</td>\n",
       "      <td>183.701691</td>\n",
       "      <td>1.066269</td>\n",
       "    </tr>\n",
       "    <tr>\n",
       "      <th>2</th>\n",
       "      <td>182.299835</td>\n",
       "      <td>178.733063</td>\n",
       "      <td>3.566772</td>\n",
       "      <td>180.004517</td>\n",
       "      <td>2.295319</td>\n",
       "    </tr>\n",
       "    <tr>\n",
       "      <th>3</th>\n",
       "      <td>187.461014</td>\n",
       "      <td>185.289948</td>\n",
       "      <td>2.171066</td>\n",
       "      <td>184.825684</td>\n",
       "      <td>2.635330</td>\n",
       "    </tr>\n",
       "    <tr>\n",
       "      <th>4</th>\n",
       "      <td>181.856476</td>\n",
       "      <td>184.295532</td>\n",
       "      <td>-2.439056</td>\n",
       "      <td>183.638489</td>\n",
       "      <td>-1.782013</td>\n",
       "    </tr>\n",
       "    <tr>\n",
       "      <th>...</th>\n",
       "      <td>...</td>\n",
       "      <td>...</td>\n",
       "      <td>...</td>\n",
       "      <td>...</td>\n",
       "      <td>...</td>\n",
       "    </tr>\n",
       "    <tr>\n",
       "      <th>431725</th>\n",
       "      <td>185.604385</td>\n",
       "      <td>185.017273</td>\n",
       "      <td>0.587112</td>\n",
       "      <td>186.219177</td>\n",
       "      <td>-0.614792</td>\n",
       "    </tr>\n",
       "    <tr>\n",
       "      <th>431726</th>\n",
       "      <td>186.997299</td>\n",
       "      <td>185.962982</td>\n",
       "      <td>1.034317</td>\n",
       "      <td>185.676926</td>\n",
       "      <td>1.320374</td>\n",
       "    </tr>\n",
       "    <tr>\n",
       "      <th>431727</th>\n",
       "      <td>185.636093</td>\n",
       "      <td>185.213989</td>\n",
       "      <td>0.422104</td>\n",
       "      <td>184.815903</td>\n",
       "      <td>0.820190</td>\n",
       "    </tr>\n",
       "    <tr>\n",
       "      <th>431728</th>\n",
       "      <td>186.802338</td>\n",
       "      <td>186.176300</td>\n",
       "      <td>0.626038</td>\n",
       "      <td>186.923920</td>\n",
       "      <td>-0.121582</td>\n",
       "    </tr>\n",
       "    <tr>\n",
       "      <th>431729</th>\n",
       "      <td>147.191010</td>\n",
       "      <td>151.030655</td>\n",
       "      <td>-3.839645</td>\n",
       "      <td>150.334335</td>\n",
       "      <td>-3.143326</td>\n",
       "    </tr>\n",
       "  </tbody>\n",
       "</table>\n",
       "<p>431730 rows × 5 columns</p>\n",
       "</div>"
      ],
      "text/plain": [
       "        theoretical_radius  predicted_radius_nn  residual_nn  \\\n",
       "0               185.335312           183.859253     1.476059   \n",
       "1               184.767960           184.423920     0.344040   \n",
       "2               182.299835           178.733063     3.566772   \n",
       "3               187.461014           185.289948     2.171066   \n",
       "4               181.856476           184.295532    -2.439056   \n",
       "...                    ...                  ...          ...   \n",
       "431725          185.604385           185.017273     0.587112   \n",
       "431726          186.997299           185.962982     1.034317   \n",
       "431727          185.636093           185.213989     0.422104   \n",
       "431728          186.802338           186.176300     0.626038   \n",
       "431729          147.191010           151.030655    -3.839645   \n",
       "\n",
       "        predicted_radius_xgb  residual_xgb  \n",
       "0                 184.743744      0.591568  \n",
       "1                 183.701691      1.066269  \n",
       "2                 180.004517      2.295319  \n",
       "3                 184.825684      2.635330  \n",
       "4                 183.638489     -1.782013  \n",
       "...                      ...           ...  \n",
       "431725            186.219177     -0.614792  \n",
       "431726            185.676926      1.320374  \n",
       "431727            184.815903      0.820190  \n",
       "431728            186.923920     -0.121582  \n",
       "431729            150.334335     -3.143326  \n",
       "\n",
       "[431730 rows x 5 columns]"
      ]
     },
     "execution_count": 48,
     "metadata": {},
     "output_type": "execute_result"
    }
   ],
   "source": [
    "test_pred_df"
   ]
  },
  {
   "cell_type": "code",
   "execution_count": 49,
   "id": "8f355596-945d-4875-b988-9b6c3cd14415",
   "metadata": {},
   "outputs": [
    {
     "data": {
      "text/html": [
       "<div>\n",
       "<style scoped>\n",
       "    .dataframe tbody tr th:only-of-type {\n",
       "        vertical-align: middle;\n",
       "    }\n",
       "\n",
       "    .dataframe tbody tr th {\n",
       "        vertical-align: top;\n",
       "    }\n",
       "\n",
       "    .dataframe thead th {\n",
       "        text-align: right;\n",
       "    }\n",
       "</style>\n",
       "<table border=\"1\" class=\"dataframe\">\n",
       "  <thead>\n",
       "    <tr style=\"text-align: right;\">\n",
       "      <th></th>\n",
       "      <th>theoretical_radius</th>\n",
       "      <th>predicted_radius_nn</th>\n",
       "      <th>residual_nn</th>\n",
       "      <th>predicted_radius_xgb</th>\n",
       "      <th>residual_xgb</th>\n",
       "    </tr>\n",
       "  </thead>\n",
       "  <tbody>\n",
       "    <tr>\n",
       "      <th>count</th>\n",
       "      <td>431730.000000</td>\n",
       "      <td>431730.000000</td>\n",
       "      <td>431730.000000</td>\n",
       "      <td>431730.000000</td>\n",
       "      <td>431730.000000</td>\n",
       "    </tr>\n",
       "    <tr>\n",
       "      <th>mean</th>\n",
       "      <td>180.515088</td>\n",
       "      <td>180.319977</td>\n",
       "      <td>0.195108</td>\n",
       "      <td>180.507706</td>\n",
       "      <td>0.007366</td>\n",
       "    </tr>\n",
       "    <tr>\n",
       "      <th>std</th>\n",
       "      <td>11.487627</td>\n",
       "      <td>11.005298</td>\n",
       "      <td>2.826960</td>\n",
       "      <td>11.200941</td>\n",
       "      <td>2.741464</td>\n",
       "    </tr>\n",
       "    <tr>\n",
       "      <th>min</th>\n",
       "      <td>10.650927</td>\n",
       "      <td>53.574375</td>\n",
       "      <td>-147.278749</td>\n",
       "      <td>51.898735</td>\n",
       "      <td>-149.287554</td>\n",
       "    </tr>\n",
       "    <tr>\n",
       "      <th>25%</th>\n",
       "      <td>179.534912</td>\n",
       "      <td>179.783096</td>\n",
       "      <td>-1.032696</td>\n",
       "      <td>179.942970</td>\n",
       "      <td>-1.124920</td>\n",
       "    </tr>\n",
       "    <tr>\n",
       "      <th>50%</th>\n",
       "      <td>184.089706</td>\n",
       "      <td>183.857300</td>\n",
       "      <td>0.345413</td>\n",
       "      <td>184.188164</td>\n",
       "      <td>0.140709</td>\n",
       "    </tr>\n",
       "    <tr>\n",
       "      <th>75%</th>\n",
       "      <td>186.563194</td>\n",
       "      <td>185.845303</td>\n",
       "      <td>1.533646</td>\n",
       "      <td>186.169125</td>\n",
       "      <td>1.205669</td>\n",
       "    </tr>\n",
       "    <tr>\n",
       "      <th>max</th>\n",
       "      <td>188.997330</td>\n",
       "      <td>196.124100</td>\n",
       "      <td>121.993336</td>\n",
       "      <td>203.642456</td>\n",
       "      <td>118.630569</td>\n",
       "    </tr>\n",
       "  </tbody>\n",
       "</table>\n",
       "</div>"
      ],
      "text/plain": [
       "       theoretical_radius  predicted_radius_nn    residual_nn  \\\n",
       "count       431730.000000        431730.000000  431730.000000   \n",
       "mean           180.515088           180.319977       0.195108   \n",
       "std             11.487627            11.005298       2.826960   \n",
       "min             10.650927            53.574375    -147.278749   \n",
       "25%            179.534912           179.783096      -1.032696   \n",
       "50%            184.089706           183.857300       0.345413   \n",
       "75%            186.563194           185.845303       1.533646   \n",
       "max            188.997330           196.124100     121.993336   \n",
       "\n",
       "       predicted_radius_xgb   residual_xgb  \n",
       "count         431730.000000  431730.000000  \n",
       "mean             180.507706       0.007366  \n",
       "std               11.200941       2.741464  \n",
       "min               51.898735    -149.287554  \n",
       "25%              179.942970      -1.124920  \n",
       "50%              184.188164       0.140709  \n",
       "75%              186.169125       1.205669  \n",
       "max              203.642456     118.630569  "
      ]
     },
     "execution_count": 49,
     "metadata": {},
     "output_type": "execute_result"
    }
   ],
   "source": [
    "test_pred_df.describe()"
   ]
  },
  {
   "cell_type": "markdown",
   "id": "0dc1d77a-b2d2-474b-a8b9-20f539eaa4a2",
   "metadata": {},
   "source": [
    "### 6.0 Prediction performance on pion data"
   ]
  },
  {
   "cell_type": "code",
   "execution_count": 50,
   "id": "165b88ce-afdb-4723-aa93-cc4d3335f913",
   "metadata": {},
   "outputs": [
    {
     "data": {
      "text/plain": [
       "(215647, 42)"
      ]
     },
     "execution_count": 50,
     "metadata": {},
     "output_type": "execute_result"
    }
   ],
   "source": [
    "df_pion = df.filter(pl.col('label')==1)\n",
    "df_pion.shape"
   ]
  },
  {
   "cell_type": "code",
   "execution_count": 51,
   "id": "4001cd7f-314b-483f-afd2-5186b0e613f9",
   "metadata": {},
   "outputs": [],
   "source": [
    "X_pion, y_pion = df_pion.select(['total_in_time_hits','x_aligned_min', 'x_aligned_max', 'x_aligned_width',\n",
    "            'y_aligned_min', 'y_aligned_max', 'y_aligned_width',\n",
    "            'hit_distance_min', 'hit_distance_max', 'hit_distance_mean', 'hit_distance_median',\n",
    "            'hit_distance_q25', 'hit_distance_q75', 'hit_distance_rms',\n",
    "            'hull_area', 'hull_diameter', 'hull_diff_width_diameter', 'hull_width']\n",
    "                               ), df_pion.select('ring_radius_cal')"
   ]
  },
  {
   "cell_type": "code",
   "execution_count": 52,
   "id": "2452cadb-8a94-4d13-a363-7669dae5e181",
   "metadata": {},
   "outputs": [],
   "source": [
    "X_pion = scaler.transform(X_pion)"
   ]
  },
  {
   "cell_type": "markdown",
   "id": "fc02dd4c-852f-41dd-b001-4ed2471f7367",
   "metadata": {},
   "source": [
    "**Prediction by Xgb**"
   ]
  },
  {
   "cell_type": "code",
   "execution_count": 53,
   "id": "665e9bdb-efeb-4547-b57f-4059da660313",
   "metadata": {},
   "outputs": [
    {
     "data": {
      "text/plain": [
       "0.9055521787616003"
      ]
     },
     "execution_count": 53,
     "metadata": {},
     "output_type": "execute_result"
    }
   ],
   "source": [
    "xgb_reg.score(X_pion, y_pion)"
   ]
  },
  {
   "cell_type": "code",
   "execution_count": 54,
   "id": "da13409f-aac4-43b5-9657-b97fd80c33ba",
   "metadata": {},
   "outputs": [
    {
     "data": {
      "text/plain": [
       "0.9055521787616003"
      ]
     },
     "execution_count": 54,
     "metadata": {},
     "output_type": "execute_result"
    }
   ],
   "source": [
    "y_pion_pred_xgb = xgb_reg.predict(X_pion)\n",
    "\n",
    "# double check r2 score\n",
    "r2_score(y_pion, y_pion_pred_xgb)"
   ]
  },
  {
   "cell_type": "code",
   "execution_count": 55,
   "id": "e4670acf-359b-40e6-bda2-3c283fee1cb2",
   "metadata": {},
   "outputs": [
    {
     "data": {
      "text/plain": [
       "2.3741896"
      ]
     },
     "execution_count": 55,
     "metadata": {},
     "output_type": "execute_result"
    }
   ],
   "source": [
    "mean_absolute_error(y_pion, y_pion_pred_xgb)"
   ]
  },
  {
   "cell_type": "markdown",
   "id": "08f0e760-0e7e-49b9-82d6-cdfcad8fb412",
   "metadata": {},
   "source": [
    "**Prediction by NN**"
   ]
  },
  {
   "cell_type": "code",
   "execution_count": 56,
   "id": "2e8d1504-0cee-46e1-bcf5-5e6c0019d7f9",
   "metadata": {},
   "outputs": [],
   "source": [
    "X_pion_nn = torch.tensor(X_pion, dtype=torch.float32)\n",
    "y_pion_nn = torch.tensor(y_pion.to_numpy().flatten(), dtype=torch.float32)\n",
    "\n",
    "y_pion_pred_nn = model(X_pion_nn.to(device)).detach().to('cpu').numpy().squeeze()"
   ]
  },
  {
   "cell_type": "code",
   "execution_count": 57,
   "id": "b3e5acce-d302-4e3f-8dac-54e1df71e4b2",
   "metadata": {},
   "outputs": [
    {
     "data": {
      "text/plain": [
       "0.9122690650548687"
      ]
     },
     "execution_count": 57,
     "metadata": {},
     "output_type": "execute_result"
    }
   ],
   "source": [
    "r2_score(y_pion, y_pion_pred_nn)"
   ]
  },
  {
   "cell_type": "code",
   "execution_count": 58,
   "id": "fefd10d1-759c-4b68-9f60-d014ca55395a",
   "metadata": {},
   "outputs": [
    {
     "data": {
      "text/plain": [
       "2.3650622"
      ]
     },
     "execution_count": 58,
     "metadata": {},
     "output_type": "execute_result"
    }
   ],
   "source": [
    "mean_absolute_error(y_pion, y_pion_pred_nn)"
   ]
  },
  {
   "cell_type": "code",
   "execution_count": 59,
   "id": "eb705e83-7145-4835-aa83-f57faa3d10ad",
   "metadata": {},
   "outputs": [],
   "source": [
    "pion_pred_df = pd.DataFrame(y_pion_pred_nn, y_pion_nn.numpy()).reset_index()\n",
    "pion_pred_df.columns=['theoretical_radius', 'predicted_radius_nn']\n",
    "\n",
    "pion_pred_df['residual_nn'] = pion_pred_df['theoretical_radius'] - pion_pred_df['predicted_radius_nn']\n",
    "\n",
    "pion_pred_df['predicted_radius_xgb'] = y_pion_pred_xgb\n",
    "pion_pred_df['residual_xgb'] = pion_pred_df['theoretical_radius'] - pion_pred_df['predicted_radius_xgb']"
   ]
  },
  {
   "cell_type": "code",
   "execution_count": 60,
   "id": "433e1024-8dfd-4022-98b3-8dcad45695d6",
   "metadata": {},
   "outputs": [
    {
     "data": {
      "text/plain": [
       "Text(0, 0.5, 'Residual_nn')"
      ]
     },
     "execution_count": 60,
     "metadata": {},
     "output_type": "execute_result"
    },
    {
     "data": {
      "image/png": "[encoded data removed]",
      "text/plain": [
       "<Figure size 1000x500 with 2 Axes>"
      ]
     },
     "metadata": {},
     "output_type": "display_data"
    }
   ],
   "source": [
    "fig, axes = plt.subplots(1, 2, figsize=(10, 5))\n",
    "\n",
    "sns.scatterplot(data=pion_pred_df, x='theoretical_radius', y='residual_xgb', s=1, ax=axes[0])\n",
    "axes[0].axhline(y=0, color='red', linestyle='--')\n",
    "axes[0].set_title('Residual Plot of Pion Data - Xgb')\n",
    "axes[0].set_xlabel('Calculated Ring Radius')\n",
    "axes[0].set_ylabel('Residual_xgb')\n",
    "\n",
    "sns.scatterplot(data=pion_pred_df, x='theoretical_radius', y='residual_nn', s=1, ax=axes[1])\n",
    "axes[1].axhline(y=0, color='red', linestyle='--')\n",
    "axes[1].set_title('Residual Plot of Pion Data - NN')\n",
    "axes[1].set_xlabel('Calculated Ring Radius')\n",
    "axes[1].set_ylabel('Residual_nn')"
   ]
  },
  {
   "cell_type": "code",
   "execution_count": 61,
   "id": "6b0a0a45-4a85-4219-94ef-60158406b3c2",
   "metadata": {},
   "outputs": [
    {
     "data": {
      "text/html": [
       "<div>\n",
       "<style scoped>\n",
       "    .dataframe tbody tr th:only-of-type {\n",
       "        vertical-align: middle;\n",
       "    }\n",
       "\n",
       "    .dataframe tbody tr th {\n",
       "        vertical-align: top;\n",
       "    }\n",
       "\n",
       "    .dataframe thead th {\n",
       "        text-align: right;\n",
       "    }\n",
       "</style>\n",
       "<table border=\"1\" class=\"dataframe\">\n",
       "  <thead>\n",
       "    <tr style=\"text-align: right;\">\n",
       "      <th></th>\n",
       "      <th>theoretical_radius</th>\n",
       "      <th>predicted_radius_nn</th>\n",
       "      <th>residual_nn</th>\n",
       "      <th>predicted_radius_xgb</th>\n",
       "      <th>residual_xgb</th>\n",
       "    </tr>\n",
       "  </thead>\n",
       "  <tbody>\n",
       "    <tr>\n",
       "      <th>count</th>\n",
       "      <td>215647.000000</td>\n",
       "      <td>215647.000000</td>\n",
       "      <td>215647.000000</td>\n",
       "      <td>215647.000000</td>\n",
       "      <td>215647.000000</td>\n",
       "    </tr>\n",
       "    <tr>\n",
       "      <th>mean</th>\n",
       "      <td>171.302222</td>\n",
       "      <td>172.150406</td>\n",
       "      <td>-0.848193</td>\n",
       "      <td>172.319153</td>\n",
       "      <td>-1.016938</td>\n",
       "    </tr>\n",
       "    <tr>\n",
       "      <th>std</th>\n",
       "      <td>14.426835</td>\n",
       "      <td>13.904529</td>\n",
       "      <td>4.188116</td>\n",
       "      <td>14.226271</td>\n",
       "      <td>4.315506</td>\n",
       "    </tr>\n",
       "    <tr>\n",
       "      <th>min</th>\n",
       "      <td>4.270976</td>\n",
       "      <td>53.587410</td>\n",
       "      <td>-169.054245</td>\n",
       "      <td>55.723156</td>\n",
       "      <td>-169.210510</td>\n",
       "    </tr>\n",
       "    <tr>\n",
       "      <th>25%</th>\n",
       "      <td>167.550240</td>\n",
       "      <td>168.013466</td>\n",
       "      <td>-2.309280</td>\n",
       "      <td>168.199745</td>\n",
       "      <td>-2.419968</td>\n",
       "    </tr>\n",
       "    <tr>\n",
       "      <th>50%</th>\n",
       "      <td>175.736923</td>\n",
       "      <td>176.301849</td>\n",
       "      <td>-0.647522</td>\n",
       "      <td>176.626862</td>\n",
       "      <td>-0.854034</td>\n",
       "    </tr>\n",
       "    <tr>\n",
       "      <th>75%</th>\n",
       "      <td>180.495514</td>\n",
       "      <td>181.206703</td>\n",
       "      <td>0.991852</td>\n",
       "      <td>181.578987</td>\n",
       "      <td>0.763062</td>\n",
       "    </tr>\n",
       "    <tr>\n",
       "      <th>max</th>\n",
       "      <td>186.676727</td>\n",
       "      <td>216.761612</td>\n",
       "      <td>69.318703</td>\n",
       "      <td>196.356598</td>\n",
       "      <td>96.338921</td>\n",
       "    </tr>\n",
       "  </tbody>\n",
       "</table>\n",
       "</div>"
      ],
      "text/plain": [
       "       theoretical_radius  predicted_radius_nn    residual_nn  \\\n",
       "count       215647.000000        215647.000000  215647.000000   \n",
       "mean           171.302222           172.150406      -0.848193   \n",
       "std             14.426835            13.904529       4.188116   \n",
       "min              4.270976            53.587410    -169.054245   \n",
       "25%            167.550240           168.013466      -2.309280   \n",
       "50%            175.736923           176.301849      -0.647522   \n",
       "75%            180.495514           181.206703       0.991852   \n",
       "max            186.676727           216.761612      69.318703   \n",
       "\n",
       "       predicted_radius_xgb   residual_xgb  \n",
       "count         215647.000000  215647.000000  \n",
       "mean             172.319153      -1.016938  \n",
       "std               14.226271       4.315506  \n",
       "min               55.723156    -169.210510  \n",
       "25%              168.199745      -2.419968  \n",
       "50%              176.626862      -0.854034  \n",
       "75%              181.578987       0.763062  \n",
       "max              196.356598      96.338921  "
      ]
     },
     "execution_count": 61,
     "metadata": {},
     "output_type": "execute_result"
    }
   ],
   "source": [
    "pion_pred_df.describe()"
   ]
  },
  {
   "cell_type": "code",
   "execution_count": null,
   "id": "3b293e89-18f9-4a35-a0bd-4bd23519a9d6",
   "metadata": {},
   "outputs": [],
   "source": []
  }
 ],
 "metadata": {
  "kernelspec": {
   "display_name": "Python [conda env:591]",
   "language": "python",
   "name": "conda-env-591-py"
  },
  "language_info": {
   "codemirror_mode": {
    "name": "ipython",
    "version": 3
   },
   "file_extension": ".py",
   "mimetype": "text/x-python",
   "name": "python",
   "nbconvert_exporter": "python",
   "pygments_lexer": "ipython3",
   "version": "3.10.8"
  }
 },
 "nbformat": 4,
 "nbformat_minor": 5
}
