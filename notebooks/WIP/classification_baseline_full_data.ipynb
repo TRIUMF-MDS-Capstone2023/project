{
 "cells": [
  {
   "cell_type": "markdown",
   "id": "5f89c5c0-3bf8-4340-984e-b8d35ab3f090",
   "metadata": {},
   "source": [
    "### Classification performance on engineered features with baseline models"
   ]
  },
  {
   "cell_type": "markdown",
   "id": "2f4423cf-dbdc-4725-9f48-1785e85299fd",
   "metadata": {},
   "source": [
    "This notebook is to experiment on various classification models (before moving onto neural networks) to distinguish pion and muon by using **engineered features** studied from the MDS team's regression baseline research. These engineered features have been explored to fit the ring_radius from a variable number of hits attached to each event.  \n",
    "\n",
    "In the notebook, with a selected classifier, the performances of the classifier being trained globally (momentum from 15-45 GeV/c) and locally (each bin for 5 GeV/c) will be compared to verify the classification performances within different momentum range.\n",
    "\n",
    "**IMPORTANT ASSUMPTIONS/CONDITIONS**:   \n",
    "(1) The `label` column from the event dataset has been taken as the ground truth for the classification task in the notebook. 1 for muon; 0 for pion.   \n",
    "\n",
    "(2) Data used in this notebook was generated from the full dataset then being filtered as below:  \n",
    "Filter and keep the momentum range 15 - 45 GeV;   \n",
    "Filter and keep hits with CHOD delta <= 0.5 ns (in-time hits only).     \n",
    "\n",
    "(3) Any features produced from the SOTA (current NA62 algorithm) are not used in the classification task. "
   ]
  },
  {
   "cell_type": "code",
   "execution_count": 1,
   "id": "3c9bbe4d-339e-4242-ade7-35ecdfb78f1c",
   "metadata": {},
   "outputs": [],
   "source": [
    "import h5py \n",
    "import numpy as np \n",
    "import pandas as pd\n",
    "import os\n",
    "import seaborn as sns\n",
    "import matplotlib.pyplot as plt\n",
    "import sys\n",
    "import glob\n",
    "import warnings\n",
    "import altair as alt"
   ]
  },
  {
   "cell_type": "markdown",
   "id": "db064167-0d0e-4197-8287-21358f2c1378",
   "metadata": {},
   "source": [
    "### 1.0 Read and prepare dataframes"
   ]
  },
  {
   "cell_type": "code",
   "execution_count": 2,
   "id": "edae58e1-2711-44b5-b2a5-a89af27d078a",
   "metadata": {},
   "outputs": [],
   "source": [
    "# read events with hit features df (Tcut = 0.5 ns)\n",
    "# only keep features for classification purpose\n",
    "df = pd.read_parquet('project/data/events_with_hit_features_[cut_off_time=0.5].parquet'\n",
    "                    )[['total_in_time_hits',\n",
    "                       'x_aligned_min',\n",
    "                       'x_aligned_max',\n",
    "                       'x_aligned_width',\n",
    "                       'y_aligned_min',\n",
    "                       'y_aligned_max',\n",
    "                       'y_aligned_width',\n",
    "                       'hit_distance_min',\n",
    "                       'hit_distance_max',\n",
    "                       'hit_distance_mean',\n",
    "                       'hit_distance_median',\n",
    "                       'hit_distance_q25',\n",
    "                       'hit_distance_q75',\n",
    "                       'hit_distance_rms',\n",
    "                       'hull_area',\n",
    "                       'hull_diameter',\n",
    "                       'hull_diff_width_diameter',\n",
    "                       'hull_width',\n",
    "                       'track_momentum',\n",
    "                       'label'\n",
    "                      ]]"
   ]
  },
  {
   "cell_type": "code",
   "execution_count": 3,
   "id": "a8091727-abc6-4d50-ab10-58bbd78cc15c",
   "metadata": {},
   "outputs": [
    {
     "name": "stdout",
     "output_type": "stream",
     "text": [
      "<class 'pandas.core.frame.DataFrame'>\n",
      "RangeIndex: 2376174 entries, 0 to 2376173\n",
      "Data columns (total 20 columns):\n",
      " #   Column                    Dtype  \n",
      "---  ------                    -----  \n",
      " 0   total_in_time_hits        uint32 \n",
      " 1   x_aligned_min             float64\n",
      " 2   x_aligned_max             float64\n",
      " 3   x_aligned_width           float64\n",
      " 4   y_aligned_min             float64\n",
      " 5   y_aligned_max             float64\n",
      " 6   y_aligned_width           float64\n",
      " 7   hit_distance_min          float64\n",
      " 8   hit_distance_max          float64\n",
      " 9   hit_distance_mean         float64\n",
      " 10  hit_distance_median       float64\n",
      " 11  hit_distance_q25          float64\n",
      " 12  hit_distance_q75          float64\n",
      " 13  hit_distance_rms          float64\n",
      " 14  hull_area                 float64\n",
      " 15  hull_diameter             float64\n",
      " 16  hull_diff_width_diameter  float64\n",
      " 17  hull_width                float64\n",
      " 18  track_momentum            float32\n",
      " 19  label                     int32  \n",
      "dtypes: float32(1), float64(17), int32(1), uint32(1)\n",
      "memory usage: 335.4 MB\n"
     ]
    }
   ],
   "source": [
    "df.info()"
   ]
  },
  {
   "cell_type": "code",
   "execution_count": 4,
   "id": "8fceee5b-4929-469b-a268-85831f9dd59e",
   "metadata": {},
   "outputs": [],
   "source": [
    "# drop rows with track_momentum out of [15,45]\n",
    "df = df.drop(df[df.track_momentum <15].index)\n",
    "df = df.drop(df[df.track_momentum >45].index)"
   ]
  },
  {
   "cell_type": "code",
   "execution_count": 5,
   "id": "832c15ab-bd36-4992-b29b-a8528707428a",
   "metadata": {},
   "outputs": [
    {
     "data": {
      "text/plain": [
       "0    1493811\n",
       "1     194698\n",
       "Name: label, dtype: int64"
      ]
     },
     "execution_count": 5,
     "metadata": {},
     "output_type": "execute_result"
    }
   ],
   "source": [
    "# count the number of particles (0 for muon; 1 for pion)\n",
    "df['label'].value_counts()"
   ]
  },
  {
   "cell_type": "code",
   "execution_count": 6,
   "id": "fa8b67a1-3aa9-4811-baf9-4d505430f69a",
   "metadata": {},
   "outputs": [
    {
     "data": {
      "text/html": [
       "<div>\n",
       "<style scoped>\n",
       "    .dataframe tbody tr th:only-of-type {\n",
       "        vertical-align: middle;\n",
       "    }\n",
       "\n",
       "    .dataframe tbody tr th {\n",
       "        vertical-align: top;\n",
       "    }\n",
       "\n",
       "    .dataframe thead th {\n",
       "        text-align: right;\n",
       "    }\n",
       "</style>\n",
       "<table border=\"1\" class=\"dataframe\">\n",
       "  <thead>\n",
       "    <tr style=\"text-align: right;\">\n",
       "      <th></th>\n",
       "      <th>total_in_time_hits</th>\n",
       "      <th>x_aligned_min</th>\n",
       "      <th>x_aligned_max</th>\n",
       "      <th>x_aligned_width</th>\n",
       "      <th>y_aligned_min</th>\n",
       "      <th>y_aligned_max</th>\n",
       "      <th>y_aligned_width</th>\n",
       "      <th>hit_distance_min</th>\n",
       "      <th>hit_distance_max</th>\n",
       "      <th>hit_distance_mean</th>\n",
       "      <th>hit_distance_median</th>\n",
       "      <th>hit_distance_q25</th>\n",
       "      <th>hit_distance_q75</th>\n",
       "      <th>hit_distance_rms</th>\n",
       "      <th>hull_area</th>\n",
       "      <th>hull_diameter</th>\n",
       "      <th>hull_diff_width_diameter</th>\n",
       "      <th>hull_width</th>\n",
       "      <th>track_momentum</th>\n",
       "      <th>label</th>\n",
       "    </tr>\n",
       "  </thead>\n",
       "  <tbody>\n",
       "    <tr>\n",
       "      <th>count</th>\n",
       "      <td>1.688509e+06</td>\n",
       "      <td>1.688509e+06</td>\n",
       "      <td>1.688509e+06</td>\n",
       "      <td>1.688509e+06</td>\n",
       "      <td>1.688509e+06</td>\n",
       "      <td>1.688509e+06</td>\n",
       "      <td>1.688509e+06</td>\n",
       "      <td>1.688509e+06</td>\n",
       "      <td>1.688509e+06</td>\n",
       "      <td>1.688509e+06</td>\n",
       "      <td>1.688509e+06</td>\n",
       "      <td>1.688509e+06</td>\n",
       "      <td>1.688509e+06</td>\n",
       "      <td>1.688509e+06</td>\n",
       "      <td>1.688509e+06</td>\n",
       "      <td>1.688509e+06</td>\n",
       "      <td>1.688509e+06</td>\n",
       "      <td>1.688509e+06</td>\n",
       "      <td>1.688509e+06</td>\n",
       "      <td>1.688509e+06</td>\n",
       "    </tr>\n",
       "    <tr>\n",
       "      <th>mean</th>\n",
       "      <td>2.982868e+01</td>\n",
       "      <td>-2.164844e+02</td>\n",
       "      <td>1.754424e+02</td>\n",
       "      <td>3.919268e+02</td>\n",
       "      <td>-2.130279e+02</td>\n",
       "      <td>1.791699e+02</td>\n",
       "      <td>3.921977e+02</td>\n",
       "      <td>1.102708e+02</td>\n",
       "      <td>2.795723e+02</td>\n",
       "      <td>1.893073e+02</td>\n",
       "      <td>1.834456e+02</td>\n",
       "      <td>1.679609e+02</td>\n",
       "      <td>2.121290e+02</td>\n",
       "      <td>1.954272e+02</td>\n",
       "      <td>1.237029e+03</td>\n",
       "      <td>4.510073e+02</td>\n",
       "      <td>1.173096e+02</td>\n",
       "      <td>3.336976e+02</td>\n",
       "      <td>3.183104e+01</td>\n",
       "      <td>1.153076e-01</td>\n",
       "    </tr>\n",
       "    <tr>\n",
       "      <th>std</th>\n",
       "      <td>1.747927e+01</td>\n",
       "      <td>5.973234e+01</td>\n",
       "      <td>7.052641e+01</td>\n",
       "      <td>8.242953e+01</td>\n",
       "      <td>6.342503e+01</td>\n",
       "      <td>6.614275e+01</td>\n",
       "      <td>7.686638e+01</td>\n",
       "      <td>4.989293e+01</td>\n",
       "      <td>7.447334e+01</td>\n",
       "      <td>1.845638e+01</td>\n",
       "      <td>1.301127e+01</td>\n",
       "      <td>1.690277e+01</td>\n",
       "      <td>3.934439e+01</td>\n",
       "      <td>2.268296e+01</td>\n",
       "      <td>2.101007e+02</td>\n",
       "      <td>7.692867e+01</td>\n",
       "      <td>5.216877e+01</td>\n",
       "      <td>7.055424e+01</td>\n",
       "      <td>7.629166e+00</td>\n",
       "      <td>3.193929e-01</td>\n",
       "    </tr>\n",
       "    <tr>\n",
       "      <th>min</th>\n",
       "      <td>4.000000e+00</td>\n",
       "      <td>-5.084762e+02</td>\n",
       "      <td>-2.353556e+02</td>\n",
       "      <td>9.000000e+00</td>\n",
       "      <td>-5.038601e+02</td>\n",
       "      <td>-2.461987e+02</td>\n",
       "      <td>1.557999e+01</td>\n",
       "      <td>5.820465e-02</td>\n",
       "      <td>1.049481e+02</td>\n",
       "      <td>6.202501e+01</td>\n",
       "      <td>5.839689e+01</td>\n",
       "      <td>1.952811e+01</td>\n",
       "      <td>9.111714e+01</td>\n",
       "      <td>6.917790e+01</td>\n",
       "      <td>1.031644e+02</td>\n",
       "      <td>4.761900e+01</td>\n",
       "      <td>4.704039e-07</td>\n",
       "      <td>1.800198e+01</td>\n",
       "      <td>1.500004e+01</td>\n",
       "      <td>0.000000e+00</td>\n",
       "    </tr>\n",
       "    <tr>\n",
       "      <th>25%</th>\n",
       "      <td>1.700000e+01</td>\n",
       "      <td>-2.239120e+02</td>\n",
       "      <td>1.446776e+02</td>\n",
       "      <td>3.469000e+02</td>\n",
       "      <td>-2.222975e+02</td>\n",
       "      <td>1.532396e+02</td>\n",
       "      <td>3.482300e+02</td>\n",
       "      <td>6.691159e+01</td>\n",
       "      <td>2.167791e+02</td>\n",
       "      <td>1.792244e+02</td>\n",
       "      <td>1.786355e+02</td>\n",
       "      <td>1.612120e+02</td>\n",
       "      <td>1.884841e+02</td>\n",
       "      <td>1.818933e+02</td>\n",
       "      <td>1.096354e+03</td>\n",
       "      <td>3.922968e+02</td>\n",
       "      <td>7.679532e+01</td>\n",
       "      <td>2.891448e+02</td>\n",
       "      <td>2.613258e+01</td>\n",
       "      <td>0.000000e+00</td>\n",
       "    </tr>\n",
       "    <tr>\n",
       "      <th>50%</th>\n",
       "      <td>2.500000e+01</td>\n",
       "      <td>-2.033235e+02</td>\n",
       "      <td>1.741622e+02</td>\n",
       "      <td>3.870000e+02</td>\n",
       "      <td>-2.008626e+02</td>\n",
       "      <td>1.756379e+02</td>\n",
       "      <td>3.897100e+02</td>\n",
       "      <td>1.287938e+02</td>\n",
       "      <td>2.564738e+02</td>\n",
       "      <td>1.867037e+02</td>\n",
       "      <td>1.838449e+02</td>\n",
       "      <td>1.736529e+02</td>\n",
       "      <td>1.963767e+02</td>\n",
       "      <td>1.895519e+02</td>\n",
       "      <td>1.207380e+03</td>\n",
       "      <td>4.255778e+02</td>\n",
       "      <td>1.125434e+02</td>\n",
       "      <td>3.420164e+02</td>\n",
       "      <td>3.228308e+01</td>\n",
       "      <td>0.000000e+00</td>\n",
       "    </tr>\n",
       "    <tr>\n",
       "      <th>75%</th>\n",
       "      <td>3.800000e+01</td>\n",
       "      <td>-1.859275e+02</td>\n",
       "      <td>1.907383e+02</td>\n",
       "      <td>4.369000e+02</td>\n",
       "      <td>-1.800368e+02</td>\n",
       "      <td>1.908613e+02</td>\n",
       "      <td>4.417700e+02</td>\n",
       "      <td>1.512155e+02</td>\n",
       "      <td>3.372667e+02</td>\n",
       "      <td>1.966868e+02</td>\n",
       "      <td>1.877383e+02</td>\n",
       "      <td>1.794111e+02</td>\n",
       "      <td>2.233598e+02</td>\n",
       "      <td>2.057199e+02</td>\n",
       "      <td>1.393014e+03</td>\n",
       "      <td>5.143731e+02</td>\n",
       "      <td>1.515514e+02</td>\n",
       "      <td>3.810093e+02</td>\n",
       "      <td>3.801829e+01</td>\n",
       "      <td>0.000000e+00</td>\n",
       "    </tr>\n",
       "    <tr>\n",
       "      <th>max</th>\n",
       "      <td>2.930000e+02</td>\n",
       "      <td>2.160041e+02</td>\n",
       "      <td>4.906269e+02</td>\n",
       "      <td>6.439000e+02</td>\n",
       "      <td>2.051346e+02</td>\n",
       "      <td>4.691744e+02</td>\n",
       "      <td>6.026600e+02</td>\n",
       "      <td>2.908721e+02</td>\n",
       "      <td>5.466730e+02</td>\n",
       "      <td>3.592500e+02</td>\n",
       "      <td>4.251019e+02</td>\n",
       "      <td>3.444700e+02</td>\n",
       "      <td>4.884960e+02</td>\n",
       "      <td>3.804164e+02</td>\n",
       "      <td>1.932209e+03</td>\n",
       "      <td>6.677210e+02</td>\n",
       "      <td>4.868456e+02</td>\n",
       "      <td>5.783820e+02</td>\n",
       "      <td>4.499998e+01</td>\n",
       "      <td>1.000000e+00</td>\n",
       "    </tr>\n",
       "  </tbody>\n",
       "</table>\n",
       "</div>"
      ],
      "text/plain": [
       "       total_in_time_hits  x_aligned_min  x_aligned_max  x_aligned_width  \\\n",
       "count        1.688509e+06   1.688509e+06   1.688509e+06     1.688509e+06   \n",
       "mean         2.982868e+01  -2.164844e+02   1.754424e+02     3.919268e+02   \n",
       "std          1.747927e+01   5.973234e+01   7.052641e+01     8.242953e+01   \n",
       "min          4.000000e+00  -5.084762e+02  -2.353556e+02     9.000000e+00   \n",
       "25%          1.700000e+01  -2.239120e+02   1.446776e+02     3.469000e+02   \n",
       "50%          2.500000e+01  -2.033235e+02   1.741622e+02     3.870000e+02   \n",
       "75%          3.800000e+01  -1.859275e+02   1.907383e+02     4.369000e+02   \n",
       "max          2.930000e+02   2.160041e+02   4.906269e+02     6.439000e+02   \n",
       "\n",
       "       y_aligned_min  y_aligned_max  y_aligned_width  hit_distance_min  \\\n",
       "count   1.688509e+06   1.688509e+06     1.688509e+06      1.688509e+06   \n",
       "mean   -2.130279e+02   1.791699e+02     3.921977e+02      1.102708e+02   \n",
       "std     6.342503e+01   6.614275e+01     7.686638e+01      4.989293e+01   \n",
       "min    -5.038601e+02  -2.461987e+02     1.557999e+01      5.820465e-02   \n",
       "25%    -2.222975e+02   1.532396e+02     3.482300e+02      6.691159e+01   \n",
       "50%    -2.008626e+02   1.756379e+02     3.897100e+02      1.287938e+02   \n",
       "75%    -1.800368e+02   1.908613e+02     4.417700e+02      1.512155e+02   \n",
       "max     2.051346e+02   4.691744e+02     6.026600e+02      2.908721e+02   \n",
       "\n",
       "       hit_distance_max  hit_distance_mean  hit_distance_median  \\\n",
       "count      1.688509e+06       1.688509e+06         1.688509e+06   \n",
       "mean       2.795723e+02       1.893073e+02         1.834456e+02   \n",
       "std        7.447334e+01       1.845638e+01         1.301127e+01   \n",
       "min        1.049481e+02       6.202501e+01         5.839689e+01   \n",
       "25%        2.167791e+02       1.792244e+02         1.786355e+02   \n",
       "50%        2.564738e+02       1.867037e+02         1.838449e+02   \n",
       "75%        3.372667e+02       1.966868e+02         1.877383e+02   \n",
       "max        5.466730e+02       3.592500e+02         4.251019e+02   \n",
       "\n",
       "       hit_distance_q25  hit_distance_q75  hit_distance_rms     hull_area  \\\n",
       "count      1.688509e+06      1.688509e+06      1.688509e+06  1.688509e+06   \n",
       "mean       1.679609e+02      2.121290e+02      1.954272e+02  1.237029e+03   \n",
       "std        1.690277e+01      3.934439e+01      2.268296e+01  2.101007e+02   \n",
       "min        1.952811e+01      9.111714e+01      6.917790e+01  1.031644e+02   \n",
       "25%        1.612120e+02      1.884841e+02      1.818933e+02  1.096354e+03   \n",
       "50%        1.736529e+02      1.963767e+02      1.895519e+02  1.207380e+03   \n",
       "75%        1.794111e+02      2.233598e+02      2.057199e+02  1.393014e+03   \n",
       "max        3.444700e+02      4.884960e+02      3.804164e+02  1.932209e+03   \n",
       "\n",
       "       hull_diameter  hull_diff_width_diameter    hull_width  track_momentum  \\\n",
       "count   1.688509e+06              1.688509e+06  1.688509e+06    1.688509e+06   \n",
       "mean    4.510073e+02              1.173096e+02  3.336976e+02    3.183104e+01   \n",
       "std     7.692867e+01              5.216877e+01  7.055424e+01    7.629166e+00   \n",
       "min     4.761900e+01              4.704039e-07  1.800198e+01    1.500004e+01   \n",
       "25%     3.922968e+02              7.679532e+01  2.891448e+02    2.613258e+01   \n",
       "50%     4.255778e+02              1.125434e+02  3.420164e+02    3.228308e+01   \n",
       "75%     5.143731e+02              1.515514e+02  3.810093e+02    3.801829e+01   \n",
       "max     6.677210e+02              4.868456e+02  5.783820e+02    4.499998e+01   \n",
       "\n",
       "              label  \n",
       "count  1.688509e+06  \n",
       "mean   1.153076e-01  \n",
       "std    3.193929e-01  \n",
       "min    0.000000e+00  \n",
       "25%    0.000000e+00  \n",
       "50%    0.000000e+00  \n",
       "75%    0.000000e+00  \n",
       "max    1.000000e+00  "
      ]
     },
     "execution_count": 6,
     "metadata": {},
     "output_type": "execute_result"
    }
   ],
   "source": [
    "df.describe()"
   ]
  },
  {
   "cell_type": "code",
   "execution_count": 7,
   "id": "30314b91-5d25-4aa2-b923-3863e303396e",
   "metadata": {},
   "outputs": [],
   "source": [
    "# seperate data by momentum with range size = 5 Gev\n",
    "df_15_20 = df.query('track_momentum >= 15 & track_momentum <= 20')\n",
    "df_20_25 = df.query('track_momentum > 20 & track_momentum <= 25')\n",
    "df_25_30 = df.query('track_momentum > 25 & track_momentum <= 30')\n",
    "df_30_35 = df.query('track_momentum > 30 & track_momentum <= 35')\n",
    "df_35_40 = df.query('track_momentum > 35 & track_momentum <= 40')\n",
    "df_40_45 = df.query('track_momentum > 40 & track_momentum <= 45')"
   ]
  },
  {
   "cell_type": "markdown",
   "id": "22f1eba4-5fc3-4f39-bf87-9438495b978a",
   "metadata": {},
   "source": [
    "### 2.0 Perform training for basic model selection"
   ]
  },
  {
   "cell_type": "markdown",
   "id": "ed0dc53b-a9ba-4ca8-bfcb-a0b4e99e81ed",
   "metadata": {},
   "source": [
    "This section is to perform training on various baseline models. To simplify the comparison, the models will be only trained globally (momentum from 15-45 GeV/c) with default parameters."
   ]
  },
  {
   "cell_type": "code",
   "execution_count": 8,
   "id": "de50678f-f7cc-402c-9118-891046459350",
   "metadata": {},
   "outputs": [],
   "source": [
    "# import ML models and tools\n",
    "from sklearn.model_selection import (\n",
    "    GridSearchCV,\n",
    "    cross_val_score,\n",
    "    cross_validate,\n",
    "    train_test_split,\n",
    ")\n",
    "from sklearn.pipeline import Pipeline, make_pipeline\n",
    "from sklearn.preprocessing import StandardScaler\n",
    "from sklearn.dummy import DummyClassifier\n",
    "from sklearn.linear_model import LogisticRegression\n",
    "from sklearn.tree import DecisionTreeClassifier\n",
    "from sklearn.ensemble import RandomForestClassifier\n",
    "from catboost import CatBoostClassifier\n",
    "from lightgbm.sklearn import LGBMClassifier\n",
    "from xgboost import XGBClassifier\n",
    "from sklearn.ensemble import GradientBoostingClassifier, HistGradientBoostingClassifier\n",
    "from sklearn.metrics import accuracy_score, f1_score, precision_score, recall_score\n",
    "from helpers import mean_std_cross_val_scores\n",
    "from helpers import train_test_split_range"
   ]
  },
  {
   "cell_type": "markdown",
   "id": "17531399-5ebe-4fc4-85bd-c0bcc04485e6",
   "metadata": {},
   "source": [
    "#### 2.1 Prepare train/test df"
   ]
  },
  {
   "cell_type": "code",
   "execution_count": 9,
   "id": "9afd3f2b-b4bf-4e4e-88eb-d8cc9f2f9644",
   "metadata": {},
   "outputs": [],
   "source": [
    "# split to train and test dataframe\n",
    "train_df, test_df = train_test_split(df,\n",
    "                                     test_size=0.25,\n",
    "                                     random_state=42,\n",
    "                                     shuffle=True\n",
    "                                    )"
   ]
  },
  {
   "cell_type": "code",
   "execution_count": 10,
   "id": "3898d381-88dc-467f-957c-af973446d9ea",
   "metadata": {},
   "outputs": [
    {
     "data": {
      "text/plain": [
       "0    1120462\n",
       "1     145919\n",
       "Name: label, dtype: int64"
      ]
     },
     "execution_count": 10,
     "metadata": {},
     "output_type": "execute_result"
    }
   ],
   "source": [
    "# check numbers of muon and pion in training df (0 for muon; 1 for pion)\n",
    "train_df['label'].value_counts()"
   ]
  },
  {
   "cell_type": "code",
   "execution_count": 11,
   "id": "20b4d362-64b3-4815-8241-60973894c356",
   "metadata": {},
   "outputs": [
    {
     "data": {
      "text/plain": [
       "0    373349\n",
       "1     48779\n",
       "Name: label, dtype: int64"
      ]
     },
     "execution_count": 11,
     "metadata": {},
     "output_type": "execute_result"
    }
   ],
   "source": [
    "# check numbers of muon and pion in testing df\n",
    "test_df['label'].value_counts()"
   ]
  },
  {
   "cell_type": "code",
   "execution_count": 12,
   "id": "ca8ff658-36b9-4902-aa6d-40c20e6bd813",
   "metadata": {},
   "outputs": [],
   "source": [
    "# generate X and y for training and test df\n",
    "X_train, y_train = train_df.drop(columns=[\"label\"]), train_df[\"label\"]\n",
    "X_test, y_test = test_df.drop(columns=[\"label\"]), test_df[\"label\"]"
   ]
  },
  {
   "cell_type": "markdown",
   "id": "2bff6d92-4a9e-4a79-89b4-c5e3ee118f57",
   "metadata": {},
   "source": [
    "#### 2.2 Define pipelines and metrics"
   ]
  },
  {
   "cell_type": "code",
   "execution_count": 13,
   "id": "f9ebdc3c-a3b6-49b0-80cb-aa5acf4d3fb8",
   "metadata": {},
   "outputs": [],
   "source": [
    "classification_metrics = [\"accuracy\", \"precision\", \"recall\", \"f1\"]"
   ]
  },
  {
   "cell_type": "code",
   "execution_count": 14,
   "id": "0f34c151-5eca-4244-bb3a-1f0bfbc1df45",
   "metadata": {},
   "outputs": [],
   "source": [
    "# define pipelines\n",
    "\n",
    "preprocessor = StandardScaler()\n",
    "\n",
    "pipe_dummy = make_pipeline(\n",
    "    preprocessor, DummyClassifier())\n",
    "\n",
    "pipe_lr = make_pipeline(\n",
    "    preprocessor, LogisticRegression(max_iter=2000, \n",
    "                                     random_state=123,\n",
    "                                     class_weight=\"balanced\"))\n",
    "\n",
    "pipe_dt = make_pipeline(preprocessor, DecisionTreeClassifier(random_state=123,\n",
    "                                                             class_weight=\"balanced\"))\n",
    "\n",
    "pipe_rf = make_pipeline(\n",
    "    preprocessor, RandomForestClassifier(random_state=123, class_weight=\"balanced\"))\n",
    "\n",
    "pipe_xgb = make_pipeline(\n",
    "    preprocessor, XGBClassifier(random_state=123, verbosity=0))\n",
    "\n",
    "pipe_lgbm = make_pipeline(\n",
    "    preprocessor, LGBMClassifier(random_state=123))\n",
    "\n",
    "pipe_catboost = make_pipeline(\n",
    "    preprocessor, CatBoostClassifier(verbose=0, random_state=123))\n",
    "\n",
    "pipe_sklearn_histGB = make_pipeline(\n",
    "    preprocessor, HistGradientBoostingClassifier(random_state=123))\n",
    "\n",
    "pipe_sklearn_GB = make_pipeline(\n",
    "    preprocessor, GradientBoostingClassifier(random_state=123))\n",
    "\n",
    "classifiers = {\n",
    "    \"dummy classifier\": pipe_dummy,\n",
    "    \"logistic regression\": pipe_lr,\n",
    "    \"decision tree\": pipe_dt,\n",
    "    \"random forest\": pipe_rf,\n",
    "    \"XGBoost\": pipe_xgb,\n",
    "    \"LightGBM\": pipe_lgbm,\n",
    "    \"CatBoost\": pipe_catboost,\n",
    "    \"sklearn_histGB\": pipe_sklearn_histGB,\n",
    "    \"sklearn_GB\": pipe_sklearn_GB,\n",
    "}"
   ]
  },
  {
   "cell_type": "code",
   "execution_count": 15,
   "id": "5a2303c2-433f-45c9-b6e2-6201e861e70c",
   "metadata": {},
   "outputs": [],
   "source": [
    "warnings.simplefilter(action=\"ignore\", category=DeprecationWarning)\n",
    "warnings.simplefilter(action=\"ignore\", category=UserWarning)"
   ]
  },
  {
   "cell_type": "markdown",
   "id": "4c8c3b6e-7ad2-4411-8ba4-a9ef7c1f8fd7",
   "metadata": {},
   "source": [
    "#### 2.3 Train models and obtain cross validation results"
   ]
  },
  {
   "cell_type": "code",
   "execution_count": 16,
   "id": "64f578d3-dbff-4691-b2b1-31e9feef98f6",
   "metadata": {},
   "outputs": [
    {
     "name": "stdout",
     "output_type": "stream",
     "text": [
      "CPU times: user 2h 14min 2s, sys: 1min 44s, total: 2h 15min 46s\n",
      "Wall time: 1h 32min 51s\n"
     ]
    }
   ],
   "source": [
    "%%time\n",
    "results = {}\n",
    "\n",
    "for (name, model) in classifiers.items():\n",
    "    results[name] = mean_std_cross_val_scores(\n",
    "        model, X_train, y_train, return_train_score=True, scoring=classification_metrics\n",
    "    )"
   ]
  },
  {
   "cell_type": "code",
   "execution_count": 17,
   "id": "5eb47fab-7fba-44e6-82df-0f90a3618370",
   "metadata": {},
   "outputs": [
    {
     "data": {
      "text/html": [
       "<div>\n",
       "<style scoped>\n",
       "    .dataframe tbody tr th:only-of-type {\n",
       "        vertical-align: middle;\n",
       "    }\n",
       "\n",
       "    .dataframe tbody tr th {\n",
       "        vertical-align: top;\n",
       "    }\n",
       "\n",
       "    .dataframe thead th {\n",
       "        text-align: right;\n",
       "    }\n",
       "</style>\n",
       "<table border=\"1\" class=\"dataframe\">\n",
       "  <thead>\n",
       "    <tr style=\"text-align: right;\">\n",
       "      <th></th>\n",
       "      <th>fit_time</th>\n",
       "      <th>score_time</th>\n",
       "      <th>test_accuracy</th>\n",
       "      <th>train_accuracy</th>\n",
       "      <th>test_precision</th>\n",
       "      <th>train_precision</th>\n",
       "      <th>test_recall</th>\n",
       "      <th>train_recall</th>\n",
       "      <th>test_f1</th>\n",
       "      <th>train_f1</th>\n",
       "    </tr>\n",
       "  </thead>\n",
       "  <tbody>\n",
       "    <tr>\n",
       "      <th>dummy classifier</th>\n",
       "      <td>0.195 (+/- 0.021)</td>\n",
       "      <td>0.123 (+/- 0.004)</td>\n",
       "      <td>0.885 (+/- 0.000)</td>\n",
       "      <td>0.885 (+/- 0.000)</td>\n",
       "      <td>0.000 (+/- 0.000)</td>\n",
       "      <td>0.000 (+/- 0.000)</td>\n",
       "      <td>0.000 (+/- 0.000)</td>\n",
       "      <td>0.000 (+/- 0.000)</td>\n",
       "      <td>0.000 (+/- 0.000)</td>\n",
       "      <td>0.000 (+/- 0.000)</td>\n",
       "    </tr>\n",
       "    <tr>\n",
       "      <th>logistic regression</th>\n",
       "      <td>2.210 (+/- 0.105)</td>\n",
       "      <td>0.148 (+/- 0.004)</td>\n",
       "      <td>0.734 (+/- 0.001)</td>\n",
       "      <td>0.734 (+/- 0.000)</td>\n",
       "      <td>0.261 (+/- 0.000)</td>\n",
       "      <td>0.261 (+/- 0.000)</td>\n",
       "      <td>0.713 (+/- 0.002)</td>\n",
       "      <td>0.713 (+/- 0.001)</td>\n",
       "      <td>0.382 (+/- 0.001)</td>\n",
       "      <td>0.382 (+/- 0.000)</td>\n",
       "    </tr>\n",
       "    <tr>\n",
       "      <th>decision tree</th>\n",
       "      <td>28.367 (+/- 0.426)</td>\n",
       "      <td>0.174 (+/- 0.006)</td>\n",
       "      <td>0.907 (+/- 0.000)</td>\n",
       "      <td>1.000 (+/- 0.000)</td>\n",
       "      <td>0.596 (+/- 0.002)</td>\n",
       "      <td>1.000 (+/- 0.000)</td>\n",
       "      <td>0.587 (+/- 0.002)</td>\n",
       "      <td>1.000 (+/- 0.000)</td>\n",
       "      <td>0.591 (+/- 0.001)</td>\n",
       "      <td>1.000 (+/- 0.000)</td>\n",
       "    </tr>\n",
       "    <tr>\n",
       "      <th>random forest</th>\n",
       "      <td>396.931 (+/- 2.091)</td>\n",
       "      <td>4.126 (+/- 0.054)</td>\n",
       "      <td>0.938 (+/- 0.000)</td>\n",
       "      <td>1.000 (+/- 0.000)</td>\n",
       "      <td>0.906 (+/- 0.002)</td>\n",
       "      <td>1.000 (+/- 0.000)</td>\n",
       "      <td>0.517 (+/- 0.002)</td>\n",
       "      <td>1.000 (+/- 0.000)</td>\n",
       "      <td>0.659 (+/- 0.002)</td>\n",
       "      <td>1.000 (+/- 0.000)</td>\n",
       "    </tr>\n",
       "    <tr>\n",
       "      <th>XGBoost</th>\n",
       "      <td>43.940 (+/- 1.211)</td>\n",
       "      <td>0.217 (+/- 0.004)</td>\n",
       "      <td>0.943 (+/- 0.000)</td>\n",
       "      <td>0.946 (+/- 0.000)</td>\n",
       "      <td>0.858 (+/- 0.002)</td>\n",
       "      <td>0.876 (+/- 0.001)</td>\n",
       "      <td>0.607 (+/- 0.002)</td>\n",
       "      <td>0.623 (+/- 0.001)</td>\n",
       "      <td>0.711 (+/- 0.001)</td>\n",
       "      <td>0.728 (+/- 0.001)</td>\n",
       "    </tr>\n",
       "    <tr>\n",
       "      <th>LightGBM</th>\n",
       "      <td>2.411 (+/- 0.295)</td>\n",
       "      <td>0.430 (+/- 0.018)</td>\n",
       "      <td>0.940 (+/- 0.000)</td>\n",
       "      <td>0.941 (+/- 0.000)</td>\n",
       "      <td>0.863 (+/- 0.003)</td>\n",
       "      <td>0.868 (+/- 0.001)</td>\n",
       "      <td>0.573 (+/- 0.002)</td>\n",
       "      <td>0.577 (+/- 0.001)</td>\n",
       "      <td>0.689 (+/- 0.002)</td>\n",
       "      <td>0.693 (+/- 0.001)</td>\n",
       "    </tr>\n",
       "    <tr>\n",
       "      <th>CatBoost</th>\n",
       "      <td>46.354 (+/- 2.026)</td>\n",
       "      <td>0.264 (+/- 0.014)</td>\n",
       "      <td>0.946 (+/- 0.000)</td>\n",
       "      <td>0.950 (+/- 0.000)</td>\n",
       "      <td>0.862 (+/- 0.002)</td>\n",
       "      <td>0.885 (+/- 0.000)</td>\n",
       "      <td>0.629 (+/- 0.003)</td>\n",
       "      <td>0.650 (+/- 0.001)</td>\n",
       "      <td>0.727 (+/- 0.002)</td>\n",
       "      <td>0.749 (+/- 0.000)</td>\n",
       "    </tr>\n",
       "    <tr>\n",
       "      <th>sklearn_histGB</th>\n",
       "      <td>5.183 (+/- 0.030)</td>\n",
       "      <td>0.417 (+/- 0.005)</td>\n",
       "      <td>0.940 (+/- 0.000)</td>\n",
       "      <td>0.941 (+/- 0.000)</td>\n",
       "      <td>0.864 (+/- 0.003)</td>\n",
       "      <td>0.868 (+/- 0.001)</td>\n",
       "      <td>0.573 (+/- 0.001)</td>\n",
       "      <td>0.577 (+/- 0.001)</td>\n",
       "      <td>0.689 (+/- 0.001)</td>\n",
       "      <td>0.693 (+/- 0.000)</td>\n",
       "    </tr>\n",
       "    <tr>\n",
       "      <th>sklearn_GB</th>\n",
       "      <td>557.165 (+/- 3.256)</td>\n",
       "      <td>0.428 (+/- 0.004)</td>\n",
       "      <td>0.931 (+/- 0.000)</td>\n",
       "      <td>0.931 (+/- 0.000)</td>\n",
       "      <td>0.877 (+/- 0.003)</td>\n",
       "      <td>0.879 (+/- 0.003)</td>\n",
       "      <td>0.464 (+/- 0.002)</td>\n",
       "      <td>0.466 (+/- 0.001)</td>\n",
       "      <td>0.607 (+/- 0.002)</td>\n",
       "      <td>0.610 (+/- 0.001)</td>\n",
       "    </tr>\n",
       "  </tbody>\n",
       "</table>\n",
       "</div>"
      ],
      "text/plain": [
       "                                fit_time         score_time  \\\n",
       "dummy classifier       0.195 (+/- 0.021)  0.123 (+/- 0.004)   \n",
       "logistic regression    2.210 (+/- 0.105)  0.148 (+/- 0.004)   \n",
       "decision tree         28.367 (+/- 0.426)  0.174 (+/- 0.006)   \n",
       "random forest        396.931 (+/- 2.091)  4.126 (+/- 0.054)   \n",
       "XGBoost               43.940 (+/- 1.211)  0.217 (+/- 0.004)   \n",
       "LightGBM               2.411 (+/- 0.295)  0.430 (+/- 0.018)   \n",
       "CatBoost              46.354 (+/- 2.026)  0.264 (+/- 0.014)   \n",
       "sklearn_histGB         5.183 (+/- 0.030)  0.417 (+/- 0.005)   \n",
       "sklearn_GB           557.165 (+/- 3.256)  0.428 (+/- 0.004)   \n",
       "\n",
       "                         test_accuracy     train_accuracy     test_precision  \\\n",
       "dummy classifier     0.885 (+/- 0.000)  0.885 (+/- 0.000)  0.000 (+/- 0.000)   \n",
       "logistic regression  0.734 (+/- 0.001)  0.734 (+/- 0.000)  0.261 (+/- 0.000)   \n",
       "decision tree        0.907 (+/- 0.000)  1.000 (+/- 0.000)  0.596 (+/- 0.002)   \n",
       "random forest        0.938 (+/- 0.000)  1.000 (+/- 0.000)  0.906 (+/- 0.002)   \n",
       "XGBoost              0.943 (+/- 0.000)  0.946 (+/- 0.000)  0.858 (+/- 0.002)   \n",
       "LightGBM             0.940 (+/- 0.000)  0.941 (+/- 0.000)  0.863 (+/- 0.003)   \n",
       "CatBoost             0.946 (+/- 0.000)  0.950 (+/- 0.000)  0.862 (+/- 0.002)   \n",
       "sklearn_histGB       0.940 (+/- 0.000)  0.941 (+/- 0.000)  0.864 (+/- 0.003)   \n",
       "sklearn_GB           0.931 (+/- 0.000)  0.931 (+/- 0.000)  0.877 (+/- 0.003)   \n",
       "\n",
       "                       train_precision        test_recall       train_recall  \\\n",
       "dummy classifier     0.000 (+/- 0.000)  0.000 (+/- 0.000)  0.000 (+/- 0.000)   \n",
       "logistic regression  0.261 (+/- 0.000)  0.713 (+/- 0.002)  0.713 (+/- 0.001)   \n",
       "decision tree        1.000 (+/- 0.000)  0.587 (+/- 0.002)  1.000 (+/- 0.000)   \n",
       "random forest        1.000 (+/- 0.000)  0.517 (+/- 0.002)  1.000 (+/- 0.000)   \n",
       "XGBoost              0.876 (+/- 0.001)  0.607 (+/- 0.002)  0.623 (+/- 0.001)   \n",
       "LightGBM             0.868 (+/- 0.001)  0.573 (+/- 0.002)  0.577 (+/- 0.001)   \n",
       "CatBoost             0.885 (+/- 0.000)  0.629 (+/- 0.003)  0.650 (+/- 0.001)   \n",
       "sklearn_histGB       0.868 (+/- 0.001)  0.573 (+/- 0.001)  0.577 (+/- 0.001)   \n",
       "sklearn_GB           0.879 (+/- 0.003)  0.464 (+/- 0.002)  0.466 (+/- 0.001)   \n",
       "\n",
       "                               test_f1           train_f1  \n",
       "dummy classifier     0.000 (+/- 0.000)  0.000 (+/- 0.000)  \n",
       "logistic regression  0.382 (+/- 0.001)  0.382 (+/- 0.000)  \n",
       "decision tree        0.591 (+/- 0.001)  1.000 (+/- 0.000)  \n",
       "random forest        0.659 (+/- 0.002)  1.000 (+/- 0.000)  \n",
       "XGBoost              0.711 (+/- 0.001)  0.728 (+/- 0.001)  \n",
       "LightGBM             0.689 (+/- 0.002)  0.693 (+/- 0.001)  \n",
       "CatBoost             0.727 (+/- 0.002)  0.749 (+/- 0.000)  \n",
       "sklearn_histGB       0.689 (+/- 0.001)  0.693 (+/- 0.000)  \n",
       "sklearn_GB           0.607 (+/- 0.002)  0.610 (+/- 0.001)  "
      ]
     },
     "execution_count": 17,
     "metadata": {},
     "output_type": "execute_result"
    }
   ],
   "source": [
    "pd.DataFrame(results).T"
   ]
  },
  {
   "cell_type": "markdown",
   "id": "c5321b1c-2ee3-4c80-aabe-f5977babe071",
   "metadata": {},
   "source": [
    "#### 2.4 Performance of best model (CatBoostClassifier) on test data"
   ]
  },
  {
   "cell_type": "code",
   "execution_count": 18,
   "id": "48c96b16-2590-4d84-b9b4-36e9c2b1ca56",
   "metadata": {},
   "outputs": [
    {
     "data": {
      "text/html": [
       "<style>#sk-container-id-1 {color: black;background-color: white;}#sk-container-id-1 pre{padding: 0;}#sk-container-id-1 div.sk-toggleable {background-color: white;}#sk-container-id-1 label.sk-toggleable__label {cursor: pointer;display: block;width: 100%;margin-bottom: 0;padding: 0.3em;box-sizing: border-box;text-align: center;}#sk-container-id-1 label.sk-toggleable__label-arrow:before {content: \"▸\";float: left;margin-right: 0.25em;color: #696969;}#sk-container-id-1 label.sk-toggleable__label-arrow:hover:before {color: black;}#sk-container-id-1 div.sk-estimator:hover label.sk-toggleable__label-arrow:before {color: black;}#sk-container-id-1 div.sk-toggleable__content {max-height: 0;max-width: 0;overflow: hidden;text-align: left;background-color: #f0f8ff;}#sk-container-id-1 div.sk-toggleable__content pre {margin: 0.2em;color: black;border-radius: 0.25em;background-color: #f0f8ff;}#sk-container-id-1 input.sk-toggleable__control:checked~div.sk-toggleable__content {max-height: 200px;max-width: 100%;overflow: auto;}#sk-container-id-1 input.sk-toggleable__control:checked~label.sk-toggleable__label-arrow:before {content: \"▾\";}#sk-container-id-1 div.sk-estimator input.sk-toggleable__control:checked~label.sk-toggleable__label {background-color: #d4ebff;}#sk-container-id-1 div.sk-label input.sk-toggleable__control:checked~label.sk-toggleable__label {background-color: #d4ebff;}#sk-container-id-1 input.sk-hidden--visually {border: 0;clip: rect(1px 1px 1px 1px);clip: rect(1px, 1px, 1px, 1px);height: 1px;margin: -1px;overflow: hidden;padding: 0;position: absolute;width: 1px;}#sk-container-id-1 div.sk-estimator {font-family: monospace;background-color: #f0f8ff;border: 1px dotted black;border-radius: 0.25em;box-sizing: border-box;margin-bottom: 0.5em;}#sk-container-id-1 div.sk-estimator:hover {background-color: #d4ebff;}#sk-container-id-1 div.sk-parallel-item::after {content: \"\";width: 100%;border-bottom: 1px solid gray;flex-grow: 1;}#sk-container-id-1 div.sk-label:hover label.sk-toggleable__label {background-color: #d4ebff;}#sk-container-id-1 div.sk-serial::before {content: \"\";position: absolute;border-left: 1px solid gray;box-sizing: border-box;top: 0;bottom: 0;left: 50%;z-index: 0;}#sk-container-id-1 div.sk-serial {display: flex;flex-direction: column;align-items: center;background-color: white;padding-right: 0.2em;padding-left: 0.2em;position: relative;}#sk-container-id-1 div.sk-item {position: relative;z-index: 1;}#sk-container-id-1 div.sk-parallel {display: flex;align-items: stretch;justify-content: center;background-color: white;position: relative;}#sk-container-id-1 div.sk-item::before, #sk-container-id-1 div.sk-parallel-item::before {content: \"\";position: absolute;border-left: 1px solid gray;box-sizing: border-box;top: 0;bottom: 0;left: 50%;z-index: -1;}#sk-container-id-1 div.sk-parallel-item {display: flex;flex-direction: column;z-index: 1;position: relative;background-color: white;}#sk-container-id-1 div.sk-parallel-item:first-child::after {align-self: flex-end;width: 50%;}#sk-container-id-1 div.sk-parallel-item:last-child::after {align-self: flex-start;width: 50%;}#sk-container-id-1 div.sk-parallel-item:only-child::after {width: 0;}#sk-container-id-1 div.sk-dashed-wrapped {border: 1px dashed gray;margin: 0 0.4em 0.5em 0.4em;box-sizing: border-box;padding-bottom: 0.4em;background-color: white;}#sk-container-id-1 div.sk-label label {font-family: monospace;font-weight: bold;display: inline-block;line-height: 1.2em;}#sk-container-id-1 div.sk-label-container {text-align: center;}#sk-container-id-1 div.sk-container {/* jupyter's `normalize.less` sets `[hidden] { display: none; }` but bootstrap.min.css set `[hidden] { display: none !important; }` so we also need the `!important` here to be able to override the default hidden behavior on the sphinx rendered scikit-learn.org. See: https://github.com/scikit-learn/scikit-learn/issues/21755 */display: inline-block !important;position: relative;}#sk-container-id-1 div.sk-text-repr-fallback {display: none;}</style><div id=\"sk-container-id-1\" class=\"sk-top-container\"><div class=\"sk-text-repr-fallback\"><pre>Pipeline(steps=[(&#x27;standardscaler&#x27;, StandardScaler()),\n",
       "                (&#x27;catboostclassifier&#x27;,\n",
       "                 &lt;catboost.core.CatBoostClassifier object at 0x13d549c00&gt;)])</pre><b>In a Jupyter environment, please rerun this cell to show the HTML representation or trust the notebook. <br />On GitHub, the HTML representation is unable to render, please try loading this page with nbviewer.org.</b></div><div class=\"sk-container\" hidden><div class=\"sk-item sk-dashed-wrapped\"><div class=\"sk-label-container\"><div class=\"sk-label sk-toggleable\"><input class=\"sk-toggleable__control sk-hidden--visually\" id=\"sk-estimator-id-1\" type=\"checkbox\" ><label for=\"sk-estimator-id-1\" class=\"sk-toggleable__label sk-toggleable__label-arrow\">Pipeline</label><div class=\"sk-toggleable__content\"><pre>Pipeline(steps=[(&#x27;standardscaler&#x27;, StandardScaler()),\n",
       "                (&#x27;catboostclassifier&#x27;,\n",
       "                 &lt;catboost.core.CatBoostClassifier object at 0x13d549c00&gt;)])</pre></div></div></div><div class=\"sk-serial\"><div class=\"sk-item\"><div class=\"sk-estimator sk-toggleable\"><input class=\"sk-toggleable__control sk-hidden--visually\" id=\"sk-estimator-id-2\" type=\"checkbox\" ><label for=\"sk-estimator-id-2\" class=\"sk-toggleable__label sk-toggleable__label-arrow\">StandardScaler</label><div class=\"sk-toggleable__content\"><pre>StandardScaler()</pre></div></div></div><div class=\"sk-item\"><div class=\"sk-estimator sk-toggleable\"><input class=\"sk-toggleable__control sk-hidden--visually\" id=\"sk-estimator-id-3\" type=\"checkbox\" ><label for=\"sk-estimator-id-3\" class=\"sk-toggleable__label sk-toggleable__label-arrow\">CatBoostClassifier</label><div class=\"sk-toggleable__content\"><pre>&lt;catboost.core.CatBoostClassifier object at 0x13d549c00&gt;</pre></div></div></div></div></div></div></div>"
      ],
      "text/plain": [
       "Pipeline(steps=[('standardscaler', StandardScaler()),\n",
       "                ('catboostclassifier',\n",
       "                 <catboost.core.CatBoostClassifier object at 0x13d549c00>)])"
      ]
     },
     "execution_count": 18,
     "metadata": {},
     "output_type": "execute_result"
    }
   ],
   "source": [
    "pipe_catboost.fit(X_train, y_train)"
   ]
  },
  {
   "cell_type": "code",
   "execution_count": 19,
   "id": "49e611e6-63e8-40ab-9d74-e2719a44aed6",
   "metadata": {},
   "outputs": [
    {
     "data": {
      "text/plain": [
       "0.9462864344464238"
      ]
     },
     "execution_count": 19,
     "metadata": {},
     "output_type": "execute_result"
    }
   ],
   "source": [
    "# prediction accuracy on test data\n",
    "pipe_catboost.score(X_test, y_test)"
   ]
  },
  {
   "cell_type": "code",
   "execution_count": 20,
   "id": "fde1e59e-840e-49c4-8999-1a13eed1e0ac",
   "metadata": {},
   "outputs": [
    {
     "data": {
      "text/plain": [
       "0.634412349576662"
      ]
     },
     "execution_count": 20,
     "metadata": {},
     "output_type": "execute_result"
    }
   ],
   "source": [
    "# prediction recall on test data\n",
    "recall_score(y_test, pipe_catboost.predict(X_test))"
   ]
  },
  {
   "cell_type": "code",
   "execution_count": 21,
   "id": "f8aae399-d58d-4c19-ad78-7ad3625803d3",
   "metadata": {},
   "outputs": [],
   "source": [
    "# output predicted label vs given label (assuming as ground truth)\n",
    "y_pred = pipe_catboost.predict(X_test)\n",
    "\n",
    "pred_df = pd.DataFrame(y_pred, y_test).reset_index()\n",
    "pred_df.columns=['given_label','predited_label']"
   ]
  },
  {
   "cell_type": "code",
   "execution_count": 22,
   "id": "ca99dfdb-9986-4bf6-8350-9afa0c5be760",
   "metadata": {},
   "outputs": [
    {
     "data": {
      "text/html": [
       "<div>\n",
       "<style scoped>\n",
       "    .dataframe tbody tr th:only-of-type {\n",
       "        vertical-align: middle;\n",
       "    }\n",
       "\n",
       "    .dataframe tbody tr th {\n",
       "        vertical-align: top;\n",
       "    }\n",
       "\n",
       "    .dataframe thead th {\n",
       "        text-align: right;\n",
       "    }\n",
       "</style>\n",
       "<table border=\"1\" class=\"dataframe\">\n",
       "  <thead>\n",
       "    <tr style=\"text-align: right;\">\n",
       "      <th></th>\n",
       "      <th>given_label</th>\n",
       "      <th>predited_label</th>\n",
       "    </tr>\n",
       "  </thead>\n",
       "  <tbody>\n",
       "    <tr>\n",
       "      <th>0</th>\n",
       "      <td>0</td>\n",
       "      <td>0</td>\n",
       "    </tr>\n",
       "    <tr>\n",
       "      <th>1</th>\n",
       "      <td>1</td>\n",
       "      <td>1</td>\n",
       "    </tr>\n",
       "    <tr>\n",
       "      <th>2</th>\n",
       "      <td>1</td>\n",
       "      <td>1</td>\n",
       "    </tr>\n",
       "    <tr>\n",
       "      <th>3</th>\n",
       "      <td>0</td>\n",
       "      <td>0</td>\n",
       "    </tr>\n",
       "    <tr>\n",
       "      <th>4</th>\n",
       "      <td>0</td>\n",
       "      <td>0</td>\n",
       "    </tr>\n",
       "    <tr>\n",
       "      <th>...</th>\n",
       "      <td>...</td>\n",
       "      <td>...</td>\n",
       "    </tr>\n",
       "    <tr>\n",
       "      <th>422123</th>\n",
       "      <td>0</td>\n",
       "      <td>0</td>\n",
       "    </tr>\n",
       "    <tr>\n",
       "      <th>422124</th>\n",
       "      <td>0</td>\n",
       "      <td>0</td>\n",
       "    </tr>\n",
       "    <tr>\n",
       "      <th>422125</th>\n",
       "      <td>1</td>\n",
       "      <td>0</td>\n",
       "    </tr>\n",
       "    <tr>\n",
       "      <th>422126</th>\n",
       "      <td>1</td>\n",
       "      <td>1</td>\n",
       "    </tr>\n",
       "    <tr>\n",
       "      <th>422127</th>\n",
       "      <td>0</td>\n",
       "      <td>0</td>\n",
       "    </tr>\n",
       "  </tbody>\n",
       "</table>\n",
       "<p>422128 rows × 2 columns</p>\n",
       "</div>"
      ],
      "text/plain": [
       "        given_label  predited_label\n",
       "0                 0               0\n",
       "1                 1               1\n",
       "2                 1               1\n",
       "3                 0               0\n",
       "4                 0               0\n",
       "...             ...             ...\n",
       "422123            0               0\n",
       "422124            0               0\n",
       "422125            1               0\n",
       "422126            1               1\n",
       "422127            0               0\n",
       "\n",
       "[422128 rows x 2 columns]"
      ]
     },
     "execution_count": 22,
     "metadata": {},
     "output_type": "execute_result"
    }
   ],
   "source": [
    "pred_df"
   ]
  },
  {
   "cell_type": "markdown",
   "id": "29d9d9b4-5bfa-458d-8252-6c46fa82a1c4",
   "metadata": {},
   "source": [
    "**Manually calculate pion efficiency on test data:**"
   ]
  },
  {
   "cell_type": "code",
   "execution_count": 23,
   "id": "22d03e49-35d1-4179-9648-d7e7227cc39d",
   "metadata": {},
   "outputs": [
    {
     "data": {
      "text/plain": [
       "0.634412349576662"
      ]
     },
     "execution_count": 23,
     "metadata": {},
     "output_type": "execute_result"
    }
   ],
   "source": [
    "# total number of true pion\n",
    "num_pi_true = len(pred_df.query('given_label == 1'))\n",
    "# Ture Positive (correctly predicted as pion)\n",
    "num_pi_TP = len(pred_df.query('given_label == 1 & predited_label == 1'))\n",
    "\n",
    "# recall(True Positive Rate)/pion efficiency\n",
    "pi_efficiency = num_pi_TP/num_pi_true\n",
    "pi_efficiency"
   ]
  },
  {
   "cell_type": "markdown",
   "id": "4c770245-994e-44bb-9844-fce562e5f791",
   "metadata": {},
   "source": [
    "**Manually calculate muon efficiency on test data:**"
   ]
  },
  {
   "cell_type": "code",
   "execution_count": 24,
   "id": "baabe298-7900-459a-8257-b33c75ff99c4",
   "metadata": {},
   "outputs": [
    {
     "data": {
      "text/plain": [
       "0.012966420159154035"
      ]
     },
     "execution_count": 24,
     "metadata": {},
     "output_type": "execute_result"
    }
   ],
   "source": [
    "# total number of true muon\n",
    "num_mu_true = len(pred_df.query('given_label == 0'))\n",
    "# False Positive (incorrectly predicted as pion)\n",
    "num_mu_FP = len(pred_df.query('given_label == 0 & predited_label == 1'))\n",
    "\n",
    "# False Positive Rate/muon efficiency\n",
    "mu_efficiency = num_mu_FP/num_mu_true\n",
    "mu_efficiency"
   ]
  },
  {
   "cell_type": "markdown",
   "id": "e26fd27e-4f6a-4266-a9e4-34bd83f052b2",
   "metadata": {},
   "source": [
    "**show confusion matrix**"
   ]
  },
  {
   "cell_type": "code",
   "execution_count": 25,
   "id": "84c42cdc-e35b-4a96-a000-be40ed890f65",
   "metadata": {},
   "outputs": [
    {
     "name": "stdout",
     "output_type": "stream",
     "text": [
      "[[368508   4841]\n",
      " [ 17833  30946]]\n"
     ]
    },
    {
     "data": {
      "image/png": "[encoded data removed]",
      "text/plain": [
       "<Figure size 640x480 with 2 Axes>"
      ]
     },
     "metadata": {},
     "output_type": "display_data"
    }
   ],
   "source": [
    "from sklearn.metrics import confusion_matrix\n",
    "from sklearn.metrics import ConfusionMatrixDisplay\n",
    "\n",
    "cm = ConfusionMatrixDisplay.from_estimator(\n",
    "    pipe_catboost, X_test, y_test, values_format=\"d\", display_labels=[\"muon\", \"pion\"]\n",
    ")\n",
    "TN, FP, FN, TP = confusion_matrix(y_test, y_pred).ravel()\n",
    "print(cm.confusion_matrix)"
   ]
  },
  {
   "cell_type": "markdown",
   "id": "77456338-c763-4c98-8f46-e64e4b97e388",
   "metadata": {},
   "source": [
    "#### 2.5 ROC curves for three classifiers"
   ]
  },
  {
   "cell_type": "markdown",
   "id": "b9c7ad29-1edc-47dc-b1af-2663fd95f894",
   "metadata": {},
   "source": [
    "For a quick comparison purpose, the ROC curve will be plotted for three classifiers from the above selection. "
   ]
  },
  {
   "cell_type": "code",
   "execution_count": 26,
   "id": "caa4c53e-28e6-4005-bb89-ebe6e7dd8bfd",
   "metadata": {},
   "outputs": [],
   "source": [
    "from sklearn.metrics import roc_curve\n",
    "from sklearn.metrics import RocCurveDisplay"
   ]
  },
  {
   "cell_type": "code",
   "execution_count": 27,
   "id": "8094ba96-b8d5-4a53-91bd-cad93ac855d8",
   "metadata": {},
   "outputs": [
    {
     "data": {
      "text/html": [
       "<style>#sk-container-id-2 {color: black;background-color: white;}#sk-container-id-2 pre{padding: 0;}#sk-container-id-2 div.sk-toggleable {background-color: white;}#sk-container-id-2 label.sk-toggleable__label {cursor: pointer;display: block;width: 100%;margin-bottom: 0;padding: 0.3em;box-sizing: border-box;text-align: center;}#sk-container-id-2 label.sk-toggleable__label-arrow:before {content: \"▸\";float: left;margin-right: 0.25em;color: #696969;}#sk-container-id-2 label.sk-toggleable__label-arrow:hover:before {color: black;}#sk-container-id-2 div.sk-estimator:hover label.sk-toggleable__label-arrow:before {color: black;}#sk-container-id-2 div.sk-toggleable__content {max-height: 0;max-width: 0;overflow: hidden;text-align: left;background-color: #f0f8ff;}#sk-container-id-2 div.sk-toggleable__content pre {margin: 0.2em;color: black;border-radius: 0.25em;background-color: #f0f8ff;}#sk-container-id-2 input.sk-toggleable__control:checked~div.sk-toggleable__content {max-height: 200px;max-width: 100%;overflow: auto;}#sk-container-id-2 input.sk-toggleable__control:checked~label.sk-toggleable__label-arrow:before {content: \"▾\";}#sk-container-id-2 div.sk-estimator input.sk-toggleable__control:checked~label.sk-toggleable__label {background-color: #d4ebff;}#sk-container-id-2 div.sk-label input.sk-toggleable__control:checked~label.sk-toggleable__label {background-color: #d4ebff;}#sk-container-id-2 input.sk-hidden--visually {border: 0;clip: rect(1px 1px 1px 1px);clip: rect(1px, 1px, 1px, 1px);height: 1px;margin: -1px;overflow: hidden;padding: 0;position: absolute;width: 1px;}#sk-container-id-2 div.sk-estimator {font-family: monospace;background-color: #f0f8ff;border: 1px dotted black;border-radius: 0.25em;box-sizing: border-box;margin-bottom: 0.5em;}#sk-container-id-2 div.sk-estimator:hover {background-color: #d4ebff;}#sk-container-id-2 div.sk-parallel-item::after {content: \"\";width: 100%;border-bottom: 1px solid gray;flex-grow: 1;}#sk-container-id-2 div.sk-label:hover label.sk-toggleable__label {background-color: #d4ebff;}#sk-container-id-2 div.sk-serial::before {content: \"\";position: absolute;border-left: 1px solid gray;box-sizing: border-box;top: 0;bottom: 0;left: 50%;z-index: 0;}#sk-container-id-2 div.sk-serial {display: flex;flex-direction: column;align-items: center;background-color: white;padding-right: 0.2em;padding-left: 0.2em;position: relative;}#sk-container-id-2 div.sk-item {position: relative;z-index: 1;}#sk-container-id-2 div.sk-parallel {display: flex;align-items: stretch;justify-content: center;background-color: white;position: relative;}#sk-container-id-2 div.sk-item::before, #sk-container-id-2 div.sk-parallel-item::before {content: \"\";position: absolute;border-left: 1px solid gray;box-sizing: border-box;top: 0;bottom: 0;left: 50%;z-index: -1;}#sk-container-id-2 div.sk-parallel-item {display: flex;flex-direction: column;z-index: 1;position: relative;background-color: white;}#sk-container-id-2 div.sk-parallel-item:first-child::after {align-self: flex-end;width: 50%;}#sk-container-id-2 div.sk-parallel-item:last-child::after {align-self: flex-start;width: 50%;}#sk-container-id-2 div.sk-parallel-item:only-child::after {width: 0;}#sk-container-id-2 div.sk-dashed-wrapped {border: 1px dashed gray;margin: 0 0.4em 0.5em 0.4em;box-sizing: border-box;padding-bottom: 0.4em;background-color: white;}#sk-container-id-2 div.sk-label label {font-family: monospace;font-weight: bold;display: inline-block;line-height: 1.2em;}#sk-container-id-2 div.sk-label-container {text-align: center;}#sk-container-id-2 div.sk-container {/* jupyter's `normalize.less` sets `[hidden] { display: none; }` but bootstrap.min.css set `[hidden] { display: none !important; }` so we also need the `!important` here to be able to override the default hidden behavior on the sphinx rendered scikit-learn.org. See: https://github.com/scikit-learn/scikit-learn/issues/21755 */display: inline-block !important;position: relative;}#sk-container-id-2 div.sk-text-repr-fallback {display: none;}</style><div id=\"sk-container-id-2\" class=\"sk-top-container\"><div class=\"sk-text-repr-fallback\"><pre>Pipeline(steps=[(&#x27;standardscaler&#x27;, StandardScaler()),\n",
       "                (&#x27;logisticregression&#x27;,\n",
       "                 LogisticRegression(class_weight=&#x27;balanced&#x27;, max_iter=2000,\n",
       "                                    random_state=123))])</pre><b>In a Jupyter environment, please rerun this cell to show the HTML representation or trust the notebook. <br />On GitHub, the HTML representation is unable to render, please try loading this page with nbviewer.org.</b></div><div class=\"sk-container\" hidden><div class=\"sk-item sk-dashed-wrapped\"><div class=\"sk-label-container\"><div class=\"sk-label sk-toggleable\"><input class=\"sk-toggleable__control sk-hidden--visually\" id=\"sk-estimator-id-4\" type=\"checkbox\" ><label for=\"sk-estimator-id-4\" class=\"sk-toggleable__label sk-toggleable__label-arrow\">Pipeline</label><div class=\"sk-toggleable__content\"><pre>Pipeline(steps=[(&#x27;standardscaler&#x27;, StandardScaler()),\n",
       "                (&#x27;logisticregression&#x27;,\n",
       "                 LogisticRegression(class_weight=&#x27;balanced&#x27;, max_iter=2000,\n",
       "                                    random_state=123))])</pre></div></div></div><div class=\"sk-serial\"><div class=\"sk-item\"><div class=\"sk-estimator sk-toggleable\"><input class=\"sk-toggleable__control sk-hidden--visually\" id=\"sk-estimator-id-5\" type=\"checkbox\" ><label for=\"sk-estimator-id-5\" class=\"sk-toggleable__label sk-toggleable__label-arrow\">StandardScaler</label><div class=\"sk-toggleable__content\"><pre>StandardScaler()</pre></div></div></div><div class=\"sk-item\"><div class=\"sk-estimator sk-toggleable\"><input class=\"sk-toggleable__control sk-hidden--visually\" id=\"sk-estimator-id-6\" type=\"checkbox\" ><label for=\"sk-estimator-id-6\" class=\"sk-toggleable__label sk-toggleable__label-arrow\">LogisticRegression</label><div class=\"sk-toggleable__content\"><pre>LogisticRegression(class_weight=&#x27;balanced&#x27;, max_iter=2000, random_state=123)</pre></div></div></div></div></div></div></div>"
      ],
      "text/plain": [
       "Pipeline(steps=[('standardscaler', StandardScaler()),\n",
       "                ('logisticregression',\n",
       "                 LogisticRegression(class_weight='balanced', max_iter=2000,\n",
       "                                    random_state=123))])"
      ]
     },
     "execution_count": 27,
     "metadata": {},
     "output_type": "execute_result"
    }
   ],
   "source": [
    "# fit logisticregression on training data\n",
    "pipe_lr.fit(X_train, y_train)"
   ]
  },
  {
   "cell_type": "code",
   "execution_count": 28,
   "id": "1750fd28-86c7-4192-bf77-c188e816c434",
   "metadata": {},
   "outputs": [
    {
     "data": {
      "text/html": [
       "<style>#sk-container-id-3 {color: black;background-color: white;}#sk-container-id-3 pre{padding: 0;}#sk-container-id-3 div.sk-toggleable {background-color: white;}#sk-container-id-3 label.sk-toggleable__label {cursor: pointer;display: block;width: 100%;margin-bottom: 0;padding: 0.3em;box-sizing: border-box;text-align: center;}#sk-container-id-3 label.sk-toggleable__label-arrow:before {content: \"▸\";float: left;margin-right: 0.25em;color: #696969;}#sk-container-id-3 label.sk-toggleable__label-arrow:hover:before {color: black;}#sk-container-id-3 div.sk-estimator:hover label.sk-toggleable__label-arrow:before {color: black;}#sk-container-id-3 div.sk-toggleable__content {max-height: 0;max-width: 0;overflow: hidden;text-align: left;background-color: #f0f8ff;}#sk-container-id-3 div.sk-toggleable__content pre {margin: 0.2em;color: black;border-radius: 0.25em;background-color: #f0f8ff;}#sk-container-id-3 input.sk-toggleable__control:checked~div.sk-toggleable__content {max-height: 200px;max-width: 100%;overflow: auto;}#sk-container-id-3 input.sk-toggleable__control:checked~label.sk-toggleable__label-arrow:before {content: \"▾\";}#sk-container-id-3 div.sk-estimator input.sk-toggleable__control:checked~label.sk-toggleable__label {background-color: #d4ebff;}#sk-container-id-3 div.sk-label input.sk-toggleable__control:checked~label.sk-toggleable__label {background-color: #d4ebff;}#sk-container-id-3 input.sk-hidden--visually {border: 0;clip: rect(1px 1px 1px 1px);clip: rect(1px, 1px, 1px, 1px);height: 1px;margin: -1px;overflow: hidden;padding: 0;position: absolute;width: 1px;}#sk-container-id-3 div.sk-estimator {font-family: monospace;background-color: #f0f8ff;border: 1px dotted black;border-radius: 0.25em;box-sizing: border-box;margin-bottom: 0.5em;}#sk-container-id-3 div.sk-estimator:hover {background-color: #d4ebff;}#sk-container-id-3 div.sk-parallel-item::after {content: \"\";width: 100%;border-bottom: 1px solid gray;flex-grow: 1;}#sk-container-id-3 div.sk-label:hover label.sk-toggleable__label {background-color: #d4ebff;}#sk-container-id-3 div.sk-serial::before {content: \"\";position: absolute;border-left: 1px solid gray;box-sizing: border-box;top: 0;bottom: 0;left: 50%;z-index: 0;}#sk-container-id-3 div.sk-serial {display: flex;flex-direction: column;align-items: center;background-color: white;padding-right: 0.2em;padding-left: 0.2em;position: relative;}#sk-container-id-3 div.sk-item {position: relative;z-index: 1;}#sk-container-id-3 div.sk-parallel {display: flex;align-items: stretch;justify-content: center;background-color: white;position: relative;}#sk-container-id-3 div.sk-item::before, #sk-container-id-3 div.sk-parallel-item::before {content: \"\";position: absolute;border-left: 1px solid gray;box-sizing: border-box;top: 0;bottom: 0;left: 50%;z-index: -1;}#sk-container-id-3 div.sk-parallel-item {display: flex;flex-direction: column;z-index: 1;position: relative;background-color: white;}#sk-container-id-3 div.sk-parallel-item:first-child::after {align-self: flex-end;width: 50%;}#sk-container-id-3 div.sk-parallel-item:last-child::after {align-self: flex-start;width: 50%;}#sk-container-id-3 div.sk-parallel-item:only-child::after {width: 0;}#sk-container-id-3 div.sk-dashed-wrapped {border: 1px dashed gray;margin: 0 0.4em 0.5em 0.4em;box-sizing: border-box;padding-bottom: 0.4em;background-color: white;}#sk-container-id-3 div.sk-label label {font-family: monospace;font-weight: bold;display: inline-block;line-height: 1.2em;}#sk-container-id-3 div.sk-label-container {text-align: center;}#sk-container-id-3 div.sk-container {/* jupyter's `normalize.less` sets `[hidden] { display: none; }` but bootstrap.min.css set `[hidden] { display: none !important; }` so we also need the `!important` here to be able to override the default hidden behavior on the sphinx rendered scikit-learn.org. See: https://github.com/scikit-learn/scikit-learn/issues/21755 */display: inline-block !important;position: relative;}#sk-container-id-3 div.sk-text-repr-fallback {display: none;}</style><div id=\"sk-container-id-3\" class=\"sk-top-container\"><div class=\"sk-text-repr-fallback\"><pre>Pipeline(steps=[(&#x27;standardscaler&#x27;, StandardScaler()),\n",
       "                (&#x27;randomforestclassifier&#x27;,\n",
       "                 RandomForestClassifier(class_weight=&#x27;balanced&#x27;,\n",
       "                                        random_state=123))])</pre><b>In a Jupyter environment, please rerun this cell to show the HTML representation or trust the notebook. <br />On GitHub, the HTML representation is unable to render, please try loading this page with nbviewer.org.</b></div><div class=\"sk-container\" hidden><div class=\"sk-item sk-dashed-wrapped\"><div class=\"sk-label-container\"><div class=\"sk-label sk-toggleable\"><input class=\"sk-toggleable__control sk-hidden--visually\" id=\"sk-estimator-id-7\" type=\"checkbox\" ><label for=\"sk-estimator-id-7\" class=\"sk-toggleable__label sk-toggleable__label-arrow\">Pipeline</label><div class=\"sk-toggleable__content\"><pre>Pipeline(steps=[(&#x27;standardscaler&#x27;, StandardScaler()),\n",
       "                (&#x27;randomforestclassifier&#x27;,\n",
       "                 RandomForestClassifier(class_weight=&#x27;balanced&#x27;,\n",
       "                                        random_state=123))])</pre></div></div></div><div class=\"sk-serial\"><div class=\"sk-item\"><div class=\"sk-estimator sk-toggleable\"><input class=\"sk-toggleable__control sk-hidden--visually\" id=\"sk-estimator-id-8\" type=\"checkbox\" ><label for=\"sk-estimator-id-8\" class=\"sk-toggleable__label sk-toggleable__label-arrow\">StandardScaler</label><div class=\"sk-toggleable__content\"><pre>StandardScaler()</pre></div></div></div><div class=\"sk-item\"><div class=\"sk-estimator sk-toggleable\"><input class=\"sk-toggleable__control sk-hidden--visually\" id=\"sk-estimator-id-9\" type=\"checkbox\" ><label for=\"sk-estimator-id-9\" class=\"sk-toggleable__label sk-toggleable__label-arrow\">RandomForestClassifier</label><div class=\"sk-toggleable__content\"><pre>RandomForestClassifier(class_weight=&#x27;balanced&#x27;, random_state=123)</pre></div></div></div></div></div></div></div>"
      ],
      "text/plain": [
       "Pipeline(steps=[('standardscaler', StandardScaler()),\n",
       "                ('randomforestclassifier',\n",
       "                 RandomForestClassifier(class_weight='balanced',\n",
       "                                        random_state=123))])"
      ]
     },
     "execution_count": 28,
     "metadata": {},
     "output_type": "execute_result"
    }
   ],
   "source": [
    "# fit randomforestclassifier on training data\n",
    "pipe_rf.fit(X_train, y_train)"
   ]
  },
  {
   "cell_type": "code",
   "execution_count": 29,
   "id": "4fb888d5-4455-455e-b642-bb7c5967884d",
   "metadata": {},
   "outputs": [
    {
     "data": {
      "image/png": "[encoded data removed]",
      "text/plain": [
       "<Figure size 640x480 with 1 Axes>"
      ]
     },
     "metadata": {},
     "output_type": "display_data"
    }
   ],
   "source": [
    "# plot ROC curves for three classifiers\n",
    "fpr_lr, tpr_lr, thresholds_lr = roc_curve(y_test, pipe_lr.predict_proba(X_test)[:, 1])\n",
    "fpr_rf, tpr_rf, thresholds_rf = roc_curve(y_test, pipe_rf.predict_proba(X_test)[:, 1])\n",
    "fpr_cb, tpr_cb, thresholds_cb = roc_curve(y_test, pipe_catboost.predict_proba(X_test)[:, 1])\n",
    "\n",
    "plt.plot(fpr_cb, tpr_cb, label=\"catboost\")\n",
    "plt.plot(fpr_rf, tpr_rf, label=\"randomforest\")\n",
    "plt.plot(fpr_lr, tpr_lr, label=\"logistic regression\")\n",
    "\n",
    "plt.xlabel(\"False positive rate (Positive label: 1 for pion)\")\n",
    "plt.ylabel(\"True positive rate (Recall)\")\n",
    "plt.legend(loc=\"best\")\n",
    "plt.title(\"ROC Curves for pions from different classifiers\");"
   ]
  },
  {
   "cell_type": "markdown",
   "id": "2af86375-5ce2-4f5c-bf06-0539040bc167",
   "metadata": {},
   "source": [
    "### 3.0 Compare classification performance with momentum bins"
   ]
  },
  {
   "cell_type": "markdown",
   "id": "d7c15762-13e7-4281-8366-2b76a0debd43",
   "metadata": {},
   "source": [
    "Based on the previous researches, the ring radius between pion and muon is too close in higher momentum range to make the classification more difficult. Therefore, we are exploring the classifier's performance on different momentum range in this section. Below we will use CatBoostClassifier to make the comparison."
   ]
  },
  {
   "cell_type": "markdown",
   "id": "447c1003-50c3-4055-9521-746703783472",
   "metadata": {},
   "source": [
    "Considering the unbalance observations between pion and muons, we will have two training approaches, unbalanced (by default) and balanced model setting."
   ]
  },
  {
   "cell_type": "markdown",
   "id": "b210f5f1-14c4-4af9-976c-fb2ac1c08e17",
   "metadata": {},
   "source": [
    "#### 3.1 Unbalanced (by default) model"
   ]
  },
  {
   "cell_type": "code",
   "execution_count": 30,
   "id": "c68d1d7c-7125-4c6b-a184-0f9708da29cb",
   "metadata": {},
   "outputs": [],
   "source": [
    "pipe_catboost_unbalanced = make_pipeline(\n",
    "    preprocessor, CatBoostClassifier(verbose=0, random_state=123))"
   ]
  },
  {
   "cell_type": "markdown",
   "id": "3f47b642-debe-4420-99df-95250e6a5978",
   "metadata": {},
   "source": [
    "#### Train unbalanced model for each momentum bin"
   ]
  },
  {
   "cell_type": "code",
   "execution_count": 31,
   "id": "ba5074b9-0234-4ea2-88cd-f10d199a66e7",
   "metadata": {},
   "outputs": [
    {
     "name": "stdout",
     "output_type": "stream",
     "text": [
      "CPU times: user 28min 6s, sys: 49.2 s, total: 28min 55s\n",
      "Wall time: 4min 34s\n"
     ]
    }
   ],
   "source": [
    "%%time\n",
    "# train on global range for reference\n",
    "results_unb = {}\n",
    "\n",
    "X_train, y_train, X_test, y_test = train_test_split_range(df)\n",
    "results_unb['momentum_15_45'] = mean_std_cross_val_scores(\n",
    "    pipe_catboost_unbalanced, \n",
    "    X_train, \n",
    "    y_train, \n",
    "    return_train_score=True, \n",
    "    scoring=classification_metrics)\n",
    "\n",
    "pipe_catboost_unbalanced.fit(X_train, y_train)\n",
    "fpr_cb_15_45, tpr_cb_15_45, thresholds_cb_15_45 = roc_curve(y_test, \n",
    "                                                            pipe_catboost_unbalanced.predict_proba(X_test)[:, 1])"
   ]
  },
  {
   "cell_type": "code",
   "execution_count": 32,
   "id": "e8156b94-8332-47db-bcf2-2a1a19ed7c17",
   "metadata": {},
   "outputs": [
    {
     "name": "stdout",
     "output_type": "stream",
     "text": [
      "CPU times: user 2min 39s, sys: 32.6 s, total: 3min 12s\n",
      "Wall time: 38.1 s\n"
     ]
    }
   ],
   "source": [
    "%%time\n",
    "\n",
    "X_train, y_train, X_test, y_test = train_test_split_range(df_15_20)\n",
    "results_unb['momentum_15_20'] = mean_std_cross_val_scores(\n",
    "    pipe_catboost_unbalanced, \n",
    "    X_train, \n",
    "    y_train, \n",
    "    return_train_score=True, \n",
    "    scoring=classification_metrics)\n",
    "\n",
    "pipe_catboost_unbalanced.fit(X_train, y_train)\n",
    "fpr_cb_15_20, tpr_cb_15_20, thresholds_cb_15_20 = roc_curve(y_test, \n",
    "                                                            pipe_catboost_unbalanced.predict_proba(X_test)[:, 1])"
   ]
  },
  {
   "cell_type": "code",
   "execution_count": 33,
   "id": "4384d306-de39-4f61-a263-e44a38d39b1b",
   "metadata": {},
   "outputs": [],
   "source": [
    "X_train, y_train, X_test, y_test = train_test_split_range(df_20_25)\n",
    "results_unb['momentum_20_25'] = mean_std_cross_val_scores(\n",
    "    pipe_catboost_unbalanced, \n",
    "    X_train, \n",
    "    y_train, \n",
    "    return_train_score=True, \n",
    "    scoring=classification_metrics)\n",
    "\n",
    "pipe_catboost_unbalanced.fit(X_train, y_train)\n",
    "fpr_cb_20_25, tpr_cb_20_25, thresholds_cb_20_25 = roc_curve(y_test, \n",
    "                                                            pipe_catboost_unbalanced.predict_proba(X_test)[:, 1])"
   ]
  },
  {
   "cell_type": "code",
   "execution_count": 34,
   "id": "7c04b33c-a207-4006-969c-b432cafbbe78",
   "metadata": {},
   "outputs": [],
   "source": [
    "X_train, y_train, X_test, y_test = train_test_split_range(df_25_30)\n",
    "results_unb['momentum_25_30'] = mean_std_cross_val_scores(\n",
    "    pipe_catboost_unbalanced, \n",
    "    X_train, \n",
    "    y_train, \n",
    "    return_train_score=True, \n",
    "    scoring=classification_metrics)\n",
    "\n",
    "pipe_catboost_unbalanced.fit(X_train, y_train)\n",
    "fpr_cb_25_30, tpr_cb_25_30, thresholds_cb_25_30 = roc_curve(y_test, \n",
    "                                                            pipe_catboost_unbalanced.predict_proba(X_test)[:, 1])"
   ]
  },
  {
   "cell_type": "code",
   "execution_count": 35,
   "id": "041d8ea0-99ee-470a-b43a-5c216071bf4c",
   "metadata": {},
   "outputs": [],
   "source": [
    "X_train, y_train, X_test, y_test = train_test_split_range(df_30_35)\n",
    "results_unb['momentum_30_35'] = mean_std_cross_val_scores(\n",
    "    pipe_catboost_unbalanced, \n",
    "    X_train, \n",
    "    y_train, \n",
    "    return_train_score=True, \n",
    "    scoring=classification_metrics)\n",
    "\n",
    "pipe_catboost_unbalanced.fit(X_train, y_train)\n",
    "fpr_cb_30_35, tpr_cb_30_35, thresholds_cb_30_35 = roc_curve(y_test, \n",
    "                                                            pipe_catboost_unbalanced.predict_proba(X_test)[:, 1])"
   ]
  },
  {
   "cell_type": "code",
   "execution_count": 36,
   "id": "2133123b-0c18-42a4-9d98-2f5bfdb204e0",
   "metadata": {},
   "outputs": [],
   "source": [
    "X_train, y_train, X_test, y_test = train_test_split_range(df_35_40)\n",
    "results_unb['momentum_35_40'] = mean_std_cross_val_scores(\n",
    "    pipe_catboost_unbalanced, \n",
    "    X_train, \n",
    "    y_train, \n",
    "    return_train_score=True, \n",
    "    scoring=classification_metrics)\n",
    "\n",
    "pipe_catboost_unbalanced.fit(X_train, y_train)\n",
    "fpr_cb_35_40, tpr_cb_35_40, thresholds_cb_35_40 = roc_curve(y_test, \n",
    "                                                            pipe_catboost_unbalanced.predict_proba(X_test)[:, 1])"
   ]
  },
  {
   "cell_type": "code",
   "execution_count": 37,
   "id": "00963cfc-cf55-4b32-8696-92b309b3712c",
   "metadata": {},
   "outputs": [],
   "source": [
    "X_train, y_train, X_test, y_test = train_test_split_range(df_40_45)\n",
    "results_unb['momentum_40_45'] = mean_std_cross_val_scores(\n",
    "    pipe_catboost_unbalanced, \n",
    "    X_train, \n",
    "    y_train, \n",
    "    return_train_score=True, \n",
    "    scoring=classification_metrics)\n",
    "\n",
    "pipe_catboost_unbalanced.fit(X_train, y_train)\n",
    "fpr_cb_40_45, tpr_cb_40_45, thresholds_cb_40_45 = roc_curve(y_test, \n",
    "                                                            pipe_catboost_unbalanced.predict_proba(X_test)[:, 1])"
   ]
  },
  {
   "cell_type": "code",
   "execution_count": 42,
   "id": "e0a4afbf-a69b-4a80-82fa-9f4cb398bab8",
   "metadata": {},
   "outputs": [],
   "source": [
    "results_unb_df = pd.DataFrame(results_unb).T"
   ]
  },
  {
   "cell_type": "code",
   "execution_count": 43,
   "id": "f6851d2f-ba72-46df-a0e7-89f6f821620a",
   "metadata": {},
   "outputs": [
    {
     "data": {
      "text/html": [
       "<div>\n",
       "<style scoped>\n",
       "    .dataframe tbody tr th:only-of-type {\n",
       "        vertical-align: middle;\n",
       "    }\n",
       "\n",
       "    .dataframe tbody tr th {\n",
       "        vertical-align: top;\n",
       "    }\n",
       "\n",
       "    .dataframe thead th {\n",
       "        text-align: right;\n",
       "    }\n",
       "</style>\n",
       "<table border=\"1\" class=\"dataframe\">\n",
       "  <thead>\n",
       "    <tr style=\"text-align: right;\">\n",
       "      <th></th>\n",
       "      <th>momentum</th>\n",
       "      <th>fit_time</th>\n",
       "      <th>score_time</th>\n",
       "      <th>test_accuracy</th>\n",
       "      <th>train_accuracy</th>\n",
       "      <th>test_precision</th>\n",
       "      <th>train_precision</th>\n",
       "      <th>test_recall</th>\n",
       "      <th>train_recall</th>\n",
       "      <th>test_f1</th>\n",
       "      <th>train_f1</th>\n",
       "    </tr>\n",
       "  </thead>\n",
       "  <tbody>\n",
       "    <tr>\n",
       "      <th>0</th>\n",
       "      <td>momentum_15_45</td>\n",
       "      <td>42.654 (+/- 1.129)</td>\n",
       "      <td>0.237 (+/- 0.004)</td>\n",
       "      <td>0.946 (+/- 0.000)</td>\n",
       "      <td>0.950 (+/- 0.000)</td>\n",
       "      <td>0.862 (+/- 0.002)</td>\n",
       "      <td>0.885 (+/- 0.000)</td>\n",
       "      <td>0.629 (+/- 0.003)</td>\n",
       "      <td>0.650 (+/- 0.001)</td>\n",
       "      <td>0.727 (+/- 0.002)</td>\n",
       "      <td>0.749 (+/- 0.000)</td>\n",
       "    </tr>\n",
       "    <tr>\n",
       "      <th>1</th>\n",
       "      <td>momentum_15_20</td>\n",
       "      <td>6.101 (+/- 0.038)</td>\n",
       "      <td>0.020 (+/- 0.001)</td>\n",
       "      <td>0.984 (+/- 0.001)</td>\n",
       "      <td>0.995 (+/- 0.000)</td>\n",
       "      <td>0.955 (+/- 0.002)</td>\n",
       "      <td>0.992 (+/- 0.001)</td>\n",
       "      <td>0.892 (+/- 0.006)</td>\n",
       "      <td>0.960 (+/- 0.002)</td>\n",
       "      <td>0.923 (+/- 0.003)</td>\n",
       "      <td>0.976 (+/- 0.001)</td>\n",
       "    </tr>\n",
       "    <tr>\n",
       "      <th>2</th>\n",
       "      <td>momentum_20_25</td>\n",
       "      <td>8.308 (+/- 0.011)</td>\n",
       "      <td>0.033 (+/- 0.001)</td>\n",
       "      <td>0.974 (+/- 0.000)</td>\n",
       "      <td>0.985 (+/- 0.000)</td>\n",
       "      <td>0.941 (+/- 0.004)</td>\n",
       "      <td>0.975 (+/- 0.000)</td>\n",
       "      <td>0.860 (+/- 0.006)</td>\n",
       "      <td>0.912 (+/- 0.001)</td>\n",
       "      <td>0.898 (+/- 0.002)</td>\n",
       "      <td>0.943 (+/- 0.001)</td>\n",
       "    </tr>\n",
       "    <tr>\n",
       "      <th>3</th>\n",
       "      <td>momentum_25_30</td>\n",
       "      <td>11.164 (+/- 0.153)</td>\n",
       "      <td>0.050 (+/- 0.001)</td>\n",
       "      <td>0.960 (+/- 0.001)</td>\n",
       "      <td>0.971 (+/- 0.000)</td>\n",
       "      <td>0.897 (+/- 0.004)</td>\n",
       "      <td>0.938 (+/- 0.001)</td>\n",
       "      <td>0.783 (+/- 0.007)</td>\n",
       "      <td>0.832 (+/- 0.001)</td>\n",
       "      <td>0.836 (+/- 0.005)</td>\n",
       "      <td>0.882 (+/- 0.001)</td>\n",
       "    </tr>\n",
       "    <tr>\n",
       "      <th>4</th>\n",
       "      <td>momentum_30_35</td>\n",
       "      <td>12.579 (+/- 0.059)</td>\n",
       "      <td>0.059 (+/- 0.000)</td>\n",
       "      <td>0.942 (+/- 0.000)</td>\n",
       "      <td>0.953 (+/- 0.000)</td>\n",
       "      <td>0.833 (+/- 0.005)</td>\n",
       "      <td>0.889 (+/- 0.001)</td>\n",
       "      <td>0.646 (+/- 0.006)</td>\n",
       "      <td>0.700 (+/- 0.001)</td>\n",
       "      <td>0.728 (+/- 0.003)</td>\n",
       "      <td>0.783 (+/- 0.001)</td>\n",
       "    </tr>\n",
       "    <tr>\n",
       "      <th>5</th>\n",
       "      <td>momentum_35_40</td>\n",
       "      <td>12.046 (+/- 0.078)</td>\n",
       "      <td>0.053 (+/- 0.001)</td>\n",
       "      <td>0.925 (+/- 0.001)</td>\n",
       "      <td>0.937 (+/- 0.000)</td>\n",
       "      <td>0.760 (+/- 0.007)</td>\n",
       "      <td>0.845 (+/- 0.002)</td>\n",
       "      <td>0.439 (+/- 0.005)</td>\n",
       "      <td>0.506 (+/- 0.001)</td>\n",
       "      <td>0.557 (+/- 0.004)</td>\n",
       "      <td>0.633 (+/- 0.001)</td>\n",
       "    </tr>\n",
       "    <tr>\n",
       "      <th>6</th>\n",
       "      <td>momentum_40_45</td>\n",
       "      <td>10.622 (+/- 0.054)</td>\n",
       "      <td>0.044 (+/- 0.001)</td>\n",
       "      <td>0.920 (+/- 0.001)</td>\n",
       "      <td>0.933 (+/- 0.000)</td>\n",
       "      <td>0.699 (+/- 0.021)</td>\n",
       "      <td>0.849 (+/- 0.003)</td>\n",
       "      <td>0.252 (+/- 0.005)</td>\n",
       "      <td>0.335 (+/- 0.003)</td>\n",
       "      <td>0.370 (+/- 0.008)</td>\n",
       "      <td>0.480 (+/- 0.003)</td>\n",
       "    </tr>\n",
       "  </tbody>\n",
       "</table>\n",
       "</div>"
      ],
      "text/plain": [
       "         momentum            fit_time         score_time      test_accuracy  \\\n",
       "0  momentum_15_45  42.654 (+/- 1.129)  0.237 (+/- 0.004)  0.946 (+/- 0.000)   \n",
       "1  momentum_15_20   6.101 (+/- 0.038)  0.020 (+/- 0.001)  0.984 (+/- 0.001)   \n",
       "2  momentum_20_25   8.308 (+/- 0.011)  0.033 (+/- 0.001)  0.974 (+/- 0.000)   \n",
       "3  momentum_25_30  11.164 (+/- 0.153)  0.050 (+/- 0.001)  0.960 (+/- 0.001)   \n",
       "4  momentum_30_35  12.579 (+/- 0.059)  0.059 (+/- 0.000)  0.942 (+/- 0.000)   \n",
       "5  momentum_35_40  12.046 (+/- 0.078)  0.053 (+/- 0.001)  0.925 (+/- 0.001)   \n",
       "6  momentum_40_45  10.622 (+/- 0.054)  0.044 (+/- 0.001)  0.920 (+/- 0.001)   \n",
       "\n",
       "      train_accuracy     test_precision    train_precision        test_recall  \\\n",
       "0  0.950 (+/- 0.000)  0.862 (+/- 0.002)  0.885 (+/- 0.000)  0.629 (+/- 0.003)   \n",
       "1  0.995 (+/- 0.000)  0.955 (+/- 0.002)  0.992 (+/- 0.001)  0.892 (+/- 0.006)   \n",
       "2  0.985 (+/- 0.000)  0.941 (+/- 0.004)  0.975 (+/- 0.000)  0.860 (+/- 0.006)   \n",
       "3  0.971 (+/- 0.000)  0.897 (+/- 0.004)  0.938 (+/- 0.001)  0.783 (+/- 0.007)   \n",
       "4  0.953 (+/- 0.000)  0.833 (+/- 0.005)  0.889 (+/- 0.001)  0.646 (+/- 0.006)   \n",
       "5  0.937 (+/- 0.000)  0.760 (+/- 0.007)  0.845 (+/- 0.002)  0.439 (+/- 0.005)   \n",
       "6  0.933 (+/- 0.000)  0.699 (+/- 0.021)  0.849 (+/- 0.003)  0.252 (+/- 0.005)   \n",
       "\n",
       "        train_recall            test_f1           train_f1  \n",
       "0  0.650 (+/- 0.001)  0.727 (+/- 0.002)  0.749 (+/- 0.000)  \n",
       "1  0.960 (+/- 0.002)  0.923 (+/- 0.003)  0.976 (+/- 0.001)  \n",
       "2  0.912 (+/- 0.001)  0.898 (+/- 0.002)  0.943 (+/- 0.001)  \n",
       "3  0.832 (+/- 0.001)  0.836 (+/- 0.005)  0.882 (+/- 0.001)  \n",
       "4  0.700 (+/- 0.001)  0.728 (+/- 0.003)  0.783 (+/- 0.001)  \n",
       "5  0.506 (+/- 0.001)  0.557 (+/- 0.004)  0.633 (+/- 0.001)  \n",
       "6  0.335 (+/- 0.003)  0.370 (+/- 0.008)  0.480 (+/- 0.003)  "
      ]
     },
     "execution_count": 43,
     "metadata": {},
     "output_type": "execute_result"
    }
   ],
   "source": [
    "results_unb_df = results_unb_df.reset_index()\n",
    "results_unb_df.rename(columns = {'index':'momentum'}, inplace = True)\n",
    "results_unb_df"
   ]
  },
  {
   "cell_type": "code",
   "execution_count": 44,
   "id": "c10aa6e1-ee72-4235-b7df-5e44840386eb",
   "metadata": {},
   "outputs": [
    {
     "data": {
      "image/png": "[encoded data removed]",
      "text/plain": [
       "<Figure size 640x480 with 1 Axes>"
      ]
     },
     "metadata": {},
     "output_type": "display_data"
    }
   ],
   "source": [
    "plt.plot(fpr_cb_15_45, tpr_cb_15_45, label=\"momentum_15_45\")\n",
    "plt.plot(fpr_cb_15_20, tpr_cb_15_20, label=\"momentum_15_20\")\n",
    "plt.plot(fpr_cb_20_25, tpr_cb_20_25, label=\"momentum_20_25\")\n",
    "plt.plot(fpr_cb_25_30, tpr_cb_25_30, label=\"momentum_25_30\")\n",
    "plt.plot(fpr_cb_30_35, tpr_cb_30_35, label=\"momentum_30_35\")\n",
    "plt.plot(fpr_cb_35_40, tpr_cb_35_40, label=\"momentum_35_40\")\n",
    "plt.plot(fpr_cb_40_45, tpr_cb_40_45, label=\"momentum_40_45\")\n",
    "\n",
    "\n",
    "plt.xlabel(\"False positive rate (Positive label: 1 for pion)\")\n",
    "plt.ylabel(\"True positive rate (Recall)\")\n",
    "plt.legend(loc=\"best\")\n",
    "plt.title(\"ROC Curves for pions from different momentum bins\");"
   ]
  },
  {
   "cell_type": "markdown",
   "id": "0a72f432-de92-41f8-a303-016ebb0e285c",
   "metadata": {},
   "source": [
    "#### 3.2 Balanced model (to be updated)"
   ]
  },
  {
   "cell_type": "code",
   "execution_count": 45,
   "id": "a0219549-d0e0-4788-8012-25f441f4cfe5",
   "metadata": {},
   "outputs": [],
   "source": [
    "# set scale_pos_weight to deal with class imbalance\n",
    "# reference: https://www.kaggle.com/code/kaanboke/xgboost-lightgbm-catboost-imbalanced-data\n",
    "pipe_catboost_balanced = make_pipeline(\n",
    "    preprocessor, CatBoostClassifier(verbose=0, \n",
    "                                     random_state=123,\n",
    "                                     scale_pos_weight=7)) # scale_pos_weight should be updated per ratio of positive cases"
   ]
  },
  {
   "cell_type": "code",
   "execution_count": null,
   "id": "6d39ef94-13ee-4fc2-9f4c-b46d8fd6b53c",
   "metadata": {},
   "outputs": [],
   "source": []
  }
 ],
 "metadata": {
  "kernelspec": {
   "display_name": "Python [conda env:591]",
   "language": "python",
   "name": "conda-env-591-py"
  },
  "language_info": {
   "codemirror_mode": {
    "name": "ipython",
    "version": 3
   },
   "file_extension": ".py",
   "mimetype": "text/x-python",
   "name": "python",
   "nbconvert_exporter": "python",
   "pygments_lexer": "ipython3",
   "version": "3.10.8"
  }
 },
 "nbformat": 4,
 "nbformat_minor": 5
}
