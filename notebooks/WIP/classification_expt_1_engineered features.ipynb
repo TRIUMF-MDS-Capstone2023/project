{
 "cells": [
  {
   "cell_type": "markdown",
   "id": "5f89c5c0-3bf8-4340-984e-b8d35ab3f090",
   "metadata": {},
   "source": [
    "## Classification Experiment 1:  \n",
    "**Engineered features with uniform sampled data**"
   ]
  },
  {
   "cell_type": "markdown",
   "id": "b98df074-3b88-4a4d-a1ff-2bef2518559c",
   "metadata": {},
   "source": [
    "**UPDATE**: Use **relative** hit positions ONLY for feature engineering and modeling."
   ]
  },
  {
   "cell_type": "markdown",
   "id": "2f4423cf-dbdc-4725-9f48-1785e85299fd",
   "metadata": {},
   "source": [
    "This notebook is to preliminarily experiment on various classification models to distinguish pion and muon by using **engineered features** from the hit dataset and existing features (`momentum`) from the event dataset. These engineered features have been explored in the recent regression experiments to fit the ring_radius from a variable number of hits attached to each event. Considering the ring_radius is one of the key features to classify pion and muon, the hypothesis was we could expect a positive classification performance when adopting these engineered features.\n",
    "\n",
    "**IMPORTANT ASSUMPTIONS/CONDITIONS**:   \n",
    "(1) The `label` column from the event dataset has been taken as the ground truth for the classification task in the notebook. 1 for muon; 0 for pion.   \n",
    "\n",
    "(2) Data used for the classification task have been randomly sampled as the same number of examples(events) in each bin of track_momentum with bin size = 1 Gev;  \n",
    "Filter and keep the data within the momentum range 20 - 45 GeV;   \n",
    "Filter and keep hits with CHOD delta <= 0.5 (in-time hits only).   \n",
    "Note that in the current regression approach we only sampled muon events, but for the classification problem in this notebook we have both muon and pion.\n",
    "\n",
    "Any features produced from the SOTA (current NA62 algorithm) are not included in the classification task. "
   ]
  },
  {
   "cell_type": "code",
   "execution_count": 1,
   "id": "3c9bbe4d-339e-4242-ade7-35ecdfb78f1c",
   "metadata": {},
   "outputs": [],
   "source": [
    "import h5py \n",
    "import numpy as np \n",
    "import pandas as pd\n",
    "import os\n",
    "import seaborn as sns\n",
    "import matplotlib.pyplot as plt\n",
    "import sys\n",
    "import glob\n",
    "import warnings"
   ]
  },
  {
   "cell_type": "markdown",
   "id": "db064167-0d0e-4197-8287-21358f2c1378",
   "metadata": {},
   "source": [
    "### 1.0 Read hit data"
   ]
  },
  {
   "cell_type": "code",
   "execution_count": 2,
   "id": "edae58e1-2711-44b5-b2a5-a89af27d078a",
   "metadata": {},
   "outputs": [],
   "source": [
    "# read hit data with relative position from a local sampled dataset\n",
    "grouped_hit_data = pd.read_csv('../../../data_0/grouped_hit_data_relative.csv')"
   ]
  },
  {
   "cell_type": "code",
   "execution_count": 3,
   "id": "8fceee5b-4929-469b-a268-85831f9dd59e",
   "metadata": {},
   "outputs": [
    {
     "name": "stdout",
     "output_type": "stream",
     "text": [
      "<class 'pandas.core.frame.DataFrame'>\n",
      "RangeIndex: 900602 entries, 0 to 900601\n",
      "Data columns (total 26 columns):\n",
      " #   Column              Non-Null Count   Dtype  \n",
      "---  ------              --------------   -----  \n",
      " 0   Unnamed: 0          900602 non-null  int64  \n",
      " 1   event               900602 non-null  int64  \n",
      " 2   x_realigned_min     900602 non-null  float64\n",
      " 3   x_realigned_max     900602 non-null  float64\n",
      " 4   x_realigned_median  900602 non-null  float64\n",
      " 5   y_realigned_min     900602 non-null  float64\n",
      " 6   y_realigned_max     900602 non-null  float64\n",
      " 7   y_realigned_median  900602 non-null  float64\n",
      " 8   min_hit_radius      900602 non-null  float64\n",
      " 9   max_hit_radius      900602 non-null  float64\n",
      " 10  mean_hit_radius     900602 non-null  float64\n",
      " 11  median_hit_radius   900602 non-null  float64\n",
      " 12  rms_hit_radius      900602 non-null  float64\n",
      " 13  momentum            900602 non-null  float64\n",
      " 14  label               900602 non-null  int64  \n",
      " 15  x_min_sum           900602 non-null  float64\n",
      " 16  y_min_sum           900602 non-null  float64\n",
      " 17  x_max_sum           900602 non-null  float64\n",
      " 18  y_max_sum           900602 non-null  float64\n",
      " 19  x_min_diff          900602 non-null  float64\n",
      " 20  y_min_diff          900602 non-null  float64\n",
      " 21  x_max_diff          900602 non-null  float64\n",
      " 22  y_max_diff          900602 non-null  float64\n",
      " 23  max_x-min_x         900602 non-null  float64\n",
      " 24  max_y-min_y         900602 non-null  float64\n",
      " 25  num_hits            900602 non-null  int64  \n",
      "dtypes: float64(22), int64(4)\n",
      "memory usage: 178.6 MB\n"
     ]
    }
   ],
   "source": [
    "# convert label to int datatype\n",
    "grouped_hit_data['label'] = grouped_hit_data['label'].astype('int')\n",
    "grouped_hit_data.info()"
   ]
  },
  {
   "cell_type": "markdown",
   "id": "22f1eba4-5fc3-4f39-bf87-9438495b978a",
   "metadata": {},
   "source": [
    "### 2.0 Perform model training"
   ]
  },
  {
   "cell_type": "code",
   "execution_count": 4,
   "id": "de50678f-f7cc-402c-9118-891046459350",
   "metadata": {},
   "outputs": [],
   "source": [
    "# import ML models and tools\n",
    "from sklearn.model_selection import (\n",
    "    GridSearchCV,\n",
    "    cross_val_score,\n",
    "    cross_validate,\n",
    "    train_test_split,\n",
    ")\n",
    "from sklearn.pipeline import Pipeline, make_pipeline\n",
    "from sklearn.preprocessing import StandardScaler\n",
    "from sklearn.dummy import DummyClassifier\n",
    "from sklearn.linear_model import LogisticRegression\n",
    "from sklearn.tree import DecisionTreeClassifier\n",
    "from sklearn.ensemble import RandomForestClassifier\n",
    "from catboost import CatBoostClassifier\n",
    "from lightgbm.sklearn import LGBMClassifier\n",
    "from xgboost import XGBClassifier\n",
    "from sklearn.ensemble import GradientBoostingClassifier, HistGradientBoostingClassifier\n",
    "from sklearn.metrics import accuracy_score, f1_score, precision_score, recall_score\n",
    "from helpers import mean_std_cross_val_scores"
   ]
  },
  {
   "cell_type": "markdown",
   "id": "17531399-5ebe-4fc4-85bd-c0bcc04485e6",
   "metadata": {},
   "source": [
    "#### 2.1 Prepare train/test df"
   ]
  },
  {
   "cell_type": "code",
   "execution_count": 5,
   "id": "9afd3f2b-b4bf-4e4e-88eb-d8cc9f2f9644",
   "metadata": {},
   "outputs": [],
   "source": [
    "# split to train and test dataframe\n",
    "train_df, test_df = train_test_split(grouped_hit_data,\n",
    "                                     test_size=0.25,\n",
    "                                     random_state=42,\n",
    "                                     shuffle=True\n",
    "                                    )"
   ]
  },
  {
   "cell_type": "code",
   "execution_count": 6,
   "id": "3898d381-88dc-467f-957c-af973446d9ea",
   "metadata": {},
   "outputs": [
    {
     "data": {
      "text/plain": [
       "0    597044\n",
       "1     78407\n",
       "Name: label, dtype: int64"
      ]
     },
     "execution_count": 6,
     "metadata": {},
     "output_type": "execute_result"
    }
   ],
   "source": [
    "# check numbers of muon and pion in training df (0 for muon; 1 for pion)\n",
    "train_df['label'].value_counts()"
   ]
  },
  {
   "cell_type": "code",
   "execution_count": 7,
   "id": "20b4d362-64b3-4815-8241-60973894c356",
   "metadata": {},
   "outputs": [
    {
     "data": {
      "text/plain": [
       "0    198648\n",
       "1     26503\n",
       "Name: label, dtype: int64"
      ]
     },
     "execution_count": 7,
     "metadata": {},
     "output_type": "execute_result"
    }
   ],
   "source": [
    "# check numbers of muon and pion in testing df\n",
    "test_df['label'].value_counts()"
   ]
  },
  {
   "cell_type": "code",
   "execution_count": 8,
   "id": "ca8ff658-36b9-4902-aa6d-40c20e6bd813",
   "metadata": {},
   "outputs": [],
   "source": [
    "# generate X and y for training and test df\n",
    "X_train, y_train = train_df.drop(columns=[\"Unnamed: 0\",\n",
    "                                          \"event\",\n",
    "                                          \"label\"]), train_df[\"label\"]\n",
    "X_test, y_test = test_df.drop(columns=[\"Unnamed: 0\",\n",
    "                                       \"event\", \n",
    "                                       \"label\"]), test_df[\"label\"]"
   ]
  },
  {
   "cell_type": "code",
   "execution_count": 9,
   "id": "240b382d-71b8-46a2-9b8d-e07138b019b8",
   "metadata": {},
   "outputs": [
    {
     "name": "stdout",
     "output_type": "stream",
     "text": [
      "<class 'pandas.core.frame.DataFrame'>\n",
      "Int64Index: 675451 entries, 137745 to 121958\n",
      "Data columns (total 23 columns):\n",
      " #   Column              Non-Null Count   Dtype  \n",
      "---  ------              --------------   -----  \n",
      " 0   x_realigned_min     675451 non-null  float64\n",
      " 1   x_realigned_max     675451 non-null  float64\n",
      " 2   x_realigned_median  675451 non-null  float64\n",
      " 3   y_realigned_min     675451 non-null  float64\n",
      " 4   y_realigned_max     675451 non-null  float64\n",
      " 5   y_realigned_median  675451 non-null  float64\n",
      " 6   min_hit_radius      675451 non-null  float64\n",
      " 7   max_hit_radius      675451 non-null  float64\n",
      " 8   mean_hit_radius     675451 non-null  float64\n",
      " 9   median_hit_radius   675451 non-null  float64\n",
      " 10  rms_hit_radius      675451 non-null  float64\n",
      " 11  momentum            675451 non-null  float64\n",
      " 12  x_min_sum           675451 non-null  float64\n",
      " 13  y_min_sum           675451 non-null  float64\n",
      " 14  x_max_sum           675451 non-null  float64\n",
      " 15  y_max_sum           675451 non-null  float64\n",
      " 16  x_min_diff          675451 non-null  float64\n",
      " 17  y_min_diff          675451 non-null  float64\n",
      " 18  x_max_diff          675451 non-null  float64\n",
      " 19  y_max_diff          675451 non-null  float64\n",
      " 20  max_x-min_x         675451 non-null  float64\n",
      " 21  max_y-min_y         675451 non-null  float64\n",
      " 22  num_hits            675451 non-null  int64  \n",
      "dtypes: float64(22), int64(1)\n",
      "memory usage: 123.7 MB\n"
     ]
    }
   ],
   "source": [
    "X_train.info()"
   ]
  },
  {
   "cell_type": "markdown",
   "id": "2bff6d92-4a9e-4a79-89b4-c5e3ee118f57",
   "metadata": {},
   "source": [
    "#### 2.2 Define pipelines and metrics"
   ]
  },
  {
   "cell_type": "code",
   "execution_count": 10,
   "id": "f9ebdc3c-a3b6-49b0-80cb-aa5acf4d3fb8",
   "metadata": {},
   "outputs": [],
   "source": [
    "classification_metrics = [\"accuracy\", \"precision\", \"recall\", \"f1\"]"
   ]
  },
  {
   "cell_type": "code",
   "execution_count": 11,
   "id": "0f34c151-5eca-4244-bb3a-1f0bfbc1df45",
   "metadata": {},
   "outputs": [],
   "source": [
    "# define pipelines\n",
    "\n",
    "preprocessor = StandardScaler()\n",
    "\n",
    "pipe_dummy = make_pipeline(\n",
    "    preprocessor, DummyClassifier())\n",
    "\n",
    "pipe_lr = make_pipeline(\n",
    "    preprocessor, LogisticRegression(max_iter=2000, \n",
    "                                     random_state=123,\n",
    "                                     class_weight=\"balanced\"))\n",
    "\n",
    "pipe_dt = make_pipeline(preprocessor, DecisionTreeClassifier(random_state=123,\n",
    "                                                             class_weight=\"balanced\"))\n",
    "\n",
    "pipe_rf = make_pipeline(\n",
    "    preprocessor, RandomForestClassifier(random_state=123, class_weight=\"balanced\"))\n",
    "\n",
    "pipe_xgb = make_pipeline(\n",
    "    preprocessor, XGBClassifier(random_state=123, verbosity=0))\n",
    "\n",
    "pipe_lgbm = make_pipeline(\n",
    "    preprocessor, LGBMClassifier(random_state=123))\n",
    "\n",
    "pipe_catboost = make_pipeline(\n",
    "    preprocessor, CatBoostClassifier(verbose=0, random_state=123))\n",
    "\n",
    "pipe_sklearn_histGB = make_pipeline(\n",
    "    preprocessor, HistGradientBoostingClassifier(random_state=123))\n",
    "\n",
    "pipe_sklearn_GB = make_pipeline(\n",
    "    preprocessor, GradientBoostingClassifier(random_state=123))\n",
    "\n",
    "classifiers = {\n",
    "    \"dummy classifier\": pipe_dummy,\n",
    "    \"logistic regression\": pipe_lr,\n",
    "    \"decision tree\": pipe_dt,\n",
    "    \"random forest\": pipe_rf,\n",
    "    \"XGBoost\": pipe_xgb,\n",
    "    \"LightGBM\": pipe_lgbm,\n",
    "    \"CatBoost\": pipe_catboost,\n",
    "    \"sklearn_histGB\": pipe_sklearn_histGB,\n",
    "    \"sklearn_GB\": pipe_sklearn_GB,\n",
    "}"
   ]
  },
  {
   "cell_type": "code",
   "execution_count": 12,
   "id": "5a2303c2-433f-45c9-b6e2-6201e861e70c",
   "metadata": {},
   "outputs": [],
   "source": [
    "warnings.simplefilter(action=\"ignore\", category=DeprecationWarning)\n",
    "warnings.simplefilter(action=\"ignore\", category=UserWarning)"
   ]
  },
  {
   "cell_type": "markdown",
   "id": "4c8c3b6e-7ad2-4411-8ba4-a9ef7c1f8fd7",
   "metadata": {},
   "source": [
    "#### 2.3 Train models and obtain cross validation results"
   ]
  },
  {
   "cell_type": "code",
   "execution_count": 13,
   "id": "64f578d3-dbff-4691-b2b1-31e9feef98f6",
   "metadata": {},
   "outputs": [
    {
     "name": "stdout",
     "output_type": "stream",
     "text": [
      "CPU times: user 1h 19min 24s, sys: 1min 16s, total: 1h 20min 40s\n",
      "Wall time: 55min 6s\n"
     ]
    }
   ],
   "source": [
    "%%time\n",
    "results = {}\n",
    "\n",
    "for (name, model) in classifiers.items():\n",
    "    results[name] = mean_std_cross_val_scores(\n",
    "        model, X_train, y_train, return_train_score=True, scoring=classification_metrics\n",
    "    )"
   ]
  },
  {
   "cell_type": "code",
   "execution_count": 14,
   "id": "5eb47fab-7fba-44e6-82df-0f90a3618370",
   "metadata": {},
   "outputs": [
    {
     "data": {
      "text/html": [
       "<div>\n",
       "<style scoped>\n",
       "    .dataframe tbody tr th:only-of-type {\n",
       "        vertical-align: middle;\n",
       "    }\n",
       "\n",
       "    .dataframe tbody tr th {\n",
       "        vertical-align: top;\n",
       "    }\n",
       "\n",
       "    .dataframe thead th {\n",
       "        text-align: right;\n",
       "    }\n",
       "</style>\n",
       "<table border=\"1\" class=\"dataframe\">\n",
       "  <thead>\n",
       "    <tr style=\"text-align: right;\">\n",
       "      <th></th>\n",
       "      <th>fit_time</th>\n",
       "      <th>score_time</th>\n",
       "      <th>test_accuracy</th>\n",
       "      <th>train_accuracy</th>\n",
       "      <th>test_precision</th>\n",
       "      <th>train_precision</th>\n",
       "      <th>test_recall</th>\n",
       "      <th>train_recall</th>\n",
       "      <th>test_f1</th>\n",
       "      <th>train_f1</th>\n",
       "    </tr>\n",
       "  </thead>\n",
       "  <tbody>\n",
       "    <tr>\n",
       "      <th>dummy classifier</th>\n",
       "      <td>0.095 (+/- 0.017)</td>\n",
       "      <td>0.066 (+/- 0.003)</td>\n",
       "      <td>0.884 (+/- 0.000)</td>\n",
       "      <td>0.884 (+/- 0.000)</td>\n",
       "      <td>0.000 (+/- 0.000)</td>\n",
       "      <td>0.000 (+/- 0.000)</td>\n",
       "      <td>0.000 (+/- 0.000)</td>\n",
       "      <td>0.000 (+/- 0.000)</td>\n",
       "      <td>0.000 (+/- 0.000)</td>\n",
       "      <td>0.000 (+/- 0.000)</td>\n",
       "    </tr>\n",
       "    <tr>\n",
       "      <th>logistic regression</th>\n",
       "      <td>1.020 (+/- 0.076)</td>\n",
       "      <td>0.084 (+/- 0.006)</td>\n",
       "      <td>0.653 (+/- 0.001)</td>\n",
       "      <td>0.653 (+/- 0.000)</td>\n",
       "      <td>0.188 (+/- 0.001)</td>\n",
       "      <td>0.188 (+/- 0.000)</td>\n",
       "      <td>0.599 (+/- 0.004)</td>\n",
       "      <td>0.599 (+/- 0.001)</td>\n",
       "      <td>0.286 (+/- 0.001)</td>\n",
       "      <td>0.286 (+/- 0.000)</td>\n",
       "    </tr>\n",
       "    <tr>\n",
       "      <th>decision tree</th>\n",
       "      <td>19.963 (+/- 0.210)</td>\n",
       "      <td>0.101 (+/- 0.004)</td>\n",
       "      <td>0.877 (+/- 0.001)</td>\n",
       "      <td>1.000 (+/- 0.000)</td>\n",
       "      <td>0.471 (+/- 0.005)</td>\n",
       "      <td>1.000 (+/- 0.000)</td>\n",
       "      <td>0.454 (+/- 0.005)</td>\n",
       "      <td>1.000 (+/- 0.000)</td>\n",
       "      <td>0.463 (+/- 0.005)</td>\n",
       "      <td>1.000 (+/- 0.000)</td>\n",
       "    </tr>\n",
       "    <tr>\n",
       "      <th>random forest</th>\n",
       "      <td>222.344 (+/- 5.320)</td>\n",
       "      <td>2.283 (+/- 0.051)</td>\n",
       "      <td>0.916 (+/- 0.000)</td>\n",
       "      <td>1.000 (+/- 0.000)</td>\n",
       "      <td>0.910 (+/- 0.005)</td>\n",
       "      <td>1.000 (+/- 0.000)</td>\n",
       "      <td>0.305 (+/- 0.004)</td>\n",
       "      <td>1.000 (+/- 0.000)</td>\n",
       "      <td>0.457 (+/- 0.005)</td>\n",
       "      <td>1.000 (+/- 0.000)</td>\n",
       "    </tr>\n",
       "    <tr>\n",
       "      <th>XGBoost</th>\n",
       "      <td>27.878 (+/- 1.132)</td>\n",
       "      <td>0.122 (+/- 0.004)</td>\n",
       "      <td>0.942 (+/- 0.001)</td>\n",
       "      <td>0.949 (+/- 0.000)</td>\n",
       "      <td>0.878 (+/- 0.003)</td>\n",
       "      <td>0.911 (+/- 0.001)</td>\n",
       "      <td>0.582 (+/- 0.003)</td>\n",
       "      <td>0.624 (+/- 0.003)</td>\n",
       "      <td>0.700 (+/- 0.003)</td>\n",
       "      <td>0.740 (+/- 0.002)</td>\n",
       "    </tr>\n",
       "    <tr>\n",
       "      <th>LightGBM</th>\n",
       "      <td>1.501 (+/- 0.008)</td>\n",
       "      <td>0.250 (+/- 0.023)</td>\n",
       "      <td>0.929 (+/- 0.000)</td>\n",
       "      <td>0.931 (+/- 0.000)</td>\n",
       "      <td>0.886 (+/- 0.003)</td>\n",
       "      <td>0.895 (+/- 0.001)</td>\n",
       "      <td>0.444 (+/- 0.005)</td>\n",
       "      <td>0.455 (+/- 0.002)</td>\n",
       "      <td>0.592 (+/- 0.005)</td>\n",
       "      <td>0.603 (+/- 0.001)</td>\n",
       "    </tr>\n",
       "    <tr>\n",
       "      <th>CatBoost</th>\n",
       "      <td>25.720 (+/- 0.146)</td>\n",
       "      <td>0.142 (+/- 0.003)</td>\n",
       "      <td>0.949 (+/- 0.000)</td>\n",
       "      <td>0.956 (+/- 0.000)</td>\n",
       "      <td>0.893 (+/- 0.003)</td>\n",
       "      <td>0.920 (+/- 0.000)</td>\n",
       "      <td>0.642 (+/- 0.002)</td>\n",
       "      <td>0.676 (+/- 0.000)</td>\n",
       "      <td>0.747 (+/- 0.002)</td>\n",
       "      <td>0.779 (+/- 0.000)</td>\n",
       "    </tr>\n",
       "    <tr>\n",
       "      <th>sklearn_histGB</th>\n",
       "      <td>3.689 (+/- 0.055)</td>\n",
       "      <td>0.215 (+/- 0.012)</td>\n",
       "      <td>0.929 (+/- 0.000)</td>\n",
       "      <td>0.931 (+/- 0.000)</td>\n",
       "      <td>0.886 (+/- 0.006)</td>\n",
       "      <td>0.894 (+/- 0.001)</td>\n",
       "      <td>0.445 (+/- 0.003)</td>\n",
       "      <td>0.455 (+/- 0.002)</td>\n",
       "      <td>0.593 (+/- 0.003)</td>\n",
       "      <td>0.603 (+/- 0.002)</td>\n",
       "    </tr>\n",
       "    <tr>\n",
       "      <th>sklearn_GB</th>\n",
       "      <td>341.921 (+/- 0.988)</td>\n",
       "      <td>0.222 (+/- 0.004)</td>\n",
       "      <td>0.897 (+/- 0.001)</td>\n",
       "      <td>0.898 (+/- 0.001)</td>\n",
       "      <td>0.840 (+/- 0.007)</td>\n",
       "      <td>0.847 (+/- 0.006)</td>\n",
       "      <td>0.144 (+/- 0.006)</td>\n",
       "      <td>0.146 (+/- 0.006)</td>\n",
       "      <td>0.246 (+/- 0.008)</td>\n",
       "      <td>0.249 (+/- 0.009)</td>\n",
       "    </tr>\n",
       "  </tbody>\n",
       "</table>\n",
       "</div>"
      ],
      "text/plain": [
       "                                fit_time         score_time  \\\n",
       "dummy classifier       0.095 (+/- 0.017)  0.066 (+/- 0.003)   \n",
       "logistic regression    1.020 (+/- 0.076)  0.084 (+/- 0.006)   \n",
       "decision tree         19.963 (+/- 0.210)  0.101 (+/- 0.004)   \n",
       "random forest        222.344 (+/- 5.320)  2.283 (+/- 0.051)   \n",
       "XGBoost               27.878 (+/- 1.132)  0.122 (+/- 0.004)   \n",
       "LightGBM               1.501 (+/- 0.008)  0.250 (+/- 0.023)   \n",
       "CatBoost              25.720 (+/- 0.146)  0.142 (+/- 0.003)   \n",
       "sklearn_histGB         3.689 (+/- 0.055)  0.215 (+/- 0.012)   \n",
       "sklearn_GB           341.921 (+/- 0.988)  0.222 (+/- 0.004)   \n",
       "\n",
       "                         test_accuracy     train_accuracy     test_precision  \\\n",
       "dummy classifier     0.884 (+/- 0.000)  0.884 (+/- 0.000)  0.000 (+/- 0.000)   \n",
       "logistic regression  0.653 (+/- 0.001)  0.653 (+/- 0.000)  0.188 (+/- 0.001)   \n",
       "decision tree        0.877 (+/- 0.001)  1.000 (+/- 0.000)  0.471 (+/- 0.005)   \n",
       "random forest        0.916 (+/- 0.000)  1.000 (+/- 0.000)  0.910 (+/- 0.005)   \n",
       "XGBoost              0.942 (+/- 0.001)  0.949 (+/- 0.000)  0.878 (+/- 0.003)   \n",
       "LightGBM             0.929 (+/- 0.000)  0.931 (+/- 0.000)  0.886 (+/- 0.003)   \n",
       "CatBoost             0.949 (+/- 0.000)  0.956 (+/- 0.000)  0.893 (+/- 0.003)   \n",
       "sklearn_histGB       0.929 (+/- 0.000)  0.931 (+/- 0.000)  0.886 (+/- 0.006)   \n",
       "sklearn_GB           0.897 (+/- 0.001)  0.898 (+/- 0.001)  0.840 (+/- 0.007)   \n",
       "\n",
       "                       train_precision        test_recall       train_recall  \\\n",
       "dummy classifier     0.000 (+/- 0.000)  0.000 (+/- 0.000)  0.000 (+/- 0.000)   \n",
       "logistic regression  0.188 (+/- 0.000)  0.599 (+/- 0.004)  0.599 (+/- 0.001)   \n",
       "decision tree        1.000 (+/- 0.000)  0.454 (+/- 0.005)  1.000 (+/- 0.000)   \n",
       "random forest        1.000 (+/- 0.000)  0.305 (+/- 0.004)  1.000 (+/- 0.000)   \n",
       "XGBoost              0.911 (+/- 0.001)  0.582 (+/- 0.003)  0.624 (+/- 0.003)   \n",
       "LightGBM             0.895 (+/- 0.001)  0.444 (+/- 0.005)  0.455 (+/- 0.002)   \n",
       "CatBoost             0.920 (+/- 0.000)  0.642 (+/- 0.002)  0.676 (+/- 0.000)   \n",
       "sklearn_histGB       0.894 (+/- 0.001)  0.445 (+/- 0.003)  0.455 (+/- 0.002)   \n",
       "sklearn_GB           0.847 (+/- 0.006)  0.144 (+/- 0.006)  0.146 (+/- 0.006)   \n",
       "\n",
       "                               test_f1           train_f1  \n",
       "dummy classifier     0.000 (+/- 0.000)  0.000 (+/- 0.000)  \n",
       "logistic regression  0.286 (+/- 0.001)  0.286 (+/- 0.000)  \n",
       "decision tree        0.463 (+/- 0.005)  1.000 (+/- 0.000)  \n",
       "random forest        0.457 (+/- 0.005)  1.000 (+/- 0.000)  \n",
       "XGBoost              0.700 (+/- 0.003)  0.740 (+/- 0.002)  \n",
       "LightGBM             0.592 (+/- 0.005)  0.603 (+/- 0.001)  \n",
       "CatBoost             0.747 (+/- 0.002)  0.779 (+/- 0.000)  \n",
       "sklearn_histGB       0.593 (+/- 0.003)  0.603 (+/- 0.002)  \n",
       "sklearn_GB           0.246 (+/- 0.008)  0.249 (+/- 0.009)  "
      ]
     },
     "execution_count": 14,
     "metadata": {},
     "output_type": "execute_result"
    }
   ],
   "source": [
    "pd.DataFrame(results).T"
   ]
  },
  {
   "cell_type": "markdown",
   "id": "c5321b1c-2ee3-4c80-aabe-f5977babe071",
   "metadata": {},
   "source": [
    "#### 2.4 Performance of best model (CatBoostClassifier) on test data"
   ]
  },
  {
   "cell_type": "code",
   "execution_count": 15,
   "id": "48c96b16-2590-4d84-b9b4-36e9c2b1ca56",
   "metadata": {},
   "outputs": [
    {
     "data": {
      "text/html": [
       "<style>#sk-container-id-1 {color: black;background-color: white;}#sk-container-id-1 pre{padding: 0;}#sk-container-id-1 div.sk-toggleable {background-color: white;}#sk-container-id-1 label.sk-toggleable__label {cursor: pointer;display: block;width: 100%;margin-bottom: 0;padding: 0.3em;box-sizing: border-box;text-align: center;}#sk-container-id-1 label.sk-toggleable__label-arrow:before {content: \"▸\";float: left;margin-right: 0.25em;color: #696969;}#sk-container-id-1 label.sk-toggleable__label-arrow:hover:before {color: black;}#sk-container-id-1 div.sk-estimator:hover label.sk-toggleable__label-arrow:before {color: black;}#sk-container-id-1 div.sk-toggleable__content {max-height: 0;max-width: 0;overflow: hidden;text-align: left;background-color: #f0f8ff;}#sk-container-id-1 div.sk-toggleable__content pre {margin: 0.2em;color: black;border-radius: 0.25em;background-color: #f0f8ff;}#sk-container-id-1 input.sk-toggleable__control:checked~div.sk-toggleable__content {max-height: 200px;max-width: 100%;overflow: auto;}#sk-container-id-1 input.sk-toggleable__control:checked~label.sk-toggleable__label-arrow:before {content: \"▾\";}#sk-container-id-1 div.sk-estimator input.sk-toggleable__control:checked~label.sk-toggleable__label {background-color: #d4ebff;}#sk-container-id-1 div.sk-label input.sk-toggleable__control:checked~label.sk-toggleable__label {background-color: #d4ebff;}#sk-container-id-1 input.sk-hidden--visually {border: 0;clip: rect(1px 1px 1px 1px);clip: rect(1px, 1px, 1px, 1px);height: 1px;margin: -1px;overflow: hidden;padding: 0;position: absolute;width: 1px;}#sk-container-id-1 div.sk-estimator {font-family: monospace;background-color: #f0f8ff;border: 1px dotted black;border-radius: 0.25em;box-sizing: border-box;margin-bottom: 0.5em;}#sk-container-id-1 div.sk-estimator:hover {background-color: #d4ebff;}#sk-container-id-1 div.sk-parallel-item::after {content: \"\";width: 100%;border-bottom: 1px solid gray;flex-grow: 1;}#sk-container-id-1 div.sk-label:hover label.sk-toggleable__label {background-color: #d4ebff;}#sk-container-id-1 div.sk-serial::before {content: \"\";position: absolute;border-left: 1px solid gray;box-sizing: border-box;top: 0;bottom: 0;left: 50%;z-index: 0;}#sk-container-id-1 div.sk-serial {display: flex;flex-direction: column;align-items: center;background-color: white;padding-right: 0.2em;padding-left: 0.2em;position: relative;}#sk-container-id-1 div.sk-item {position: relative;z-index: 1;}#sk-container-id-1 div.sk-parallel {display: flex;align-items: stretch;justify-content: center;background-color: white;position: relative;}#sk-container-id-1 div.sk-item::before, #sk-container-id-1 div.sk-parallel-item::before {content: \"\";position: absolute;border-left: 1px solid gray;box-sizing: border-box;top: 0;bottom: 0;left: 50%;z-index: -1;}#sk-container-id-1 div.sk-parallel-item {display: flex;flex-direction: column;z-index: 1;position: relative;background-color: white;}#sk-container-id-1 div.sk-parallel-item:first-child::after {align-self: flex-end;width: 50%;}#sk-container-id-1 div.sk-parallel-item:last-child::after {align-self: flex-start;width: 50%;}#sk-container-id-1 div.sk-parallel-item:only-child::after {width: 0;}#sk-container-id-1 div.sk-dashed-wrapped {border: 1px dashed gray;margin: 0 0.4em 0.5em 0.4em;box-sizing: border-box;padding-bottom: 0.4em;background-color: white;}#sk-container-id-1 div.sk-label label {font-family: monospace;font-weight: bold;display: inline-block;line-height: 1.2em;}#sk-container-id-1 div.sk-label-container {text-align: center;}#sk-container-id-1 div.sk-container {/* jupyter's `normalize.less` sets `[hidden] { display: none; }` but bootstrap.min.css set `[hidden] { display: none !important; }` so we also need the `!important` here to be able to override the default hidden behavior on the sphinx rendered scikit-learn.org. See: https://github.com/scikit-learn/scikit-learn/issues/21755 */display: inline-block !important;position: relative;}#sk-container-id-1 div.sk-text-repr-fallback {display: none;}</style><div id=\"sk-container-id-1\" class=\"sk-top-container\"><div class=\"sk-text-repr-fallback\"><pre>Pipeline(steps=[(&#x27;standardscaler&#x27;, StandardScaler()),\n",
       "                (&#x27;catboostclassifier&#x27;,\n",
       "                 &lt;catboost.core.CatBoostClassifier object at 0x16279d2d0&gt;)])</pre><b>In a Jupyter environment, please rerun this cell to show the HTML representation or trust the notebook. <br />On GitHub, the HTML representation is unable to render, please try loading this page with nbviewer.org.</b></div><div class=\"sk-container\" hidden><div class=\"sk-item sk-dashed-wrapped\"><div class=\"sk-label-container\"><div class=\"sk-label sk-toggleable\"><input class=\"sk-toggleable__control sk-hidden--visually\" id=\"sk-estimator-id-1\" type=\"checkbox\" ><label for=\"sk-estimator-id-1\" class=\"sk-toggleable__label sk-toggleable__label-arrow\">Pipeline</label><div class=\"sk-toggleable__content\"><pre>Pipeline(steps=[(&#x27;standardscaler&#x27;, StandardScaler()),\n",
       "                (&#x27;catboostclassifier&#x27;,\n",
       "                 &lt;catboost.core.CatBoostClassifier object at 0x16279d2d0&gt;)])</pre></div></div></div><div class=\"sk-serial\"><div class=\"sk-item\"><div class=\"sk-estimator sk-toggleable\"><input class=\"sk-toggleable__control sk-hidden--visually\" id=\"sk-estimator-id-2\" type=\"checkbox\" ><label for=\"sk-estimator-id-2\" class=\"sk-toggleable__label sk-toggleable__label-arrow\">StandardScaler</label><div class=\"sk-toggleable__content\"><pre>StandardScaler()</pre></div></div></div><div class=\"sk-item\"><div class=\"sk-estimator sk-toggleable\"><input class=\"sk-toggleable__control sk-hidden--visually\" id=\"sk-estimator-id-3\" type=\"checkbox\" ><label for=\"sk-estimator-id-3\" class=\"sk-toggleable__label sk-toggleable__label-arrow\">CatBoostClassifier</label><div class=\"sk-toggleable__content\"><pre>&lt;catboost.core.CatBoostClassifier object at 0x16279d2d0&gt;</pre></div></div></div></div></div></div></div>"
      ],
      "text/plain": [
       "Pipeline(steps=[('standardscaler', StandardScaler()),\n",
       "                ('catboostclassifier',\n",
       "                 <catboost.core.CatBoostClassifier object at 0x16279d2d0>)])"
      ]
     },
     "execution_count": 15,
     "metadata": {},
     "output_type": "execute_result"
    }
   ],
   "source": [
    "pipe_catboost.fit(X_train, y_train)"
   ]
  },
  {
   "cell_type": "code",
   "execution_count": 16,
   "id": "49e611e6-63e8-40ab-9d74-e2719a44aed6",
   "metadata": {},
   "outputs": [
    {
     "data": {
      "text/plain": [
       "0.9500113257325085"
      ]
     },
     "execution_count": 16,
     "metadata": {},
     "output_type": "execute_result"
    }
   ],
   "source": [
    "# prediction accuracy on test data\n",
    "pipe_catboost.score(X_test, y_test)"
   ]
  },
  {
   "cell_type": "code",
   "execution_count": 17,
   "id": "fde1e59e-840e-49c4-8999-1a13eed1e0ac",
   "metadata": {},
   "outputs": [
    {
     "data": {
      "text/plain": [
       "0.6534731917141455"
      ]
     },
     "execution_count": 17,
     "metadata": {},
     "output_type": "execute_result"
    }
   ],
   "source": [
    "# prediction recall on test data\n",
    "recall_score(y_test, pipe_catboost.predict(X_test))"
   ]
  },
  {
   "cell_type": "code",
   "execution_count": 18,
   "id": "f8aae399-d58d-4c19-ad78-7ad3625803d3",
   "metadata": {},
   "outputs": [],
   "source": [
    "# output predicted label vs given label (assuming as ground truth)\n",
    "y_pred = pipe_catboost.predict(X_test)\n",
    "\n",
    "pred_df = pd.DataFrame(y_pred, y_test).reset_index()\n",
    "pred_df.columns=['given_label','predited_label']"
   ]
  },
  {
   "cell_type": "code",
   "execution_count": 19,
   "id": "ca99dfdb-9986-4bf6-8350-9afa0c5be760",
   "metadata": {},
   "outputs": [
    {
     "data": {
      "text/html": [
       "<div>\n",
       "<style scoped>\n",
       "    .dataframe tbody tr th:only-of-type {\n",
       "        vertical-align: middle;\n",
       "    }\n",
       "\n",
       "    .dataframe tbody tr th {\n",
       "        vertical-align: top;\n",
       "    }\n",
       "\n",
       "    .dataframe thead th {\n",
       "        text-align: right;\n",
       "    }\n",
       "</style>\n",
       "<table border=\"1\" class=\"dataframe\">\n",
       "  <thead>\n",
       "    <tr style=\"text-align: right;\">\n",
       "      <th></th>\n",
       "      <th>given_label</th>\n",
       "      <th>predited_label</th>\n",
       "    </tr>\n",
       "  </thead>\n",
       "  <tbody>\n",
       "    <tr>\n",
       "      <th>0</th>\n",
       "      <td>0</td>\n",
       "      <td>0</td>\n",
       "    </tr>\n",
       "    <tr>\n",
       "      <th>1</th>\n",
       "      <td>0</td>\n",
       "      <td>0</td>\n",
       "    </tr>\n",
       "    <tr>\n",
       "      <th>2</th>\n",
       "      <td>0</td>\n",
       "      <td>0</td>\n",
       "    </tr>\n",
       "    <tr>\n",
       "      <th>3</th>\n",
       "      <td>0</td>\n",
       "      <td>0</td>\n",
       "    </tr>\n",
       "    <tr>\n",
       "      <th>4</th>\n",
       "      <td>0</td>\n",
       "      <td>0</td>\n",
       "    </tr>\n",
       "    <tr>\n",
       "      <th>...</th>\n",
       "      <td>...</td>\n",
       "      <td>...</td>\n",
       "    </tr>\n",
       "    <tr>\n",
       "      <th>225146</th>\n",
       "      <td>0</td>\n",
       "      <td>0</td>\n",
       "    </tr>\n",
       "    <tr>\n",
       "      <th>225147</th>\n",
       "      <td>0</td>\n",
       "      <td>0</td>\n",
       "    </tr>\n",
       "    <tr>\n",
       "      <th>225148</th>\n",
       "      <td>0</td>\n",
       "      <td>0</td>\n",
       "    </tr>\n",
       "    <tr>\n",
       "      <th>225149</th>\n",
       "      <td>1</td>\n",
       "      <td>1</td>\n",
       "    </tr>\n",
       "    <tr>\n",
       "      <th>225150</th>\n",
       "      <td>0</td>\n",
       "      <td>0</td>\n",
       "    </tr>\n",
       "  </tbody>\n",
       "</table>\n",
       "<p>225151 rows × 2 columns</p>\n",
       "</div>"
      ],
      "text/plain": [
       "        given_label  predited_label\n",
       "0                 0               0\n",
       "1                 0               0\n",
       "2                 0               0\n",
       "3                 0               0\n",
       "4                 0               0\n",
       "...             ...             ...\n",
       "225146            0               0\n",
       "225147            0               0\n",
       "225148            0               0\n",
       "225149            1               1\n",
       "225150            0               0\n",
       "\n",
       "[225151 rows x 2 columns]"
      ]
     },
     "execution_count": 19,
     "metadata": {},
     "output_type": "execute_result"
    }
   ],
   "source": [
    "pred_df"
   ]
  },
  {
   "cell_type": "markdown",
   "id": "29d9d9b4-5bfa-458d-8252-6c46fa82a1c4",
   "metadata": {},
   "source": [
    "**Manually calculate pion efficiency on test data:**"
   ]
  },
  {
   "cell_type": "code",
   "execution_count": 20,
   "id": "22d03e49-35d1-4179-9648-d7e7227cc39d",
   "metadata": {},
   "outputs": [
    {
     "data": {
      "text/plain": [
       "0.6534731917141455"
      ]
     },
     "execution_count": 20,
     "metadata": {},
     "output_type": "execute_result"
    }
   ],
   "source": [
    "# total number of true pion\n",
    "num_pi_true = len(pred_df.query('given_label == 1'))\n",
    "# Ture Positive (correctly predicted as pion)\n",
    "num_pi_TP = len(pred_df.query('given_label == 1 & predited_label == 1'))\n",
    "\n",
    "# recall(True Positive Rate)/pion efficiency\n",
    "pi_efficiency = num_pi_TP/num_pi_true\n",
    "pi_efficiency"
   ]
  },
  {
   "cell_type": "markdown",
   "id": "4c770245-994e-44bb-9844-fce562e5f791",
   "metadata": {},
   "source": [
    "**Manually calculate muon efficiency on test data:**"
   ]
  },
  {
   "cell_type": "code",
   "execution_count": 21,
   "id": "baabe298-7900-459a-8257-b33c75ff99c4",
   "metadata": {},
   "outputs": [
    {
     "data": {
      "text/plain": [
       "0.010425476219242077"
      ]
     },
     "execution_count": 21,
     "metadata": {},
     "output_type": "execute_result"
    }
   ],
   "source": [
    "# total number of true muon\n",
    "num_mu_true = len(pred_df.query('given_label == 0'))\n",
    "# False Positive (incorrectly predicted as pion)\n",
    "num_mu_FP = len(pred_df.query('given_label == 0 & predited_label == 1'))\n",
    "\n",
    "# False Positive Rate/muon efficiency\n",
    "mu_efficiency = num_mu_FP/num_mu_true\n",
    "mu_efficiency"
   ]
  },
  {
   "cell_type": "markdown",
   "id": "e26fd27e-4f6a-4266-a9e4-34bd83f052b2",
   "metadata": {},
   "source": [
    "**show confusion matrix**"
   ]
  },
  {
   "cell_type": "code",
   "execution_count": 22,
   "id": "84c42cdc-e35b-4a96-a000-be40ed890f65",
   "metadata": {},
   "outputs": [
    {
     "name": "stdout",
     "output_type": "stream",
     "text": [
      "[[196577   2071]\n",
      " [  9184  17319]]\n"
     ]
    },
    {
     "data": {
      "image/png": "[encoded data removed]",
      "text/plain": [
       "<Figure size 640x480 with 2 Axes>"
      ]
     },
     "metadata": {},
     "output_type": "display_data"
    }
   ],
   "source": [
    "from sklearn.metrics import confusion_matrix\n",
    "from sklearn.metrics import ConfusionMatrixDisplay\n",
    "\n",
    "cm = ConfusionMatrixDisplay.from_estimator(\n",
    "    pipe_catboost, X_test, y_test, values_format=\"d\", display_labels=[\"muon\", \"pion\"]\n",
    ")\n",
    "TN, FP, FN, TP = confusion_matrix(y_test, y_pred).ravel()\n",
    "print(cm.confusion_matrix)"
   ]
  },
  {
   "cell_type": "markdown",
   "id": "77456338-c763-4c98-8f46-e64e4b97e388",
   "metadata": {},
   "source": [
    "#### 2.5 ROC curves for three classifiers"
   ]
  },
  {
   "cell_type": "markdown",
   "id": "b9c7ad29-1edc-47dc-b1af-2663fd95f894",
   "metadata": {},
   "source": [
    "For a quick comparison purpose, the ROC curve will be plotted for three classifiers from the above selection. "
   ]
  },
  {
   "cell_type": "code",
   "execution_count": 23,
   "id": "caa4c53e-28e6-4005-bb89-ebe6e7dd8bfd",
   "metadata": {},
   "outputs": [],
   "source": [
    "from sklearn.metrics import roc_curve\n",
    "from sklearn.metrics import RocCurveDisplay"
   ]
  },
  {
   "cell_type": "code",
   "execution_count": 24,
   "id": "8094ba96-b8d5-4a53-91bd-cad93ac855d8",
   "metadata": {},
   "outputs": [
    {
     "data": {
      "text/html": [
       "<style>#sk-container-id-2 {color: black;background-color: white;}#sk-container-id-2 pre{padding: 0;}#sk-container-id-2 div.sk-toggleable {background-color: white;}#sk-container-id-2 label.sk-toggleable__label {cursor: pointer;display: block;width: 100%;margin-bottom: 0;padding: 0.3em;box-sizing: border-box;text-align: center;}#sk-container-id-2 label.sk-toggleable__label-arrow:before {content: \"▸\";float: left;margin-right: 0.25em;color: #696969;}#sk-container-id-2 label.sk-toggleable__label-arrow:hover:before {color: black;}#sk-container-id-2 div.sk-estimator:hover label.sk-toggleable__label-arrow:before {color: black;}#sk-container-id-2 div.sk-toggleable__content {max-height: 0;max-width: 0;overflow: hidden;text-align: left;background-color: #f0f8ff;}#sk-container-id-2 div.sk-toggleable__content pre {margin: 0.2em;color: black;border-radius: 0.25em;background-color: #f0f8ff;}#sk-container-id-2 input.sk-toggleable__control:checked~div.sk-toggleable__content {max-height: 200px;max-width: 100%;overflow: auto;}#sk-container-id-2 input.sk-toggleable__control:checked~label.sk-toggleable__label-arrow:before {content: \"▾\";}#sk-container-id-2 div.sk-estimator input.sk-toggleable__control:checked~label.sk-toggleable__label {background-color: #d4ebff;}#sk-container-id-2 div.sk-label input.sk-toggleable__control:checked~label.sk-toggleable__label {background-color: #d4ebff;}#sk-container-id-2 input.sk-hidden--visually {border: 0;clip: rect(1px 1px 1px 1px);clip: rect(1px, 1px, 1px, 1px);height: 1px;margin: -1px;overflow: hidden;padding: 0;position: absolute;width: 1px;}#sk-container-id-2 div.sk-estimator {font-family: monospace;background-color: #f0f8ff;border: 1px dotted black;border-radius: 0.25em;box-sizing: border-box;margin-bottom: 0.5em;}#sk-container-id-2 div.sk-estimator:hover {background-color: #d4ebff;}#sk-container-id-2 div.sk-parallel-item::after {content: \"\";width: 100%;border-bottom: 1px solid gray;flex-grow: 1;}#sk-container-id-2 div.sk-label:hover label.sk-toggleable__label {background-color: #d4ebff;}#sk-container-id-2 div.sk-serial::before {content: \"\";position: absolute;border-left: 1px solid gray;box-sizing: border-box;top: 0;bottom: 0;left: 50%;z-index: 0;}#sk-container-id-2 div.sk-serial {display: flex;flex-direction: column;align-items: center;background-color: white;padding-right: 0.2em;padding-left: 0.2em;position: relative;}#sk-container-id-2 div.sk-item {position: relative;z-index: 1;}#sk-container-id-2 div.sk-parallel {display: flex;align-items: stretch;justify-content: center;background-color: white;position: relative;}#sk-container-id-2 div.sk-item::before, #sk-container-id-2 div.sk-parallel-item::before {content: \"\";position: absolute;border-left: 1px solid gray;box-sizing: border-box;top: 0;bottom: 0;left: 50%;z-index: -1;}#sk-container-id-2 div.sk-parallel-item {display: flex;flex-direction: column;z-index: 1;position: relative;background-color: white;}#sk-container-id-2 div.sk-parallel-item:first-child::after {align-self: flex-end;width: 50%;}#sk-container-id-2 div.sk-parallel-item:last-child::after {align-self: flex-start;width: 50%;}#sk-container-id-2 div.sk-parallel-item:only-child::after {width: 0;}#sk-container-id-2 div.sk-dashed-wrapped {border: 1px dashed gray;margin: 0 0.4em 0.5em 0.4em;box-sizing: border-box;padding-bottom: 0.4em;background-color: white;}#sk-container-id-2 div.sk-label label {font-family: monospace;font-weight: bold;display: inline-block;line-height: 1.2em;}#sk-container-id-2 div.sk-label-container {text-align: center;}#sk-container-id-2 div.sk-container {/* jupyter's `normalize.less` sets `[hidden] { display: none; }` but bootstrap.min.css set `[hidden] { display: none !important; }` so we also need the `!important` here to be able to override the default hidden behavior on the sphinx rendered scikit-learn.org. See: https://github.com/scikit-learn/scikit-learn/issues/21755 */display: inline-block !important;position: relative;}#sk-container-id-2 div.sk-text-repr-fallback {display: none;}</style><div id=\"sk-container-id-2\" class=\"sk-top-container\"><div class=\"sk-text-repr-fallback\"><pre>Pipeline(steps=[(&#x27;standardscaler&#x27;, StandardScaler()),\n",
       "                (&#x27;logisticregression&#x27;,\n",
       "                 LogisticRegression(class_weight=&#x27;balanced&#x27;, max_iter=2000,\n",
       "                                    random_state=123))])</pre><b>In a Jupyter environment, please rerun this cell to show the HTML representation or trust the notebook. <br />On GitHub, the HTML representation is unable to render, please try loading this page with nbviewer.org.</b></div><div class=\"sk-container\" hidden><div class=\"sk-item sk-dashed-wrapped\"><div class=\"sk-label-container\"><div class=\"sk-label sk-toggleable\"><input class=\"sk-toggleable__control sk-hidden--visually\" id=\"sk-estimator-id-4\" type=\"checkbox\" ><label for=\"sk-estimator-id-4\" class=\"sk-toggleable__label sk-toggleable__label-arrow\">Pipeline</label><div class=\"sk-toggleable__content\"><pre>Pipeline(steps=[(&#x27;standardscaler&#x27;, StandardScaler()),\n",
       "                (&#x27;logisticregression&#x27;,\n",
       "                 LogisticRegression(class_weight=&#x27;balanced&#x27;, max_iter=2000,\n",
       "                                    random_state=123))])</pre></div></div></div><div class=\"sk-serial\"><div class=\"sk-item\"><div class=\"sk-estimator sk-toggleable\"><input class=\"sk-toggleable__control sk-hidden--visually\" id=\"sk-estimator-id-5\" type=\"checkbox\" ><label for=\"sk-estimator-id-5\" class=\"sk-toggleable__label sk-toggleable__label-arrow\">StandardScaler</label><div class=\"sk-toggleable__content\"><pre>StandardScaler()</pre></div></div></div><div class=\"sk-item\"><div class=\"sk-estimator sk-toggleable\"><input class=\"sk-toggleable__control sk-hidden--visually\" id=\"sk-estimator-id-6\" type=\"checkbox\" ><label for=\"sk-estimator-id-6\" class=\"sk-toggleable__label sk-toggleable__label-arrow\">LogisticRegression</label><div class=\"sk-toggleable__content\"><pre>LogisticRegression(class_weight=&#x27;balanced&#x27;, max_iter=2000, random_state=123)</pre></div></div></div></div></div></div></div>"
      ],
      "text/plain": [
       "Pipeline(steps=[('standardscaler', StandardScaler()),\n",
       "                ('logisticregression',\n",
       "                 LogisticRegression(class_weight='balanced', max_iter=2000,\n",
       "                                    random_state=123))])"
      ]
     },
     "execution_count": 24,
     "metadata": {},
     "output_type": "execute_result"
    }
   ],
   "source": [
    "# fit logisticregression on training data\n",
    "pipe_lr.fit(X_train, y_train)"
   ]
  },
  {
   "cell_type": "code",
   "execution_count": 25,
   "id": "1750fd28-86c7-4192-bf77-c188e816c434",
   "metadata": {},
   "outputs": [
    {
     "data": {
      "text/html": [
       "<style>#sk-container-id-3 {color: black;background-color: white;}#sk-container-id-3 pre{padding: 0;}#sk-container-id-3 div.sk-toggleable {background-color: white;}#sk-container-id-3 label.sk-toggleable__label {cursor: pointer;display: block;width: 100%;margin-bottom: 0;padding: 0.3em;box-sizing: border-box;text-align: center;}#sk-container-id-3 label.sk-toggleable__label-arrow:before {content: \"▸\";float: left;margin-right: 0.25em;color: #696969;}#sk-container-id-3 label.sk-toggleable__label-arrow:hover:before {color: black;}#sk-container-id-3 div.sk-estimator:hover label.sk-toggleable__label-arrow:before {color: black;}#sk-container-id-3 div.sk-toggleable__content {max-height: 0;max-width: 0;overflow: hidden;text-align: left;background-color: #f0f8ff;}#sk-container-id-3 div.sk-toggleable__content pre {margin: 0.2em;color: black;border-radius: 0.25em;background-color: #f0f8ff;}#sk-container-id-3 input.sk-toggleable__control:checked~div.sk-toggleable__content {max-height: 200px;max-width: 100%;overflow: auto;}#sk-container-id-3 input.sk-toggleable__control:checked~label.sk-toggleable__label-arrow:before {content: \"▾\";}#sk-container-id-3 div.sk-estimator input.sk-toggleable__control:checked~label.sk-toggleable__label {background-color: #d4ebff;}#sk-container-id-3 div.sk-label input.sk-toggleable__control:checked~label.sk-toggleable__label {background-color: #d4ebff;}#sk-container-id-3 input.sk-hidden--visually {border: 0;clip: rect(1px 1px 1px 1px);clip: rect(1px, 1px, 1px, 1px);height: 1px;margin: -1px;overflow: hidden;padding: 0;position: absolute;width: 1px;}#sk-container-id-3 div.sk-estimator {font-family: monospace;background-color: #f0f8ff;border: 1px dotted black;border-radius: 0.25em;box-sizing: border-box;margin-bottom: 0.5em;}#sk-container-id-3 div.sk-estimator:hover {background-color: #d4ebff;}#sk-container-id-3 div.sk-parallel-item::after {content: \"\";width: 100%;border-bottom: 1px solid gray;flex-grow: 1;}#sk-container-id-3 div.sk-label:hover label.sk-toggleable__label {background-color: #d4ebff;}#sk-container-id-3 div.sk-serial::before {content: \"\";position: absolute;border-left: 1px solid gray;box-sizing: border-box;top: 0;bottom: 0;left: 50%;z-index: 0;}#sk-container-id-3 div.sk-serial {display: flex;flex-direction: column;align-items: center;background-color: white;padding-right: 0.2em;padding-left: 0.2em;position: relative;}#sk-container-id-3 div.sk-item {position: relative;z-index: 1;}#sk-container-id-3 div.sk-parallel {display: flex;align-items: stretch;justify-content: center;background-color: white;position: relative;}#sk-container-id-3 div.sk-item::before, #sk-container-id-3 div.sk-parallel-item::before {content: \"\";position: absolute;border-left: 1px solid gray;box-sizing: border-box;top: 0;bottom: 0;left: 50%;z-index: -1;}#sk-container-id-3 div.sk-parallel-item {display: flex;flex-direction: column;z-index: 1;position: relative;background-color: white;}#sk-container-id-3 div.sk-parallel-item:first-child::after {align-self: flex-end;width: 50%;}#sk-container-id-3 div.sk-parallel-item:last-child::after {align-self: flex-start;width: 50%;}#sk-container-id-3 div.sk-parallel-item:only-child::after {width: 0;}#sk-container-id-3 div.sk-dashed-wrapped {border: 1px dashed gray;margin: 0 0.4em 0.5em 0.4em;box-sizing: border-box;padding-bottom: 0.4em;background-color: white;}#sk-container-id-3 div.sk-label label {font-family: monospace;font-weight: bold;display: inline-block;line-height: 1.2em;}#sk-container-id-3 div.sk-label-container {text-align: center;}#sk-container-id-3 div.sk-container {/* jupyter's `normalize.less` sets `[hidden] { display: none; }` but bootstrap.min.css set `[hidden] { display: none !important; }` so we also need the `!important` here to be able to override the default hidden behavior on the sphinx rendered scikit-learn.org. See: https://github.com/scikit-learn/scikit-learn/issues/21755 */display: inline-block !important;position: relative;}#sk-container-id-3 div.sk-text-repr-fallback {display: none;}</style><div id=\"sk-container-id-3\" class=\"sk-top-container\"><div class=\"sk-text-repr-fallback\"><pre>Pipeline(steps=[(&#x27;standardscaler&#x27;, StandardScaler()),\n",
       "                (&#x27;randomforestclassifier&#x27;,\n",
       "                 RandomForestClassifier(class_weight=&#x27;balanced&#x27;,\n",
       "                                        random_state=123))])</pre><b>In a Jupyter environment, please rerun this cell to show the HTML representation or trust the notebook. <br />On GitHub, the HTML representation is unable to render, please try loading this page with nbviewer.org.</b></div><div class=\"sk-container\" hidden><div class=\"sk-item sk-dashed-wrapped\"><div class=\"sk-label-container\"><div class=\"sk-label sk-toggleable\"><input class=\"sk-toggleable__control sk-hidden--visually\" id=\"sk-estimator-id-7\" type=\"checkbox\" ><label for=\"sk-estimator-id-7\" class=\"sk-toggleable__label sk-toggleable__label-arrow\">Pipeline</label><div class=\"sk-toggleable__content\"><pre>Pipeline(steps=[(&#x27;standardscaler&#x27;, StandardScaler()),\n",
       "                (&#x27;randomforestclassifier&#x27;,\n",
       "                 RandomForestClassifier(class_weight=&#x27;balanced&#x27;,\n",
       "                                        random_state=123))])</pre></div></div></div><div class=\"sk-serial\"><div class=\"sk-item\"><div class=\"sk-estimator sk-toggleable\"><input class=\"sk-toggleable__control sk-hidden--visually\" id=\"sk-estimator-id-8\" type=\"checkbox\" ><label for=\"sk-estimator-id-8\" class=\"sk-toggleable__label sk-toggleable__label-arrow\">StandardScaler</label><div class=\"sk-toggleable__content\"><pre>StandardScaler()</pre></div></div></div><div class=\"sk-item\"><div class=\"sk-estimator sk-toggleable\"><input class=\"sk-toggleable__control sk-hidden--visually\" id=\"sk-estimator-id-9\" type=\"checkbox\" ><label for=\"sk-estimator-id-9\" class=\"sk-toggleable__label sk-toggleable__label-arrow\">RandomForestClassifier</label><div class=\"sk-toggleable__content\"><pre>RandomForestClassifier(class_weight=&#x27;balanced&#x27;, random_state=123)</pre></div></div></div></div></div></div></div>"
      ],
      "text/plain": [
       "Pipeline(steps=[('standardscaler', StandardScaler()),\n",
       "                ('randomforestclassifier',\n",
       "                 RandomForestClassifier(class_weight='balanced',\n",
       "                                        random_state=123))])"
      ]
     },
     "execution_count": 25,
     "metadata": {},
     "output_type": "execute_result"
    }
   ],
   "source": [
    "# fit randomforestclassifier on training data\n",
    "pipe_rf.fit(X_train, y_train)"
   ]
  },
  {
   "cell_type": "code",
   "execution_count": 26,
   "id": "4fb888d5-4455-455e-b642-bb7c5967884d",
   "metadata": {},
   "outputs": [
    {
     "data": {
      "image/png": "[encoded data removed]",
      "text/plain": [
       "<Figure size 640x480 with 1 Axes>"
      ]
     },
     "metadata": {},
     "output_type": "display_data"
    }
   ],
   "source": [
    "# plot ROC curves for three classifiers\n",
    "fpr_lr, tpr_lr, thresholds_lr = roc_curve(y_test, pipe_lr.predict_proba(X_test)[:, 1])\n",
    "fpr_rf, tpr_rf, thresholds_rf = roc_curve(y_test, pipe_rf.predict_proba(X_test)[:, 1])\n",
    "fpr_cb, tpr_cb, thresholds_cb = roc_curve(y_test, pipe_catboost.predict_proba(X_test)[:, 1])\n",
    "\n",
    "plt.plot(fpr_cb, tpr_cb, label=\"catboost\")\n",
    "plt.plot(fpr_rf, tpr_rf, label=\"randomforest\")\n",
    "plt.plot(fpr_lr, tpr_lr, label=\"logistic regression\")\n",
    "\n",
    "plt.xlabel(\"False positive rate (Positive label: 1 for pion)\")\n",
    "plt.ylabel(\"True positive rate (Recall)\")\n",
    "plt.legend(loc=\"best\")\n",
    "plt.title(\"ROC Curves for pions from different classifiers\");"
   ]
  },
  {
   "cell_type": "markdown",
   "id": "2af86375-5ce2-4f5c-bf06-0539040bc167",
   "metadata": {},
   "source": [
    "**More works to be performed**:  \n",
    "\n",
    "(1) Model interpretation and feature importance analysis.   \n",
    "(2) Experiment the modeling approach on other randomly sampled data."
   ]
  },
  {
   "cell_type": "markdown",
   "id": "753d4e52-f6e5-4b28-ba32-a7663f2ed2f0",
   "metadata": {},
   "source": [
    "### APPENDIX"
   ]
  },
  {
   "cell_type": "markdown",
   "id": "d7c15762-13e7-4281-8366-2b76a0debd43",
   "metadata": {},
   "source": [
    "The follow two appendixes are for the reference how the `grouped_hit_data` used in the notebook was sampled and processed from the raw data 'CaloRICH_Run11100_CTRL_v1.h5'.  \n",
    "\n",
    "**Appendix A** - Read raw data, uniform sample, and create df_hit_data   \n",
    "\n",
    "**Appendix B** - Feature engineering"
   ]
  },
  {
   "cell_type": "code",
   "execution_count": null,
   "id": "ae831e01-d0c2-4389-9aed-24446be87a3a",
   "metadata": {},
   "outputs": [],
   "source": []
  },
  {
   "cell_type": "markdown",
   "id": "b8cd0542-b396-4812-ae24-7b5587659e9f",
   "metadata": {},
   "source": [
    "**A few preliminary experiments as below**:"
   ]
  },
  {
   "cell_type": "markdown",
   "id": "d433fd64-096b-4f6d-a3e5-8b217a938457",
   "metadata": {},
   "source": [
    "**Catboost deal with imbalanced data**"
   ]
  },
  {
   "cell_type": "code",
   "execution_count": 27,
   "id": "709630bb-a2af-42a0-b2b0-f112027adcd8",
   "metadata": {},
   "outputs": [
    {
     "data": {
      "text/plain": [
       "0    597044\n",
       "1     78407\n",
       "Name: label, dtype: int64"
      ]
     },
     "execution_count": 27,
     "metadata": {},
     "output_type": "execute_result"
    }
   ],
   "source": [
    "y_train.value_counts()"
   ]
  },
  {
   "cell_type": "code",
   "execution_count": 28,
   "id": "230d1549-4691-4ce6-924f-b06c2b7724f0",
   "metadata": {},
   "outputs": [
    {
     "data": {
      "text/plain": [
       "7.614677260958843"
      ]
     },
     "execution_count": 28,
     "metadata": {},
     "output_type": "execute_result"
    }
   ],
   "source": [
    "597044/78407"
   ]
  },
  {
   "cell_type": "code",
   "execution_count": 29,
   "id": "b6eada6c-9f3e-4c66-8491-dbcd8b900cfb",
   "metadata": {},
   "outputs": [],
   "source": [
    "# set scale_pos_weight to deal with class imbalance\n",
    "# reference: https://www.kaggle.com/code/kaanboke/xgboost-lightgbm-catboost-imbalanced-data\n",
    "pipe_catboost_balanced = make_pipeline(\n",
    "    preprocessor, CatBoostClassifier(verbose=0, \n",
    "                                     random_state=123,\n",
    "                                     scale_pos_weight=7))"
   ]
  },
  {
   "cell_type": "code",
   "execution_count": 30,
   "id": "a6419624-49e7-4533-956c-c3a139110e22",
   "metadata": {},
   "outputs": [
    {
     "name": "stdout",
     "output_type": "stream",
     "text": [
      "CPU times: user 12min 50s, sys: 37.7 s, total: 13min 28s\n",
      "Wall time: 2min 17s\n"
     ]
    },
    {
     "data": {
      "text/html": [
       "<div>\n",
       "<style scoped>\n",
       "    .dataframe tbody tr th:only-of-type {\n",
       "        vertical-align: middle;\n",
       "    }\n",
       "\n",
       "    .dataframe tbody tr th {\n",
       "        vertical-align: top;\n",
       "    }\n",
       "\n",
       "    .dataframe thead th {\n",
       "        text-align: right;\n",
       "    }\n",
       "</style>\n",
       "<table border=\"1\" class=\"dataframe\">\n",
       "  <thead>\n",
       "    <tr style=\"text-align: right;\">\n",
       "      <th></th>\n",
       "      <th>fit_time</th>\n",
       "      <th>score_time</th>\n",
       "      <th>test_accuracy</th>\n",
       "      <th>train_accuracy</th>\n",
       "      <th>test_precision</th>\n",
       "      <th>train_precision</th>\n",
       "      <th>test_recall</th>\n",
       "      <th>train_recall</th>\n",
       "      <th>test_f1</th>\n",
       "      <th>train_f1</th>\n",
       "    </tr>\n",
       "  </thead>\n",
       "  <tbody>\n",
       "    <tr>\n",
       "      <th>0</th>\n",
       "      <td>26.728 (+/- 0.905)</td>\n",
       "      <td>0.137 (+/- 0.005)</td>\n",
       "      <td>0.919 (+/- 0.000)</td>\n",
       "      <td>0.927 (+/- 0.000)</td>\n",
       "      <td>0.602 (+/- 0.002)</td>\n",
       "      <td>0.625 (+/- 0.002)</td>\n",
       "      <td>0.891 (+/- 0.002)</td>\n",
       "      <td>0.928 (+/- 0.001)</td>\n",
       "      <td>0.718 (+/- 0.001)</td>\n",
       "      <td>0.747 (+/- 0.001)</td>\n",
       "    </tr>\n",
       "  </tbody>\n",
       "</table>\n",
       "</div>"
      ],
      "text/plain": [
       "             fit_time         score_time      test_accuracy  \\\n",
       "0  26.728 (+/- 0.905)  0.137 (+/- 0.005)  0.919 (+/- 0.000)   \n",
       "\n",
       "      train_accuracy     test_precision    train_precision        test_recall  \\\n",
       "0  0.927 (+/- 0.000)  0.602 (+/- 0.002)  0.625 (+/- 0.002)  0.891 (+/- 0.002)   \n",
       "\n",
       "        train_recall            test_f1           train_f1  \n",
       "0  0.928 (+/- 0.001)  0.718 (+/- 0.001)  0.747 (+/- 0.001)  "
      ]
     },
     "execution_count": 30,
     "metadata": {},
     "output_type": "execute_result"
    }
   ],
   "source": [
    "%%time\n",
    "result_cat_balanced = mean_std_cross_val_scores(\n",
    "    pipe_catboost_balanced, X_train, y_train, return_train_score=True, scoring=classification_metrics\n",
    ")\n",
    "\n",
    "pd.DataFrame(result_cat_balanced).T"
   ]
  },
  {
   "cell_type": "code",
   "execution_count": 31,
   "id": "8daf2dfe-90a7-467a-bfcf-68e87761efa2",
   "metadata": {},
   "outputs": [
    {
     "data": {
      "text/html": [
       "<style>#sk-container-id-4 {color: black;background-color: white;}#sk-container-id-4 pre{padding: 0;}#sk-container-id-4 div.sk-toggleable {background-color: white;}#sk-container-id-4 label.sk-toggleable__label {cursor: pointer;display: block;width: 100%;margin-bottom: 0;padding: 0.3em;box-sizing: border-box;text-align: center;}#sk-container-id-4 label.sk-toggleable__label-arrow:before {content: \"▸\";float: left;margin-right: 0.25em;color: #696969;}#sk-container-id-4 label.sk-toggleable__label-arrow:hover:before {color: black;}#sk-container-id-4 div.sk-estimator:hover label.sk-toggleable__label-arrow:before {color: black;}#sk-container-id-4 div.sk-toggleable__content {max-height: 0;max-width: 0;overflow: hidden;text-align: left;background-color: #f0f8ff;}#sk-container-id-4 div.sk-toggleable__content pre {margin: 0.2em;color: black;border-radius: 0.25em;background-color: #f0f8ff;}#sk-container-id-4 input.sk-toggleable__control:checked~div.sk-toggleable__content {max-height: 200px;max-width: 100%;overflow: auto;}#sk-container-id-4 input.sk-toggleable__control:checked~label.sk-toggleable__label-arrow:before {content: \"▾\";}#sk-container-id-4 div.sk-estimator input.sk-toggleable__control:checked~label.sk-toggleable__label {background-color: #d4ebff;}#sk-container-id-4 div.sk-label input.sk-toggleable__control:checked~label.sk-toggleable__label {background-color: #d4ebff;}#sk-container-id-4 input.sk-hidden--visually {border: 0;clip: rect(1px 1px 1px 1px);clip: rect(1px, 1px, 1px, 1px);height: 1px;margin: -1px;overflow: hidden;padding: 0;position: absolute;width: 1px;}#sk-container-id-4 div.sk-estimator {font-family: monospace;background-color: #f0f8ff;border: 1px dotted black;border-radius: 0.25em;box-sizing: border-box;margin-bottom: 0.5em;}#sk-container-id-4 div.sk-estimator:hover {background-color: #d4ebff;}#sk-container-id-4 div.sk-parallel-item::after {content: \"\";width: 100%;border-bottom: 1px solid gray;flex-grow: 1;}#sk-container-id-4 div.sk-label:hover label.sk-toggleable__label {background-color: #d4ebff;}#sk-container-id-4 div.sk-serial::before {content: \"\";position: absolute;border-left: 1px solid gray;box-sizing: border-box;top: 0;bottom: 0;left: 50%;z-index: 0;}#sk-container-id-4 div.sk-serial {display: flex;flex-direction: column;align-items: center;background-color: white;padding-right: 0.2em;padding-left: 0.2em;position: relative;}#sk-container-id-4 div.sk-item {position: relative;z-index: 1;}#sk-container-id-4 div.sk-parallel {display: flex;align-items: stretch;justify-content: center;background-color: white;position: relative;}#sk-container-id-4 div.sk-item::before, #sk-container-id-4 div.sk-parallel-item::before {content: \"\";position: absolute;border-left: 1px solid gray;box-sizing: border-box;top: 0;bottom: 0;left: 50%;z-index: -1;}#sk-container-id-4 div.sk-parallel-item {display: flex;flex-direction: column;z-index: 1;position: relative;background-color: white;}#sk-container-id-4 div.sk-parallel-item:first-child::after {align-self: flex-end;width: 50%;}#sk-container-id-4 div.sk-parallel-item:last-child::after {align-self: flex-start;width: 50%;}#sk-container-id-4 div.sk-parallel-item:only-child::after {width: 0;}#sk-container-id-4 div.sk-dashed-wrapped {border: 1px dashed gray;margin: 0 0.4em 0.5em 0.4em;box-sizing: border-box;padding-bottom: 0.4em;background-color: white;}#sk-container-id-4 div.sk-label label {font-family: monospace;font-weight: bold;display: inline-block;line-height: 1.2em;}#sk-container-id-4 div.sk-label-container {text-align: center;}#sk-container-id-4 div.sk-container {/* jupyter's `normalize.less` sets `[hidden] { display: none; }` but bootstrap.min.css set `[hidden] { display: none !important; }` so we also need the `!important` here to be able to override the default hidden behavior on the sphinx rendered scikit-learn.org. See: https://github.com/scikit-learn/scikit-learn/issues/21755 */display: inline-block !important;position: relative;}#sk-container-id-4 div.sk-text-repr-fallback {display: none;}</style><div id=\"sk-container-id-4\" class=\"sk-top-container\"><div class=\"sk-text-repr-fallback\"><pre>Pipeline(steps=[(&#x27;standardscaler&#x27;, StandardScaler()),\n",
       "                (&#x27;catboostclassifier&#x27;,\n",
       "                 &lt;catboost.core.CatBoostClassifier object at 0x1402f2680&gt;)])</pre><b>In a Jupyter environment, please rerun this cell to show the HTML representation or trust the notebook. <br />On GitHub, the HTML representation is unable to render, please try loading this page with nbviewer.org.</b></div><div class=\"sk-container\" hidden><div class=\"sk-item sk-dashed-wrapped\"><div class=\"sk-label-container\"><div class=\"sk-label sk-toggleable\"><input class=\"sk-toggleable__control sk-hidden--visually\" id=\"sk-estimator-id-10\" type=\"checkbox\" ><label for=\"sk-estimator-id-10\" class=\"sk-toggleable__label sk-toggleable__label-arrow\">Pipeline</label><div class=\"sk-toggleable__content\"><pre>Pipeline(steps=[(&#x27;standardscaler&#x27;, StandardScaler()),\n",
       "                (&#x27;catboostclassifier&#x27;,\n",
       "                 &lt;catboost.core.CatBoostClassifier object at 0x1402f2680&gt;)])</pre></div></div></div><div class=\"sk-serial\"><div class=\"sk-item\"><div class=\"sk-estimator sk-toggleable\"><input class=\"sk-toggleable__control sk-hidden--visually\" id=\"sk-estimator-id-11\" type=\"checkbox\" ><label for=\"sk-estimator-id-11\" class=\"sk-toggleable__label sk-toggleable__label-arrow\">StandardScaler</label><div class=\"sk-toggleable__content\"><pre>StandardScaler()</pre></div></div></div><div class=\"sk-item\"><div class=\"sk-estimator sk-toggleable\"><input class=\"sk-toggleable__control sk-hidden--visually\" id=\"sk-estimator-id-12\" type=\"checkbox\" ><label for=\"sk-estimator-id-12\" class=\"sk-toggleable__label sk-toggleable__label-arrow\">CatBoostClassifier</label><div class=\"sk-toggleable__content\"><pre>&lt;catboost.core.CatBoostClassifier object at 0x1402f2680&gt;</pre></div></div></div></div></div></div></div>"
      ],
      "text/plain": [
       "Pipeline(steps=[('standardscaler', StandardScaler()),\n",
       "                ('catboostclassifier',\n",
       "                 <catboost.core.CatBoostClassifier object at 0x1402f2680>)])"
      ]
     },
     "execution_count": 31,
     "metadata": {},
     "output_type": "execute_result"
    }
   ],
   "source": [
    "pipe_catboost_balanced.fit(X_train, y_train)"
   ]
  },
  {
   "cell_type": "code",
   "execution_count": 32,
   "id": "ca2432e4-1042-4a7c-b9ce-7e5c2a727894",
   "metadata": {},
   "outputs": [
    {
     "data": {
      "text/plain": [
       "0.8958231143644115"
      ]
     },
     "execution_count": 32,
     "metadata": {},
     "output_type": "execute_result"
    }
   ],
   "source": [
    "# prediction recall on test data\n",
    "recall_score(y_test, pipe_catboost_balanced.predict(X_test))"
   ]
  },
  {
   "cell_type": "code",
   "execution_count": 33,
   "id": "7f15159a-5b51-4a6a-8ea5-58b93d3b1554",
   "metadata": {},
   "outputs": [
    {
     "data": {
      "text/plain": [
       "0.9196672455374393"
      ]
     },
     "execution_count": 33,
     "metadata": {},
     "output_type": "execute_result"
    }
   ],
   "source": [
    "pipe_catboost_balanced.score(X_test, y_test)"
   ]
  },
  {
   "cell_type": "code",
   "execution_count": 34,
   "id": "3f3e0469-fdfd-4495-a231-fa41caf4b037",
   "metadata": {},
   "outputs": [],
   "source": [
    "# output predicted label vs given label (assuming as ground truth)\n",
    "y_pred = pipe_catboost_balanced.predict(X_test)\n",
    "\n",
    "pred_df = pd.DataFrame(y_pred, y_test).reset_index()\n",
    "pred_df.columns=['given_label','predited_label']"
   ]
  },
  {
   "cell_type": "code",
   "execution_count": 35,
   "id": "ade211c1-ca6a-44c3-83bd-683677dd171c",
   "metadata": {},
   "outputs": [
    {
     "data": {
      "text/plain": [
       "0.07715154444041722"
      ]
     },
     "execution_count": 35,
     "metadata": {},
     "output_type": "execute_result"
    }
   ],
   "source": [
    "# total number of true muon\n",
    "num_mu_true = len(pred_df.query('given_label == 0'))\n",
    "# False Positive (incorrectly predicted as pion)\n",
    "num_mu_FP = len(pred_df.query('given_label == 0 & predited_label == 1'))\n",
    "\n",
    "# False Positive Rate/muon efficiency\n",
    "mu_efficiency = num_mu_FP/num_mu_true\n",
    "mu_efficiency"
   ]
  },
  {
   "cell_type": "code",
   "execution_count": 36,
   "id": "f99d42db-0cc9-4963-b7fb-5e09d8aae513",
   "metadata": {},
   "outputs": [
    {
     "data": {
      "image/png": "[encoded data removed]",
      "text/plain": [
       "<Figure size 640x480 with 1 Axes>"
      ]
     },
     "metadata": {},
     "output_type": "display_data"
    }
   ],
   "source": [
    "# plot ROC curves for three classifiers\n",
    "fpr_cb, tpr_cb, thresholds_cb = roc_curve(y_test, pipe_catboost_balanced.predict_proba(X_test)[:, 1])\n",
    "\n",
    "plt.plot(fpr_cb, tpr_cb, label=\"catboost_balanced\")\n",
    "plt.plot(fpr_rf, tpr_rf, label=\"randomforest\")\n",
    "plt.plot(fpr_lr, tpr_lr, label=\"logistic regression\")\n",
    "\n",
    "plt.xlabel(\"False positive rate (Positive label: 1 for pion)\")\n",
    "plt.ylabel(\"True positive rate (Recall)\")\n",
    "plt.legend(loc=\"best\")\n",
    "plt.title(\"ROC Curves for pions from different classifiers\");"
   ]
  }
 ],
 "metadata": {
  "kernelspec": {
   "display_name": "Python [conda env:591]",
   "language": "python",
   "name": "conda-env-591-py"
  },
  "language_info": {
   "codemirror_mode": {
    "name": "ipython",
    "version": 3
   },
   "file_extension": ".py",
   "mimetype": "text/x-python",
   "name": "python",
   "nbconvert_exporter": "python",
   "pygments_lexer": "ipython3",
   "version": "3.10.8"
  }
 },
 "nbformat": 4,
 "nbformat_minor": 5
}
